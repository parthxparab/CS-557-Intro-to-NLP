{
 "cells": [
  {
   "cell_type": "markdown",
   "metadata": {},
   "source": [
    "Import statements"
   ]
  },
  {
   "cell_type": "code",
   "execution_count": 24,
   "metadata": {},
   "outputs": [],
   "source": [
    "from nltk.tokenize import sent_tokenize, word_tokenize \n",
    "from nltk.corpus import gutenberg"
   ]
  },
  {
   "cell_type": "code",
   "execution_count": 25,
   "metadata": {},
   "outputs": [],
   "source": [
    "wrd = gutenberg.words('carroll-alice.txt')\n",
    "book = ''\n",
    "for word in wrd:\n",
    "    book = book + word + ' '\n",
    "sentences = sent_tokenize(book)\n",
    "word_count = lambda sentence: len(word_tokenize(sentence))\n",
    "longestsent = max(sentences, key=word_count)\n"
   ]
  },
  {
   "cell_type": "code",
   "execution_count": 26,
   "metadata": {},
   "outputs": [
    {
     "name": "stdout",
     "output_type": "stream",
     "text": [
      "\n",
      "Name of the corpus is: carroll-alice.txt\n",
      "\n",
      "Longest sentence found using sentence tokenizer: \n",
      "\n",
      " Hardly knowing what she did , she picked up a little bit of stick , and held it out to the puppy ; whereupon the puppy jumped into the air off all its feet at once , with a yelp of delight , and rushed at the stick , and made believe to worry it ; then Alice dodged behind a great thistle , to keep herself from being run over ; and the moment she appeared on the other side , the puppy made another rush at the stick , and tumbled head over heels in its hurry to get hold of it ; then Alice , thinking it was very like having a game of play with a cart - horse , and expecting every moment to be trampled under its feet , ran round the thistle again ; then the puppy began a series of short charges at the stick , running a very little way forwards each time and a long way back , and barking hoarsely all the while , till at last it sat down a good way off , panting , with its tongue hanging out of its mouth , and its great eyes half shut .\n",
      "\n",
      "Length of the above sentence:  944\n",
      "Longest sentence between two consecutive periods: \n",
      "\n",
      " London is the capital of Paris , and Paris is the capital of Rome , and Rome -- no , THAT ' S all wrong , I ' m certain ! I must have been changed for Mabel ! I ' ll try and say \" How doth the little --\"' and she crossed her hands on her lap as if she were saying lessons , and began to repeat it , but her voice sounded hoarse and strange , and the words did not come the same as they used to do :-- ' How doth the little crocodile Improve his shining tail , And pour the waters of the Nile On every golden scale ! ' How cheerfully he seems to grin , How neatly spread his claws , And welcome little fishes in With gently smiling jaws !' ' I ' m sure those are not the right words ,' said poor Alice , and her eyes filled with tears again as she went on , ' I must be Mabel after all , and I shall have to go and live in that poky little house , and have next to no toys to play with , and oh ! ever so many lessons to learn ! No , I ' ve made up my mind about it ; if I ' m Mabel , I ' ll stay down here ! It ' ll be no use their putting their heads down and saying \" Come up again , dear !\" I shall only look up and say \" Who am I then ? Tell me that first , and then , if I like being that person , I ' ll come up : if not , I ' ll stay down here till I ' m somebody else \"-- but , oh dear !' cried Alice , with a sudden burst of tears , ' I do wish they WOULD put their heads down ! I am so VERY tired of being all alone here !' As she said this she looked down at her hands , and was surprised to see that she had put on one of the Rabbit ' s little white kid gloves while she was talking \n",
      "\n",
      "Length of the above sentence:  1595\n"
     ]
    }
   ],
   "source": [
    "print(\"\\nName of the corpus is: carroll-alice.txt\\n\")\n",
    "print('Longest sentence found using sentence tokenizer: \\n\\n', longestsent) \n",
    "print('\\nLength of the above sentence: ', len(longestsent))\n",
    "sentences = book.split(\". \")\n",
    "longest_sent = max(sentences, key=len)\n",
    "print('Longest sentence between two consecutive periods: \\n\\n', longest_sent)\n",
    "print('\\nLength of the above sentence: ', len(longest_sent))"
   ]
  },
  {
   "cell_type": "code",
   "execution_count": 27,
   "metadata": {},
   "outputs": [],
   "source": [
    "wrd = gutenberg.words('bryant-stories.txt')\n",
    "book = ''\n",
    "for word in wrd:\n",
    "    book = book + word + ' '\n",
    "sentences = sent_tokenize(book)\n",
    "word_count = lambda sentence: len(word_tokenize(sentence))\n"
   ]
  },
  {
   "cell_type": "code",
   "execution_count": 28,
   "metadata": {},
   "outputs": [
    {
     "name": "stdout",
     "output_type": "stream",
     "text": [
      "\n",
      "Name of the corpus is: bryant-stories.txt\n",
      "\n",
      "Longest sentence found using sentence tokenizer: \n",
      "\n",
      " David looked to see what the trouble was , and he saw a strange sight : down the slope of the opposite mountain came striding a Philistine warrior , calling out something in a taunting voice ; he was a gigantic man , the largest David had ever seen , and he was covered with armour , that shone in the sun : he had a helmet of brass upon his head , and he was armed with a coat of mail , and he had greaves of brass upon his legs , and a target of brass between his shoulders ; his spear was so tremendous that the staff of it was like a weaver ' s beam , and his shield so great that a man went before him , to carry it . \"\n",
      "\n",
      "Length of the above sentence:  624\n",
      "\n",
      "Longest sentence between two consecutive periods: \n",
      "\n",
      " When David came before Saul , he said to the king , \" Let no man ' s heart fail because of him ; thy servant will go and fight with this Philistine .\" But Saul looked at David , and said , \" Thou art not able to go against this Philistine , to fight with him , for thou art but a youth , and he has been a man of war from his youth .\" Then David said to Saul , \" Once I was keeping my father ' s sheep , and there came a lion , and a bear , and took a lamb out of the flock ; and I went out after the lion , and struck him ; and delivered the lamb out of his mouth , and when he arose against me , I caught him by the beard , and struck him , and slew him ! Thy servant slew both the lion and the bear ; and this Philistine shall be as one of them , for he hath defied the armies of the living God \n",
      "\n",
      "Length of the above sentence:  798\n"
     ]
    }
   ],
   "source": [
    "print(\"\\nName of the corpus is: bryant-stories.txt\")\n",
    "longestsent = max(sentences, key=word_count)\n",
    "print('\\nLongest sentence found using sentence tokenizer: \\n\\n', longestsent) \n",
    "print('\\nLength of the above sentence: ', len(longestsent))\n",
    "sentences = book.split(\". \")\n",
    "longest_sent = max(sentences, key=len)\n",
    "print('\\nLongest sentence between two consecutive periods: \\n\\n', longest_sent)\n",
    "print('\\nLength of the above sentence: ', len(longest_sent))"
   ]
  },
  {
   "cell_type": "code",
   "execution_count": 29,
   "metadata": {},
   "outputs": [],
   "source": [
    "wrd = gutenberg.words('burgess-busterbrown.txt')\n",
    "book = ''\n",
    "for word in wrd:\n",
    "    book = book + word + ' '\n",
    "sentences = sent_tokenize(book)\n",
    "word_count = lambda sentence: len(word_tokenize(sentence))\n",
    "longestsent = max(sentences, key=word_count)"
   ]
  },
  {
   "cell_type": "code",
   "execution_count": 30,
   "metadata": {},
   "outputs": [
    {
     "name": "stdout",
     "output_type": "stream",
     "text": [
      "\n",
      "Name of the corpus is: burgess-busterbrown.txt\n",
      "\n",
      "Longest sentence found using sentence tokenizer: \n",
      "\n",
      " Sammy Jay looked at Blacky the Crow , and Blacky looked at Chatterer , and Chatterer looked at Happy Jack , and Happy Jack looked at Peter Rabbit , and Peter looked at Unc ' Billy Possum , and Unc ' Billy looked at Bobby Coon , and Bobby looked at Johnny Chuck , and Johnny looked at Reddy Fox , and Reddy looked at Jimmy Skunk , and Jimmy looked at Billy Mink , and Billy looked at Little Joe Otter , and for a minute nobody could say a word .\n",
      "\n",
      "Length of the above sentence:  444\n",
      "\n",
      "Longest sentence between two consecutive periods: \n",
      "\n",
      " And so they reached the edge of the Green Forest , Buster Bear running as hard as ever he could , Sammy Jay flying just behind him and screaming , \" Thief , thief , thief !\" at the top of his lungs , and behind him Blacky the Crow , trying to catch up and yelling as loud as he could , \" Caw , caw , caw ! Come on , everybody ! Come on ! Come on !\" Poor Buster ! It was bad enough to be frightened almost to death as he had been up in the Old Pasture when the pail had caught over his head just as Farmer Brown ' s boy had yelled at him \n",
      "\n",
      "Length of the above sentence:  537\n"
     ]
    }
   ],
   "source": [
    "print(\"\\nName of the corpus is: burgess-busterbrown.txt\")\n",
    "print('\\nLongest sentence found using sentence tokenizer: \\n\\n', longestsent) \n",
    "print('\\nLength of the above sentence: ', len(longestsent))\n",
    "sentences = book.split(\". \")\n",
    "longest_sent = max(sentences, key=len)\n",
    "print('\\nLongest sentence between two consecutive periods: \\n\\n', longest_sent)\n",
    "print('\\nLength of the above sentence: ', len(longest_sent))"
   ]
  },
  {
   "cell_type": "markdown",
   "metadata": {},
   "source": [
    "The above outputs show that both approaches show different outputs with different lengths and no resemblance"
   ]
  },
  {
   "cell_type": "code",
   "execution_count": null,
   "metadata": {},
   "outputs": [],
   "source": []
  }
 ],
 "metadata": {
  "kernelspec": {
   "display_name": "Python 3",
   "language": "python",
   "name": "python3"
  },
  "language_info": {
   "codemirror_mode": {
    "name": "ipython",
    "version": 3
   },
   "file_extension": ".py",
   "mimetype": "text/x-python",
   "name": "python",
   "nbconvert_exporter": "python",
   "pygments_lexer": "ipython3",
   "version": "3.7.7"
  }
 },
 "nbformat": 4,
 "nbformat_minor": 4
}
