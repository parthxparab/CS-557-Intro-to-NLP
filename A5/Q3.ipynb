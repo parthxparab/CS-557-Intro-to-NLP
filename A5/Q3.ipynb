{
 "cells": [
  {
   "cell_type": "markdown",
   "metadata": {},
   "source": [
    "### Import Statements"
   ]
  },
  {
   "cell_type": "code",
   "execution_count": 10,
   "metadata": {},
   "outputs": [],
   "source": [
    "import nltk\n",
    "import nltk.corpus\n",
    "from nltk.corpus import brown\n",
    "from nltk.text import Text"
   ]
  },
  {
   "cell_type": "markdown",
   "metadata": {},
   "source": [
    "### Your Turn Pg 180 Chapter 5 \n"
   ]
  },
  {
   "cell_type": "code",
   "execution_count": 11,
   "metadata": {},
   "outputs": [
    {
     "data": {
      "text/plain": [
       "[('I', 'PRP'),\n",
       " ('want', 'VBP'),\n",
       " ('to', 'TO'),\n",
       " ('run', 'VB'),\n",
       " ('.', '.'),\n",
       " ('I', 'PRP'),\n",
       " ('loved', 'VBD'),\n",
       " ('the', 'DT'),\n",
       " ('run', 'NN'),\n",
       " ('!', '.')]"
      ]
     },
     "execution_count": 11,
     "metadata": {},
     "output_type": "execute_result"
    }
   ],
   "source": [
    "text = nltk.word_tokenize(\"I want to run. I loved the run!\")\n",
    "nltk.pos_tag(text)"
   ]
  },
  {
   "cell_type": "markdown",
   "metadata": {},
   "source": [
    "### Your Turn pg 184 Chapter 5 "
   ]
  },
  {
   "cell_type": "code",
   "execution_count": 12,
   "metadata": {},
   "outputs": [
    {
     "data": {
      "image/png": "[encoded data removed]",
      "text/plain": [
       "<Figure size 432x288 with 1 Axes>"
      ]
     },
     "metadata": {
      "needs_background": "light"
     },
     "output_type": "display_data"
    },
    {
     "data": {
      "text/plain": [
       "FreqDist({'NOUN': 30654, 'VERB': 14399, 'ADP': 12355, '.': 11928, 'DET': 11389, 'ADJ': 6706, 'ADV': 3349, 'CONJ': 2717, 'PRON': 2535, 'PRT': 2264, ...})"
      ]
     },
     "execution_count": 12,
     "metadata": {},
     "output_type": "execute_result"
    }
   ],
   "source": [
    "brwn_news_tg = brown.tagged_words(categories='news', tagset='universal')\n",
    "tag_freq_dist = nltk.FreqDist(tag for (word, tag) in brwn_news_tg)\n",
    "tag_freq_dist.keys()\n",
    "tag_freq_dist.plot(cumulative=True)\n",
    "tag_freq_dist"
   ]
  },
  {
   "cell_type": "code",
   "execution_count": 13,
   "metadata": {},
   "outputs": [
    {
     "name": "stdout",
     "output_type": "stream",
     "text": [
      "Percent of words tagged:  60.903594088748335\n"
     ]
    }
   ],
   "source": [
    "total = tag_freq_dist['NOUN']+tag_freq_dist['DET']+tag_freq_dist['PRT']+tag_freq_dist['VERB']+tag_freq_dist['PRON']\n",
    "percent = 0\n",
    "for i in tag_freq_dist:\n",
    "    percent = percent + tag_freq_dist[i]\n",
    "    \n",
    "percentVal = total * 100 / percent\n",
    "print('Percent of words tagged: ',percentVal)"
   ]
  },
  {
   "cell_type": "markdown",
   "metadata": {},
   "source": [
    "### Your Turn pg 186 Chapter 5\n"
   ]
  },
  {
   "cell_type": "code",
   "execution_count": 14,
   "metadata": {},
   "outputs": [
    {
     "data": {
      "text/plain": [
       "dict_keys(['DET', 'NOUN', 'ADJ', 'VERB', 'ADP', '.', 'ADV', 'CONJ', 'PRT', 'PRON', 'NUM', 'X'])"
      ]
     },
     "execution_count": 14,
     "metadata": {},
     "output_type": "execute_result"
    }
   ],
   "source": [
    "brown_news_tagged = brown.tagged_words(categories='news', tagset = 'universal')\n",
    "tag_fd = nltk.FreqDist(tag for (word, tag) in brown_news_tagged)\n",
    "tag_fd.keys()\n"
   ]
  },
  {
   "cell_type": "code",
   "execution_count": 15,
   "metadata": {},
   "outputs": [
    {
     "data": {
      "text/plain": [
       "dict_keys(['to', 'up', \"'s\", 'in', \"'\", 'down', 'off', 'out', 'together', 'about', 'on', 'To', 'away', 'across', 'over', 'around', 'TO', 'through', 'back', 'for', 'by'])"
      ]
     },
     "execution_count": 15,
     "metadata": {},
     "output_type": "execute_result"
    }
   ],
   "source": [
    "wsj = nltk.corpus.treebank.tagged_words(tagset = 'universal')\n",
    "word_tag_fd = nltk.FreqDist(wsj)\n",
    "[word + \"/\" + tag for (word, tag) in word_tag_fd if tag.startswith('V')]\n",
    "cfd2 = nltk.ConditionalFreqDist((tag, word) for (word, tag) in wsj)\n",
    "s = cfd2['PRT'].keys()\n",
    "s"
   ]
  },
  {
   "cell_type": "markdown",
   "metadata": {},
   "source": [
    "### Your turn pg 189 Chapter 5 \n"
   ]
  },
  {
   "cell_type": "code",
   "execution_count": 16,
   "metadata": {},
   "outputs": [
    {
     "name": "stdout",
     "output_type": "stream",
     "text": [
      "that ADP PRON DET ADV\n",
      "best ADJ ADV VERB NOUN\n",
      "present ADJ ADV NOUN VERB\n",
      "close NOUN ADJ ADV VERB\n",
      "open ADJ ADV VERB NOUN\n",
      "Displaying 25 of 930 matches:\n",
      "of the sea . It must not be supposed that Dr Hood ' s apartments excluded luxu\n",
      "here , in their place ; but one felt that they were never allowed out of their\n",
      "; but they were built upon a plan so that the strongest were always nearest th\n",
      "ury ; but the fanciful have asserted that the whisky , brandy , and rum seemed\n",
      " a volume of Chaucer or Shelley from that rank , its absence irritated the min\n",
      "and tobacco , it goes without saying that yet more of such heathen holiness pr\n",
      "holiness protected the other shelves that held the specialist ' s library , an\n",
      "t ' s library , and the other tables that sustained the frail and even fairyli\n",
      "ng at once rigid and restless , like that great northern sea by which ( on pur\n",
      "e man was the very embodiment of all that is homely and helpless . The doctor \n",
      "restrained astonishment , not unlike that he would have shown if some huge but\n",
      "new - comer regarded the doctor with that beaming but breathless geniality whi\n",
      ". Pray excuse me . I ' ve come about that business of the MacNabs . I have hea\n",
      "iterary and educational . It is true that I have sometimes been consulted by t\n",
      "nder them were bright with something that might be anger or might be amusement\n",
      "ow , what can be more important than that ?\" The great Orion Hood ' s scientif\n",
      " told you my name was Brown ; well , that ' s the fact , and I ' m the priest \n",
      "ather Brown , sitting up eagerly . \" That is just the awful complication .\" \" \n",
      "ises to explain before the wedding . That is all that anyone knows for certain\n",
      "ain before the wedding . That is all that anyone knows for certain , but Mrs M\n",
      "rass on such a patch of ignorance as that . There are tales of two voices hear\n",
      "cNab prefers her own original tale : that the Other Man ( or whatever it is ) \n",
      "ars . There is no stronger case than that of the wild , unworldly and perishin\n",
      "pt ( you will excuse me for saying ) that superstitious explanation of all inc\n",
      "rch represent . It is not remarkable that such people , with the sea moaning b\n",
      "Displaying 9 of 9 matches:\n",
      "cial table eight or ten boxes of the best cigars ; but they were built upon a \n",
      "n . I will give the MacNab family my best advice , as good as I gave the Frenc\n",
      " \" Even in a minute instance , it is best to look first to the main tendencies\n",
      "cess . You did not have to be in the best society to have heard of Captain Cut\n",
      "f money ; that he used a drug at the best , and a poison at the worst ; that h\n",
      "hat was like a snail . \" It might be best to go to Arthur after all . If the t\n",
      "tly , \" don ' t you think it ' s the best thing she can do to stop outside -- \n",
      "der somebody , will it really be the best plan to make sure I ' m alone with h\n",
      " indeed , Father Brown , for reasons best known to himself , had lingered much\n",
      "Displaying 12 of 12 matches:\n",
      " deal to be said on both sides . At present she has only one lodger , the young\n",
      "ne and cigars , and bid you for the present a sportsman - like welcome to the l\n",
      "his victories ; and another sort of present from Sir Wilson Seymour , offered l\n",
      " he himself would keep it ` for the present '. And then he added quite suddenly\n",
      "ew that Lord Jones was alive . Your present correspondent thinks that this , li\n",
      "hat ; because a man told me who was present at a scene that no man could invent\n",
      "s many people as possible should be present . All over this country I have foun\n",
      "de , gentlemen ? I have no staff at present , but I can get you anything simple\n",
      "ounce that the fight is off for the present .\" \" Anything else ?\" jeered the ge\n",
      "reply to it . The only other person present was a lean man with close red hair \n",
      "he Divorce Court , but which was at present hovering between Grey Cottage and P\n",
      " homeliest meals with some dazzling present or announcement or expedition that \n",
      "Displaying 25 of 25 matches:\n",
      "ed back stiffly in front and cropped close behind , outlining a square and powe\n",
      "risian houses , really comparatively close , but somehow looking as inaccessibl\n",
      "y heard one of the dull wooden doors close again with a click in front of them \n",
      "tree from which he could crawl quite close to the only illuminated window in th\n",
      " lighted and luxurious bedroom . But close as Flambeau was to the house , he he\n",
      "lso was curly , but fair and cropped close to a strong , massive head -- the so\n",
      "They were sitting at a small table , close up to the window , when the priest p\n",
      " . As soon as I heard the heavy door close on him finally , I made a bolt for m\n",
      "fter all . If the thing was crawling close all around the house like a cat , it\n",
      "y than a well - made - up face quite close .\" There was another silence . \" Wel\n",
      " turned into the river mouth and was close to comparatively shallow water . The\n",
      "ose behind him . The tower was quite close , but its outline was curiously dim \n",
      "ly enough ,\" answered the priest , \" close by here -- just by that bandstand .\"\n",
      "a friend of mine ) that he was found close up to the Epsom Grand Stand -- in fa\n",
      " something else . A man is throttled close by the big stand at Epsom . Anybody \n",
      "r person present was a lean man with close red hair and loose , horsey - lookin\n",
      "known one ), they still kept in very close touch with each other . Indeed , Bou\n",
      "stiff , high thorn - hedges , was so close under the pines and palisades of the\n",
      "ant , rather sombrely , and began to close the door . Kidd started a little . \"\n",
      "are and bent to look at it . Seen at close quarters it had rather a showy look \n",
      " his pocket , and the priest held it close to the middle part of the blade , wh\n",
      "t was a wordless clamour startlingly close , and loud enough to be distinct if \n",
      "e flowers were quite short , plucked close under the head .\" \" Of course ,\" sai\n",
      "r for his enemies . Rifles ranked so close even to that mountain path that a cr\n",
      "umb devil was in him . \" He had come close to the woods that walled in the cast\n",
      "Displaying 25 of 31 matches:\n",
      "ng in a funny mood , pushed the door open and introduced into those long , str\n",
      "s heard talking to the lodger at his open window . The colloquy seemed to end \n",
      "the priest , whose eyes had remained open with a rather vacant admiration . \" \n",
      "ving the other almost with his mouth open . A day or two afterwards a coach co\n",
      "ed she would -- The inner door burst open and a big figure appeared , who was \n",
      "ed seats like a throne . But at this open appeal to his rival there glowed in \n",
      " for an instant , and then , dashing open the door , disappeared into his own \n",
      " lower end of the passage , burst it open , bolt and all , and confronted Brun\n",
      "totally unaccustomed . The door flew open . The moment before Greywood Usher h\n",
      "arden by the back gate , which stood open and by which he had undoubtedly ente\n",
      "rench or two , Flambeau had the door open . But it was too late . In dead sile\n",
      "th a more thoughtful eye , he ripped open the letter from his more distinguish\n",
      " meant the pilot must keep both eyes open and be spry . And he heard Fanshaw s\n",
      "tion , and the door he was trying to open shook under the bullet buried in it \n",
      "ening din as the doors of the shrine open and the monkey - god is revealed ; a\n",
      " --'\" The door of the room was flung open , and the fashionable negro stood fr\n",
      "in peace , but his left eye was wide open , and glistened like glass in the mo\n",
      "eyes , when the front door was flung open , releasing a flood of gaslight on t\n",
      "happened our bedrooms overlooked the open sea , which almost came up to our wi\n",
      " the street , who was poring over an open book on the smoking - table -- a boo\n",
      "e garden came running , and bursting open a window cried : \" Am I wanted ? Has\n",
      "a work on poisons ; and was put down open at the place where it stated that a \n",
      "y inn , The Champion Arms , standing open , he went in to make inquiries . In \n",
      "an ; but something in his pencil and open notebook , and perhaps in the expres\n",
      "marked by Sir Claude Champion for an open - air rendering of Romeo and Juliet \n"
     ]
    }
   ],
   "source": [
    "wrd= nltk.corpus.gutenberg.words('chesterton-brown.txt')\n",
    "brwn_news_tggd = brown.tagged_words(categories='news', tagset = 'universal')\n",
    "d = nltk.ConditionalFreqDist((wrd.lower(), tag)for (wrd, tag) in brwn_news_tggd)\n",
    "txtlst=Text(wrd)\n",
    "for word in d.conditions():\n",
    "    if len(d[word]) > 3:\n",
    "        tags = d[word].keys()\n",
    "        print(word, ' '.join(tags))\n",
    "        \n",
    "for word in d.conditions():\n",
    "    if len(d[word]) > 3:        \n",
    "        txtlst.concordance(word)"
   ]
  }
 ],
 "metadata": {
  "kernelspec": {
   "display_name": "Python 3",
   "language": "python",
   "name": "python3"
  },
  "language_info": {
   "codemirror_mode": {
    "name": "ipython",
    "version": 3
   },
   "file_extension": ".py",
   "mimetype": "text/x-python",
   "name": "python",
   "nbconvert_exporter": "python",
   "pygments_lexer": "ipython3",
   "version": "3.7.7"
  }
 },
 "nbformat": 4,
 "nbformat_minor": 4
}
