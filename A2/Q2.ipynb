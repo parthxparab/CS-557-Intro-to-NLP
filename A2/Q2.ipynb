{
 "cells": [
  {
   "cell_type": "markdown",
   "metadata": {},
   "source": [
    "## Question 2"
   ]
  },
  {
   "cell_type": "code",
   "execution_count": 1,
   "metadata": {},
   "outputs": [],
   "source": [
    "import nltk\n",
    "from nltk.corpus import wordnet as wn"
   ]
  },
  {
   "cell_type": "code",
   "execution_count": 2,
   "metadata": {},
   "outputs": [
    {
     "name": "stderr",
     "output_type": "stream",
     "text": [
      "[nltk_data] Downloading package wordnet to\n",
      "[nltk_data]     /Users/parthxparab/nltk_data...\n",
      "[nltk_data]   Package wordnet is already up-to-date!\n"
     ]
    },
    {
     "data": {
      "text/plain": [
       "True"
      ]
     },
     "execution_count": 2,
     "metadata": {},
     "output_type": "execute_result"
    }
   ],
   "source": [
    "nltk.download('wordnet')"
   ]
  },
  {
   "cell_type": "code",
   "execution_count": 3,
   "metadata": {},
   "outputs": [
    {
     "data": {
      "text/plain": [
       "[Synset('car.n.01'),\n",
       " Synset('car.n.02'),\n",
       " Synset('car.n.03'),\n",
       " Synset('car.n.04'),\n",
       " Synset('cable_car.n.01')]"
      ]
     },
     "execution_count": 3,
     "metadata": {},
     "output_type": "execute_result"
    }
   ],
   "source": [
    "wn.synsets('car')"
   ]
  },
  {
   "cell_type": "code",
   "execution_count": 4,
   "metadata": {},
   "outputs": [
    {
     "data": {
      "text/plain": [
       "['car', 'auto', 'automobile', 'machine', 'motorcar']"
      ]
     },
     "execution_count": 4,
     "metadata": {},
     "output_type": "execute_result"
    }
   ],
   "source": [
    "wn.synset('car.n.01').lemma_names()"
   ]
  },
  {
   "cell_type": "code",
   "execution_count": 5,
   "metadata": {},
   "outputs": [
    {
     "data": {
      "text/plain": [
       "'a motor vehicle with four wheels; usually propelled by an internal combustion engine'"
      ]
     },
     "execution_count": 5,
     "metadata": {},
     "output_type": "execute_result"
    }
   ],
   "source": [
    "wn.synsets('car')[0].definition()"
   ]
  },
  {
   "cell_type": "code",
   "execution_count": 6,
   "metadata": {},
   "outputs": [
    {
     "data": {
      "text/plain": [
       "['he needs a car to get to work']"
      ]
     },
     "execution_count": 6,
     "metadata": {},
     "output_type": "execute_result"
    }
   ],
   "source": [
    "wn.synsets('car')[0].examples()"
   ]
  },
  {
   "cell_type": "code",
   "execution_count": 7,
   "metadata": {},
   "outputs": [
    {
     "data": {
      "text/plain": [
       "[Lemma('car.n.01.car'),\n",
       " Lemma('car.n.01.auto'),\n",
       " Lemma('car.n.01.automobile'),\n",
       " Lemma('car.n.01.machine'),\n",
       " Lemma('car.n.01.motorcar')]"
      ]
     },
     "execution_count": 7,
     "metadata": {},
     "output_type": "execute_result"
    }
   ],
   "source": [
    "wn.synsets('car')[0].lemmas()"
   ]
  },
  {
   "cell_type": "code",
   "execution_count": 8,
   "metadata": {},
   "outputs": [
    {
     "data": {
      "text/plain": [
       "Lemma('car.n.01.car')"
      ]
     },
     "execution_count": 8,
     "metadata": {},
     "output_type": "execute_result"
    }
   ],
   "source": [
    "wn.lemma('car.n.01.car')"
   ]
  },
  {
   "cell_type": "code",
   "execution_count": 9,
   "metadata": {},
   "outputs": [
    {
     "data": {
      "text/plain": [
       "'car'"
      ]
     },
     "execution_count": 9,
     "metadata": {},
     "output_type": "execute_result"
    }
   ],
   "source": [
    "wn.lemma('car.n.01.car').name()"
   ]
  },
  {
   "cell_type": "code",
   "execution_count": 10,
   "metadata": {},
   "outputs": [
    {
     "name": "stdout",
     "output_type": "stream",
     "text": [
      "['car', 'auto', 'automobile', 'machine', 'motorcar']\n",
      "['car', 'railcar', 'railway_car', 'railroad_car']\n",
      "['car', 'gondola']\n",
      "['car', 'elevator_car']\n",
      "['cable_car', 'car']\n"
     ]
    }
   ],
   "source": [
    "for synset in wn.synsets('car'):\n",
    "    print (synset.lemma_names())"
   ]
  },
  {
   "cell_type": "markdown",
   "metadata": {},
   "source": [
    "### Results of the Your Turn practice"
   ]
  },
  {
   "cell_type": "code",
   "execution_count": 11,
   "metadata": {},
   "outputs": [
    {
     "data": {
      "text/plain": [
       "Synset('coupe.n.01')"
      ]
     },
     "execution_count": 11,
     "metadata": {},
     "output_type": "execute_result"
    }
   ],
   "source": [
    "wn.synsets('car')\n",
    "var = wn.synset('car.n.01')\n",
    "types = var.hyponyms()\n",
    "types[6]"
   ]
  },
  {
   "cell_type": "code",
   "execution_count": 12,
   "metadata": {},
   "outputs": [
    {
     "data": {
      "text/plain": [
       "['Model_T',\n",
       " 'S.U.V.',\n",
       " 'SUV',\n",
       " 'Stanley_Steamer',\n",
       " 'ambulance',\n",
       " 'beach_waggon',\n",
       " 'beach_wagon',\n",
       " 'bus',\n",
       " 'cab',\n",
       " 'compact',\n",
       " 'compact_car',\n",
       " 'convertible',\n",
       " 'coupe',\n",
       " 'cruiser',\n",
       " 'electric',\n",
       " 'electric_automobile',\n",
       " 'electric_car',\n",
       " 'estate_car',\n",
       " 'gas_guzzler',\n",
       " 'hack',\n",
       " 'hardtop',\n",
       " 'hatchback',\n",
       " 'heap',\n",
       " 'horseless_carriage',\n",
       " 'hot-rod',\n",
       " 'hot_rod',\n",
       " 'jalopy',\n",
       " 'jeep',\n",
       " 'landrover',\n",
       " 'limo',\n",
       " 'limousine',\n",
       " 'loaner',\n",
       " 'minicar',\n",
       " 'minivan',\n",
       " 'pace_car',\n",
       " 'patrol_car',\n",
       " 'phaeton',\n",
       " 'police_car',\n",
       " 'police_cruiser',\n",
       " 'prowl_car',\n",
       " 'race_car',\n",
       " 'racer',\n",
       " 'racing_car',\n",
       " 'roadster',\n",
       " 'runabout',\n",
       " 'saloon',\n",
       " 'secondhand_car',\n",
       " 'sedan',\n",
       " 'sport_car',\n",
       " 'sport_utility',\n",
       " 'sport_utility_vehicle',\n",
       " 'sports_car',\n",
       " 'squad_car',\n",
       " 'station_waggon',\n",
       " 'station_wagon',\n",
       " 'stock_car',\n",
       " 'subcompact',\n",
       " 'subcompact_car',\n",
       " 'taxi',\n",
       " 'taxicab',\n",
       " 'tourer',\n",
       " 'touring_car',\n",
       " 'two-seater',\n",
       " 'used-car',\n",
       " 'waggon',\n",
       " 'wagon']"
      ]
     },
     "execution_count": 12,
     "metadata": {},
     "output_type": "execute_result"
    }
   ],
   "source": [
    "sorted(lemma.name() for synset in types for lemma in synset.lemmas())\n"
   ]
  },
  {
   "cell_type": "code",
   "execution_count": 13,
   "metadata": {},
   "outputs": [
    {
     "data": {
      "text/plain": [
       "[Synset('motor_vehicle.n.01')]"
      ]
     },
     "execution_count": 13,
     "metadata": {},
     "output_type": "execute_result"
    }
   ],
   "source": [
    "var.hypernyms()"
   ]
  },
  {
   "cell_type": "code",
   "execution_count": 14,
   "metadata": {},
   "outputs": [
    {
     "data": {
      "text/plain": [
       "2"
      ]
     },
     "execution_count": 14,
     "metadata": {},
     "output_type": "execute_result"
    }
   ],
   "source": [
    "path = var.hypernym_paths()\n",
    "len(path)"
   ]
  },
  {
   "cell_type": "code",
   "execution_count": 15,
   "metadata": {},
   "outputs": [
    {
     "data": {
      "text/plain": [
       "['entity.n.01',\n",
       " 'physical_entity.n.01',\n",
       " 'object.n.01',\n",
       " 'whole.n.02',\n",
       " 'artifact.n.01',\n",
       " 'instrumentality.n.03',\n",
       " 'container.n.01',\n",
       " 'wheeled_vehicle.n.01',\n",
       " 'self-propelled_vehicle.n.01',\n",
       " 'motor_vehicle.n.01',\n",
       " 'car.n.01']"
      ]
     },
     "execution_count": 15,
     "metadata": {},
     "output_type": "execute_result"
    }
   ],
   "source": [
    "[synset.name() for synset in path[0]]"
   ]
  },
  {
   "cell_type": "code",
   "execution_count": 16,
   "metadata": {},
   "outputs": [
    {
     "data": {
      "text/plain": [
       "[Synset('entity.n.01')]"
      ]
     },
     "execution_count": 16,
     "metadata": {},
     "output_type": "execute_result"
    }
   ],
   "source": [
    "var.root_hypernyms()"
   ]
  },
  {
   "cell_type": "code",
   "execution_count": 29,
   "metadata": {},
   "outputs": [
    {
     "data": {
      "text/plain": [
       "Synset('motorcycle.n.01')"
      ]
     },
     "execution_count": 29,
     "metadata": {},
     "output_type": "execute_result"
    }
   ],
   "source": [
    "wn.synsets('bike')\n",
    "bike = wn.synset('motorcycle.n.01')\n",
    "bike"
   ]
  },
  {
   "cell_type": "code",
   "execution_count": 30,
   "metadata": {},
   "outputs": [
    {
     "data": {
      "text/plain": [
       "[Synset('minibike.n.01'), Synset('trail_bike.n.01')]"
      ]
     },
     "execution_count": 30,
     "metadata": {},
     "output_type": "execute_result"
    }
   ],
   "source": [
    "types = bike.hyponyms()\n",
    "types"
   ]
  },
  {
   "cell_type": "code",
   "execution_count": 31,
   "metadata": {},
   "outputs": [
    {
     "data": {
      "text/plain": [
       "[Synset('entity.n.01')]"
      ]
     },
     "execution_count": 31,
     "metadata": {},
     "output_type": "execute_result"
    }
   ],
   "source": [
    "bike.root_hypernyms()"
   ]
  },
  {
   "cell_type": "code",
   "execution_count": 32,
   "metadata": {},
   "outputs": [
    {
     "data": {
      "text/plain": [
       "[Synset('minibike.n.01'), Synset('trail_bike.n.01')]"
      ]
     },
     "execution_count": 32,
     "metadata": {},
     "output_type": "execute_result"
    }
   ],
   "source": [
    "typesb = bike.hyponyms()\n",
    "typesb"
   ]
  },
  {
   "cell_type": "code",
   "execution_count": 33,
   "metadata": {},
   "outputs": [
    {
     "data": {
      "text/plain": [
       "[Synset('entity.n.01')]"
      ]
     },
     "execution_count": 33,
     "metadata": {},
     "output_type": "execute_result"
    }
   ],
   "source": [
    "bike.root_hypernyms()"
   ]
  },
  {
   "cell_type": "markdown",
   "metadata": {},
   "source": [
    "### 2.8.5 Investigate the holonym-meronym relations for some nouns. Remember that there are three kinds of holonym-meronym relation, so you need to use member_mer onyms(), part_meronyms(), substance_meronyms(), member_holonyms(), part_holonyms(), and substance_holonyms()."
   ]
  },
  {
   "cell_type": "code",
   "execution_count": 71,
   "metadata": {},
   "outputs": [
    {
     "data": {
      "text/plain": [
       "[Synset('heartwood.n.01'), Synset('sapwood.n.01')]"
      ]
     },
     "execution_count": 71,
     "metadata": {},
     "output_type": "execute_result"
    }
   ],
   "source": [
    "wn.synset('tree.n.01').substance_meronyms()"
   ]
  },
  {
   "cell_type": "code",
   "execution_count": 56,
   "metadata": {},
   "outputs": [
    {
     "data": {
      "text/plain": [
       "[Synset('forest.n.01')]"
      ]
     },
     "execution_count": 56,
     "metadata": {},
     "output_type": "execute_result"
    }
   ],
   "source": [
    "wn.synset('tree.n.01').member_holonyms()"
   ]
  },
  {
   "cell_type": "code",
   "execution_count": 59,
   "metadata": {},
   "outputs": [
    {
     "name": "stdout",
     "output_type": "stream",
     "text": [
      "[Synset('tree.n.01'), Synset('tree.n.02'), Synset('tree.n.03'), Synset('corner.v.02'), Synset('tree.v.02'), Synset('tree.v.03'), Synset('tree.v.04')]\n",
      "['tree']\n",
      "a tall perennial woody plant having a main trunk and branches forming a distinct elevated crown; includes both gymnosperms and angiosperms\n",
      "[]\n",
      "[]\n",
      "[Synset('burl.n.02'), Synset('crown.n.07'), Synset('limb.n.02'), Synset('stump.n.01'), Synset('trunk.n.01')]\n",
      "[Synset('heartwood.n.01'), Synset('sapwood.n.01')]\n",
      "[Synset('forest.n.01')]\n",
      "[]\n",
      "[]\n"
     ]
    }
   ],
   "source": [
    "tree = wn.synsets('tree')\n",
    "print(tree)\n",
    "tree = wn.synset('tree.n.01')\n",
    "print(tree.lemma_names())\n",
    "print(tree.definition())\n",
    "print(tree.examples())\n",
    "print(tree.member_meronyms())\n",
    "print(tree.part_meronyms())\n",
    "print(tree.substance_meronyms())\n",
    "print(tree.member_holonyms())\n",
    "print(tree.part_holonyms())\n",
    "print(tree.substance_holonyms())"
   ]
  },
  {
   "cell_type": "code",
   "execution_count": 58,
   "metadata": {},
   "outputs": [
    {
     "name": "stdout",
     "output_type": "stream",
     "text": [
      "[Synset('air.n.01'), Synset('air.n.02'), Synset('air.n.03'), Synset('breeze.n.01'), Synset('atmosphere.n.03'), Synset('air.n.06'), Synset('tune.n.01'), Synset('air.n.08'), Synset('air_travel.n.01'), Synset('air_out.v.01'), Synset('air.v.02'), Synset('air.v.03'), Synset('publicize.v.01'), Synset('air.v.05'), Synset('vent.v.02')]\n",
      "['air']\n",
      "a mixture of gases (especially oxygen) required for breathing; the stuff that the wind consists of\n",
      "['air pollution', 'a smell of chemicals in the air', 'open a window and let in some air', 'I need some fresh air']\n",
      "[]\n",
      "[]\n",
      "[Synset('argon.n.01'), Synset('krypton.n.01'), Synset('neon.n.01'), Synset('nitrogen.n.01'), Synset('oxygen.n.01'), Synset('xenon.n.01')]\n",
      "[]\n",
      "[]\n",
      "[Synset('wind.n.01')]\n"
     ]
    }
   ],
   "source": [
    "air = wn.synsets('air')\n",
    "print(air)\n",
    "air = wn.synset('air.n.01')\n",
    "print(air.lemma_names())\n",
    "print(air.definition())\n",
    "print(air.examples())\n",
    "print(air.member_meronyms())\n",
    "print(air.part_meronyms())\n",
    "print(air.substance_meronyms())\n",
    "print(air.member_holonyms())\n",
    "print(air.part_holonyms())\n",
    "print(air.substance_holonyms())\n",
    "\n"
   ]
  },
  {
   "cell_type": "code",
   "execution_count": 60,
   "metadata": {},
   "outputs": [
    {
     "name": "stdout",
     "output_type": "stream",
     "text": [
      "[Synset('house.n.01'), Synset('firm.n.01'), Synset('house.n.03'), Synset('house.n.04'), Synset('house.n.05'), Synset('house.n.06'), Synset('house.n.07'), Synset('sign_of_the_zodiac.n.01'), Synset('house.n.09'), Synset('family.n.01'), Synset('theater.n.01'), Synset('house.n.12'), Synset('house.v.01'), Synset('house.v.02')]\n",
      "['house']\n",
      "a dwelling that serves as living quarters for one or more families\n",
      "['he has a house on Cape Cod', 'she felt she had to get out of the house']\n",
      "[]\n",
      "[Synset('library.n.01'), Synset('loft.n.02'), Synset('porch.n.01'), Synset('study.n.05')]\n",
      "[]\n",
      "[]\n",
      "[]\n",
      "[]\n",
      "[Synset('food.n.01'), Synset('food.n.02'), Synset('food.n.03')]\n",
      "['food', 'nutrient']\n",
      "any substance that can be metabolized by an animal to give energy and build tissue\n",
      "[]\n",
      "[]\n",
      "[Synset('food.n.02')]\n",
      "[]\n",
      "[]\n",
      "[]\n",
      "[]\n"
     ]
    }
   ],
   "source": [
    "house = wn.synsets('house')\n",
    "print(house)\n",
    "house = wn.synset('house.n.01')\n",
    "print(house.lemma_names())\n",
    "print(house.definition())\n",
    "print(house.examples())\n",
    "print(house.member_meronyms())\n",
    "print(house.part_meronyms())\n",
    "print(house.substance_meronyms())\n",
    "print(house.member_holonyms())\n",
    "print(house.part_holonyms())\n",
    "print(house.substance_holonyms())\n",
    "food = wn.synsets('food')\n",
    "print(food)\n",
    "food = wn.synset('food.n.01')\n",
    "print(food.lemma_names())\n",
    "print(food.definition())\n",
    "print(food.examples())\n",
    "print(food.member_meronyms())\n",
    "print(food.part_meronyms())\n",
    "print(food.substance_meronyms())\n",
    "print(food.member_holonyms())\n",
    "print(food.part_holonyms())\n",
    "print(food.substance_holonyms())"
   ]
  },
  {
   "cell_type": "markdown",
   "metadata": {},
   "source": [
    "### 2.8.14 Define a function supergloss(s) that takes a synset s as its argument and returns a string consisting of the concatenation of the definition of s, and the definitions of all the hypernyms and hyponyms of s."
   ]
  },
  {
   "cell_type": "code",
   "execution_count": 62,
   "metadata": {},
   "outputs": [
    {
     "name": "stdout",
     "output_type": "stream",
     "text": [
      "a motor vehicle with four wheels; usually propelled by an internal combustion engine\n",
      "a vehicle that takes people to and from hospitals\n",
      "a car that has a long body and rear door with space behind rear seat\n",
      "a car that is old and unreliable\n",
      "a car driven by a person whose job is to take passengers where they want to go in exchange for money\n",
      "a small and economical car\n",
      "a car that has top that can be folded or removed\n",
      "a car with two doors and front seats and a luggage compartment\n",
      "a car in which policemen cruise the streets; equipped with radiotelephonic communications to headquarters\n",
      "a car that is powered by electricity\n",
      "a car with relatively low fuel efficiency\n",
      "a car that resembles a convertible but has a fixed rigid top\n",
      "a car having a hatchback door\n",
      "an early term for an automobile\n",
      "a car modified to increase its speed and acceleration\n",
      "a car suitable for traveling over rough terrain\n",
      "large luxurious car; usually driven by a chauffeur\n",
      "a car that is lent as a replacement for one that is under repair\n",
      "a car that is even smaller than a subcompact car\n",
      "a small box-shaped passenger van; usually has removable seats; used as a family car\n",
      "the first widely available automobile powered by a gasoline engine; mass-produced by Henry Ford from 1908 to 1927\n",
      "a high-performance car that leads a parade of competing cars through the pace lap and then pulls off the course\n",
      "a fast car that competes in races\n",
      "an open automobile having a front seat and a rumble seat\n",
      "a car that is closed and that has front and rear seats and two or four doors\n",
      "a high-performance four-wheel drive car built on a truck chassis\n",
      "a small low car with a high-powered engine; usually seats two persons\n",
      "a steam-powered automobile\n",
      "a car kept in dealers' stock for regular sales\n",
      "a car smaller than a compact car\n",
      "large open car seating four with folding top\n",
      "a car that has been previously owned; not a new car\n",
      "a self-propelled wheeled vehicle that does not run on rails\n"
     ]
    }
   ],
   "source": [
    "def supergloss(s):\n",
    "    definitions = s.definition();\n",
    "    for hypo in s.hyponyms():\n",
    "        definitions+= \"\\n\"+hypo.definition()\n",
    "    for hyper in s.hypernyms():\n",
    "        definitions+= \"\\n\"+hyper.definition()\n",
    "    return definitions\n",
    "definitions = supergloss(wn.synset('car.n.01'))\n",
    "print(definitions)"
   ]
  },
  {
   "cell_type": "code",
   "execution_count": 63,
   "metadata": {},
   "outputs": [
    {
     "name": "stdout",
     "output_type": "stream",
     "text": [
      "an aircraft that has a fixed wing and is powered by propellers or jets\n",
      "a commercial airplane that carries passengers\n",
      "an airplane designed to take off and land on water\n",
      "old fashioned airplane; has two wings one above the other\n",
      "a military aircraft that drops bombs during flight\n",
      "an airplane with wings that give it the appearance of an isosceles triangle\n",
      "a high-speed military or naval airplane designed to destroy enemy aircraft in the air\n",
      "an airplane with a bad maintenance record\n",
      "an airplane powered by one or more jet engines\n",
      "an airplane with a single wing\n",
      "a plane with two or more engines\n",
      "an airplane that is driven by a propeller\n",
      "a military airplane used to gain information about an enemy\n",
      "an airplane that can land on or take off from water\n",
      "an airplane equipped with skis so it can land on a snowfield\n",
      "an airplane constructed to transport chemicals that can be dropped in order to fight a forest fire\n",
      "a non-buoyant aircraft that requires a source of power to hold it aloft and to propel it\n"
     ]
    }
   ],
   "source": [
    "def supergloss(s):\n",
    "    definitions = s.definition();\n",
    "    for hypo in s.hyponyms():\n",
    "        definitions+= \"\\n\"+hypo.definition()\n",
    "    for hyper in s.hypernyms():\n",
    "        definitions+= \"\\n\"+hyper.definition()\n",
    "    return definitions\n",
    "definitions = supergloss(wn.synset('plane.n.01'))\n",
    "print(definitions)"
   ]
  },
  {
   "cell_type": "markdown",
   "metadata": {},
   "source": [
    "### 2.8.27 The polysemy of a word is the number of senses it has. Using WordNet, we can determine that the noun dog has seven senses with len(wn.synsets('dog', 'n')). Compute the average polysemy of nouns, verbs, adjectives, and adverbs according to WordNet."
   ]
  },
  {
   "cell_type": "code",
   "execution_count": 65,
   "metadata": {},
   "outputs": [
    {
     "data": {
      "text/plain": [
       "7"
      ]
     },
     "execution_count": 65,
     "metadata": {},
     "output_type": "execute_result"
    }
   ],
   "source": [
    "len(wn.synsets('dog','n'))"
   ]
  },
  {
   "cell_type": "code",
   "execution_count": 66,
   "metadata": {},
   "outputs": [
    {
     "name": "stdout",
     "output_type": "stream",
     "text": [
      "Total distinct lemmas:  119034\n",
      "Total senses : 152763\n",
      "Average Polysemy of  n :  1.2833560159282222\n"
     ]
    }
   ],
   "source": [
    "#nouns\n",
    "type = 'n'\n",
    "synsets = wn.all_synsets(type)\n",
    "lemmas = []\n",
    "for synset in synsets:\n",
    "    for lemma in synset.lemmas():\n",
    "        lemmas.append(lemma.name())\n",
    "lemmas = set(lemmas)\n",
    "count = 0\n",
    "for lemma in lemmas:\n",
    "    count = count + len(wn.synsets(lemma, type))\n",
    "print('Total distinct lemmas: ', len(lemmas))\n",
    "print('Total senses :',count)\n",
    "print('Average Polysemy of ', type,': ' , count/len(lemmas))"
   ]
  },
  {
   "cell_type": "code",
   "execution_count": 67,
   "metadata": {},
   "outputs": [
    {
     "name": "stdout",
     "output_type": "stream",
     "text": [
      "Total distinct lemmas:  11531\n",
      "Total senses : 25214\n",
      "Average Polysemy of  v :  2.1866273523545225\n"
     ]
    }
   ],
   "source": [
    "#verbs\n",
    "type = 'v'\n",
    "synsets = wn.all_synsets(type)\n",
    "lemmas = []\n",
    "for synset in synsets:\n",
    "    for lemma in synset.lemmas():\n",
    "        lemmas.append(lemma.name())\n",
    "lemmas = set(lemmas)\n",
    "count = 0\n",
    "for lemma in lemmas:\n",
    "    count = count + len(wn.synsets(lemma, type))\n",
    "print('Total distinct lemmas: ', len(lemmas))\n",
    "print('Total senses :',count)\n",
    "print('Average Polysemy of ', type,': ' , count/len(lemmas))"
   ]
  },
  {
   "cell_type": "code",
   "execution_count": 69,
   "metadata": {},
   "outputs": [
    {
     "name": "stdout",
     "output_type": "stream",
     "text": [
      "Total distinct lemmas:  21538\n",
      "Total senses : 30379\n",
      "Average Polysemy of  a :  1.4104837960813446\n"
     ]
    }
   ],
   "source": [
    "#adjectives\n",
    "type = 'a'\n",
    "synsets = wn.all_synsets(type)\n",
    "lemmas = []\n",
    "for synset in synsets:\n",
    "    for lemma in synset.lemmas():\n",
    "        lemmas.append(lemma.name())\n",
    "lemmas = set(lemmas)\n",
    "count = 0\n",
    "for lemma in lemmas:\n",
    "    count = count + len(wn.synsets(lemma, type))\n",
    "print('Total distinct lemmas: ', len(lemmas))\n",
    "print('Total senses :',count)\n",
    "print('Average Polysemy of ', type,': ' , count/len(lemmas))"
   ]
  },
  {
   "cell_type": "code",
   "execution_count": 70,
   "metadata": {},
   "outputs": [
    {
     "name": "stdout",
     "output_type": "stream",
     "text": [
      "Total distinct lemmas:  4481\n",
      "Total senses : 5616\n",
      "Average Polysemy of  r :  1.2532916759651864\n"
     ]
    }
   ],
   "source": [
    "#adverbs\n",
    "type = 'r'\n",
    "synsets = wn.all_synsets(type)\n",
    "lemmas = []\n",
    "for synset in synsets:\n",
    "    for lemma in synset.lemmas():\n",
    "        lemmas.append(lemma.name())\n",
    "lemmas = set(lemmas)\n",
    "count = 0\n",
    "for lemma in lemmas:\n",
    "    count = count + len(wn.synsets(lemma, type))\n",
    "print('Total distinct lemmas: ', len(lemmas))\n",
    "print('Total senses :',count)\n",
    "print('Average Polysemy of ', type,': ' , count/len(lemmas))"
   ]
  },
  {
   "cell_type": "code",
   "execution_count": null,
   "metadata": {},
   "outputs": [],
   "source": []
  }
 ],
 "metadata": {
  "kernelspec": {
   "display_name": "Python 3",
   "language": "python",
   "name": "python3"
  },
  "language_info": {
   "codemirror_mode": {
    "name": "ipython",
    "version": 3
   },
   "file_extension": ".py",
   "mimetype": "text/x-python",
   "name": "python",
   "nbconvert_exporter": "python",
   "pygments_lexer": "ipython3",
   "version": "3.7.7"
  }
 },
 "nbformat": 4,
 "nbformat_minor": 4
}
