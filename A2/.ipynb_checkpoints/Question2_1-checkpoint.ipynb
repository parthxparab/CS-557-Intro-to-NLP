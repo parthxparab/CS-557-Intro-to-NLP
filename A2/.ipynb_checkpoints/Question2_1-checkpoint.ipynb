{
 "cells": [
  {
   "cell_type": "code",
   "execution_count": 0,
   "metadata": {
    "colab": {},
    "colab_type": "code",
    "id": "GBdRH8dYgzlk"
   },
   "outputs": [],
   "source": [
    "import nltk"
   ]
  },
  {
   "cell_type": "code",
   "execution_count": 41,
   "metadata": {
    "colab": {
     "base_uri": "https://localhost:8080/",
     "height": 72
    },
    "colab_type": "code",
    "id": "qvKpMRe6gzlx",
    "outputId": "af94a102-c8f4-4e40-e8ed-eb288756a17f"
   },
   "outputs": [
    {
     "name": "stdout",
     "output_type": "stream",
     "text": [
      "[nltk_data] Downloading package wordnet to /root/nltk_data...\n",
      "[nltk_data]   Package wordnet is already up-to-date!\n"
     ]
    },
    {
     "data": {
      "text/plain": [
       "True"
      ]
     },
     "execution_count": 41,
     "metadata": {
      "tags": []
     },
     "output_type": "execute_result"
    }
   ],
   "source": [
    "nltk.download('wordnet')"
   ]
  },
  {
   "cell_type": "code",
   "execution_count": 0,
   "metadata": {
    "colab": {},
    "colab_type": "code",
    "id": "o_OkSk0egzl5"
   },
   "outputs": [],
   "source": [
    "from nltk.corpus import wordnet as wn\n"
   ]
  },
  {
   "cell_type": "code",
   "execution_count": 43,
   "metadata": {
    "colab": {
     "base_uri": "https://localhost:8080/",
     "height": 164
    },
    "colab_type": "code",
    "id": "eAKTKWUFgzl_",
    "outputId": "e91102f0-3764-4d88-c80a-b0b5626d80fe",
    "scrolled": true
   },
   "outputs": [
    {
     "data": {
      "text/plain": [
       "[Synset('dish.n.01'),\n",
       " Synset('dish.n.02'),\n",
       " Synset('dish.n.03'),\n",
       " Synset('smasher.n.02'),\n",
       " Synset('dish.n.05'),\n",
       " Synset('cup_of_tea.n.01'),\n",
       " Synset('serve.v.06'),\n",
       " Synset('dish.v.02')]"
      ]
     },
     "execution_count": 43,
     "metadata": {
      "tags": []
     },
     "output_type": "execute_result"
    }
   ],
   "source": [
    "wn.synsets('dish')"
   ]
  },
  {
   "cell_type": "code",
   "execution_count": 44,
   "metadata": {
    "colab": {
     "base_uri": "https://localhost:8080/",
     "height": 35
    },
    "colab_type": "code",
    "id": "unNr9MgagzmF",
    "outputId": "f88c5aa1-d2e6-4cc7-ce95-f182ec201017"
   },
   "outputs": [
    {
     "data": {
      "text/plain": [
       "['dish']"
      ]
     },
     "execution_count": 44,
     "metadata": {
      "tags": []
     },
     "output_type": "execute_result"
    }
   ],
   "source": [
    "wn.synset('dish.n.01').lemma_names()"
   ]
  },
  {
   "cell_type": "code",
   "execution_count": 45,
   "metadata": {
    "colab": {
     "base_uri": "https://localhost:8080/",
     "height": 35
    },
    "colab_type": "code",
    "id": "8DwQcua2gzmM",
    "outputId": "9390d752-6fc4-4847-e887-d728837e4621"
   },
   "outputs": [
    {
     "data": {
      "text/plain": [
       "'a piece of dishware normally used as a container for holding or serving food'"
      ]
     },
     "execution_count": 45,
     "metadata": {
      "tags": []
     },
     "output_type": "execute_result"
    }
   ],
   "source": [
    "wn.synsets('dish')[0].definition()"
   ]
  },
  {
   "cell_type": "code",
   "execution_count": 46,
   "metadata": {
    "colab": {
     "base_uri": "https://localhost:8080/",
     "height": 35
    },
    "colab_type": "code",
    "id": "QCC499FogzmQ",
    "outputId": "8fa72696-1dac-4de4-bbe4-17927a98c071"
   },
   "outputs": [
    {
     "data": {
      "text/plain": [
       "['we gave them a set of dishes for a wedding present']"
      ]
     },
     "execution_count": 46,
     "metadata": {
      "tags": []
     },
     "output_type": "execute_result"
    }
   ],
   "source": [
    "wn.synsets('dish')[0].examples()"
   ]
  },
  {
   "cell_type": "code",
   "execution_count": 47,
   "metadata": {
    "colab": {
     "base_uri": "https://localhost:8080/",
     "height": 35
    },
    "colab_type": "code",
    "id": "VYuz3TNNgzmW",
    "outputId": "9cc087aa-9f5f-48e0-e522-e546a5973307"
   },
   "outputs": [
    {
     "data": {
      "text/plain": [
       "[Lemma('dish.n.01.dish')]"
      ]
     },
     "execution_count": 47,
     "metadata": {
      "tags": []
     },
     "output_type": "execute_result"
    }
   ],
   "source": [
    "wn.synsets('dish')[0].lemmas()"
   ]
  },
  {
   "cell_type": "code",
   "execution_count": 48,
   "metadata": {
    "colab": {
     "base_uri": "https://localhost:8080/",
     "height": 35
    },
    "colab_type": "code",
    "id": "DJIZz_pbgzmd",
    "outputId": "61cb5b17-f7c3-4a61-d9cc-e45d028a37b4"
   },
   "outputs": [
    {
     "data": {
      "text/plain": [
       "Lemma('dish.n.01.dish')"
      ]
     },
     "execution_count": 48,
     "metadata": {
      "tags": []
     },
     "output_type": "execute_result"
    }
   ],
   "source": [
    "wn.lemma('dish.n.01.dish')"
   ]
  },
  {
   "cell_type": "code",
   "execution_count": 49,
   "metadata": {
    "colab": {
     "base_uri": "https://localhost:8080/",
     "height": 35
    },
    "colab_type": "code",
    "id": "x4PfnM3Bgzmk",
    "outputId": "cbc535ed-e3e9-4f21-9a11-866e1b24facf"
   },
   "outputs": [
    {
     "data": {
      "text/plain": [
       "Synset('dish.n.01')"
      ]
     },
     "execution_count": 49,
     "metadata": {
      "tags": []
     },
     "output_type": "execute_result"
    }
   ],
   "source": [
    "wn.lemma('dish.n.01.dish').synset()"
   ]
  },
  {
   "cell_type": "code",
   "execution_count": 50,
   "metadata": {
    "colab": {
     "base_uri": "https://localhost:8080/",
     "height": 35
    },
    "colab_type": "code",
    "id": "d4mF5M5Lgzms",
    "outputId": "6ff4b3e7-b12b-440d-8089-cb26b1a67677"
   },
   "outputs": [
    {
     "data": {
      "text/plain": [
       "'dish'"
      ]
     },
     "execution_count": 50,
     "metadata": {
      "tags": []
     },
     "output_type": "execute_result"
    }
   ],
   "source": [
    "wn.lemma('dish.n.01.dish').name()"
   ]
  },
  {
   "cell_type": "code",
   "execution_count": 51,
   "metadata": {
    "colab": {
     "base_uri": "https://localhost:8080/",
     "height": 164
    },
    "colab_type": "code",
    "id": "6_2Cnh6Ggzmy",
    "outputId": "e4c7c178-8f85-44ec-e501-1f90ba74ac11"
   },
   "outputs": [
    {
     "name": "stdout",
     "output_type": "stream",
     "text": [
      "['dish']\n",
      "['dish']\n",
      "['dish', 'dishful']\n",
      "['smasher', 'stunner', 'knockout', 'beauty', 'ravisher', 'sweetheart', 'peach', 'lulu', 'looker', 'mantrap', 'dish']\n",
      "['dish', 'dish_aerial', 'dish_antenna', 'saucer']\n",
      "['cup_of_tea', 'bag', 'dish']\n",
      "['serve', 'serve_up', 'dish_out', 'dish_up', 'dish']\n",
      "['dish']\n"
     ]
    }
   ],
   "source": [
    "for synset in wn.synsets('dish'):\n",
    "    print (synset.lemma_names())"
   ]
  },
  {
   "cell_type": "code",
   "execution_count": 52,
   "metadata": {
    "colab": {
     "base_uri": "https://localhost:8080/",
     "height": 35
    },
    "colab_type": "code",
    "id": "rhIYrAP0gzm3",
    "outputId": "dfb01fb1-0b13-42f3-9972-7295f35a0602"
   },
   "outputs": [
    {
     "data": {
      "text/plain": [
       "Synset('ramekin.n.02')"
      ]
     },
     "execution_count": 52,
     "metadata": {
      "tags": []
     },
     "output_type": "execute_result"
    }
   ],
   "source": [
    "#Your Turn Page 70 \n",
    "wn.synsets('dish')\n",
    "var = wn.synset('dish.n.01')\n",
    "types = var.hyponyms()\n",
    "types[6]"
   ]
  },
  {
   "cell_type": "code",
   "execution_count": 53,
   "metadata": {
    "colab": {
     "base_uri": "https://localhost:8080/",
     "height": 274
    },
    "colab_type": "code",
    "id": "8I-xMSCzgzm9",
    "outputId": "a9b59124-5ba0-4c86-a81c-154a4861cea8"
   },
   "outputs": [
    {
     "data": {
      "text/plain": [
       "['Petri_dish',\n",
       " 'boat',\n",
       " 'bowl',\n",
       " 'butter_dish',\n",
       " 'casserole',\n",
       " 'coquille',\n",
       " 'gravy_boat',\n",
       " 'gravy_holder',\n",
       " 'ramekin',\n",
       " 'ramequin',\n",
       " 'sauceboat',\n",
       " 'serving_dish',\n",
       " 'sugar_bowl',\n",
       " 'watch_glass']"
      ]
     },
     "execution_count": 53,
     "metadata": {
      "tags": []
     },
     "output_type": "execute_result"
    }
   ],
   "source": [
    "sorted(lemma.name() for synset in types for lemma in synset.lemmas())\n",
    "#root = sorted(lemma.name() for synset in root for lemma in synset.lemmas())"
   ]
  },
  {
   "cell_type": "code",
   "execution_count": 54,
   "metadata": {
    "colab": {
     "base_uri": "https://localhost:8080/",
     "height": 35
    },
    "colab_type": "code",
    "id": "qLD8QHHRgznD",
    "outputId": "6d08dff1-ecb6-43e4-ce20-a895b2adc419"
   },
   "outputs": [
    {
     "data": {
      "text/plain": [
       "[Synset('container.n.01'), Synset('crockery.n.01')]"
      ]
     },
     "execution_count": 54,
     "metadata": {
      "tags": []
     },
     "output_type": "execute_result"
    }
   ],
   "source": [
    "var.hypernyms()"
   ]
  },
  {
   "cell_type": "code",
   "execution_count": 55,
   "metadata": {
    "colab": {
     "base_uri": "https://localhost:8080/",
     "height": 35
    },
    "colab_type": "code",
    "id": "p6FBjZIXgznJ",
    "outputId": "dfd9c24e-d0e5-49eb-a554-a46d1fa7c4e0"
   },
   "outputs": [
    {
     "data": {
      "text/plain": [
       "2"
      ]
     },
     "execution_count": 55,
     "metadata": {
      "tags": []
     },
     "output_type": "execute_result"
    }
   ],
   "source": [
    "path = var.hypernym_paths()\n",
    "len(path)"
   ]
  },
  {
   "cell_type": "code",
   "execution_count": 56,
   "metadata": {
    "colab": {
     "base_uri": "https://localhost:8080/",
     "height": 164
    },
    "colab_type": "code",
    "id": "PbAdNaqIgznP",
    "outputId": "5afc61da-0b0a-4794-c242-8078dee440f7"
   },
   "outputs": [
    {
     "data": {
      "text/plain": [
       "['entity.n.01',\n",
       " 'physical_entity.n.01',\n",
       " 'object.n.01',\n",
       " 'whole.n.02',\n",
       " 'artifact.n.01',\n",
       " 'instrumentality.n.03',\n",
       " 'container.n.01',\n",
       " 'dish.n.01']"
      ]
     },
     "execution_count": 56,
     "metadata": {
      "tags": []
     },
     "output_type": "execute_result"
    }
   ],
   "source": [
    "[synset.name() for synset in path[0]]"
   ]
  },
  {
   "cell_type": "code",
   "execution_count": 57,
   "metadata": {
    "colab": {
     "base_uri": "https://localhost:8080/",
     "height": 201
    },
    "colab_type": "code",
    "id": "vBsEoJLVgznU",
    "outputId": "3f9f395d-db52-46d4-db59-6440e1d75bb8"
   },
   "outputs": [
    {
     "data": {
      "text/plain": [
       "['entity.n.01',\n",
       " 'physical_entity.n.01',\n",
       " 'object.n.01',\n",
       " 'whole.n.02',\n",
       " 'artifact.n.01',\n",
       " 'article.n.02',\n",
       " 'ware.n.01',\n",
       " 'tableware.n.01',\n",
       " 'crockery.n.01',\n",
       " 'dish.n.01']"
      ]
     },
     "execution_count": 57,
     "metadata": {
      "tags": []
     },
     "output_type": "execute_result"
    }
   ],
   "source": [
    "[synset.name() for synset in path[1]]"
   ]
  },
  {
   "cell_type": "code",
   "execution_count": 58,
   "metadata": {
    "colab": {
     "base_uri": "https://localhost:8080/",
     "height": 35
    },
    "colab_type": "code",
    "id": "UA3PtMaMgznX",
    "outputId": "30864172-3301-42f3-8b40-48ff7a74dc16"
   },
   "outputs": [
    {
     "data": {
      "text/plain": [
       "[Synset('entity.n.01')]"
      ]
     },
     "execution_count": 58,
     "metadata": {
      "tags": []
     },
     "output_type": "execute_result"
    }
   ],
   "source": [
    "var.root_hypernyms()"
   ]
  },
  {
   "cell_type": "code",
   "execution_count": 59,
   "metadata": {
    "colab": {
     "base_uri": "https://localhost:8080/",
     "height": 35
    },
    "colab_type": "code",
    "id": "0_VuSkkvgznd",
    "outputId": "5887dace-e70e-4cf1-e7f9-9338b56ee71f"
   },
   "outputs": [
    {
     "data": {
      "text/plain": [
       "[Synset('entity.n.01')]"
      ]
     },
     "execution_count": 59,
     "metadata": {
      "tags": []
     },
     "output_type": "execute_result"
    }
   ],
   "source": [
    "wn.synsets('bike')\n",
    "bike = wn.synset('motorcycle.n.01')\n",
    "types = bike.hyponyms()\n",
    "types\n",
    "bike.root_hypernyms()\n"
   ]
  },
  {
   "cell_type": "code",
   "execution_count": 60,
   "metadata": {
    "colab": {
     "base_uri": "https://localhost:8080/",
     "height": 35
    },
    "colab_type": "code",
    "id": "3jSXtHA6gznk",
    "outputId": "9cf78396-ffda-4429-cc3e-042e32f533e0"
   },
   "outputs": [
    {
     "data": {
      "text/plain": [
       "[Synset('entity.n.01')]"
      ]
     },
     "execution_count": 60,
     "metadata": {
      "tags": []
     },
     "output_type": "execute_result"
    }
   ],
   "source": [
    "house.root_hypernyms()"
   ]
  },
  {
   "cell_type": "code",
   "execution_count": 0,
   "metadata": {
    "colab": {},
    "colab_type": "code",
    "id": "BaMiGo0Xgznr"
   },
   "outputs": [],
   "source": [
    "typesb = bike.hyponyms()"
   ]
  },
  {
   "cell_type": "code",
   "execution_count": 62,
   "metadata": {
    "colab": {
     "base_uri": "https://localhost:8080/",
     "height": 35
    },
    "colab_type": "code",
    "id": "v9xgN2WMgznx",
    "outputId": "7f145bba-2092-4be3-f8cd-54dac2742521"
   },
   "outputs": [
    {
     "data": {
      "text/plain": [
       "[Synset('minibike.n.01'), Synset('trail_bike.n.01')]"
      ]
     },
     "execution_count": 62,
     "metadata": {
      "tags": []
     },
     "output_type": "execute_result"
    }
   ],
   "source": [
    "typesb"
   ]
  },
  {
   "cell_type": "code",
   "execution_count": 63,
   "metadata": {
    "colab": {
     "base_uri": "https://localhost:8080/",
     "height": 35
    },
    "colab_type": "code",
    "id": "m9Zjnb4pgzn1",
    "outputId": "7d22ef98-bfa8-4c1f-9ce8-599f4cbdd733"
   },
   "outputs": [
    {
     "data": {
      "text/plain": [
       "[Synset('entity.n.01')]"
      ]
     },
     "execution_count": 63,
     "metadata": {
      "tags": []
     },
     "output_type": "execute_result"
    }
   ],
   "source": [
    "bike.root_hypernyms()"
   ]
  },
  {
   "cell_type": "code",
   "execution_count": 64,
   "metadata": {
    "colab": {
     "base_uri": "https://localhost:8080/",
     "height": 35
    },
    "colab_type": "code",
    "id": "vH5-DAeKgzn9",
    "outputId": "971999b2-dd96-4f99-b6a8-ca2c990afa76"
   },
   "outputs": [
    {
     "data": {
      "text/plain": [
       "[Synset('heartwood.n.01'), Synset('sapwood.n.01')]"
      ]
     },
     "execution_count": 64,
     "metadata": {
      "tags": []
     },
     "output_type": "execute_result"
    }
   ],
   "source": [
    "#2.8.5 \n",
    "#from nltk.app.wordnet_app import app as wordnet\n",
    "\n",
    "wn.synset('tree.n.01').substance_meronyms()"
   ]
  },
  {
   "cell_type": "code",
   "execution_count": 65,
   "metadata": {
    "colab": {
     "base_uri": "https://localhost:8080/",
     "height": 35
    },
    "colab_type": "code",
    "id": "2MLAIR0fgzoB",
    "outputId": "77b7f23e-f30c-4228-fdd6-d073f7a0260d"
   },
   "outputs": [
    {
     "data": {
      "text/plain": [
       "[Synset('forest.n.01')]"
      ]
     },
     "execution_count": 65,
     "metadata": {
      "tags": []
     },
     "output_type": "execute_result"
    }
   ],
   "source": [
    "wn.synset('tree.n.01').member_holonyms()"
   ]
  },
  {
   "cell_type": "code",
   "execution_count": 66,
   "metadata": {
    "colab": {
     "base_uri": "https://localhost:8080/",
     "height": 404
    },
    "colab_type": "code",
    "id": "WZDTQZ8-gzoE",
    "outputId": "55d19bbc-bf2f-40bf-fd12-640ca281e102"
   },
   "outputs": [
    {
     "name": "stdout",
     "output_type": "stream",
     "text": [
      "[Synset('tree.n.01'), Synset('tree.n.02'), Synset('tree.n.03'), Synset('corner.v.02'), Synset('tree.v.02'), Synset('tree.v.03'), Synset('tree.v.04')]\n",
      "['tree']\n",
      "a tall perennial woody plant having a main trunk and branches forming a distinct elevated crown; includes both gymnosperms and angiosperms\n",
      "[]\n",
      "[]\n",
      "[Synset('burl.n.02'), Synset('crown.n.07'), Synset('limb.n.02'), Synset('stump.n.01'), Synset('trunk.n.01')]\n",
      "[Synset('heartwood.n.01'), Synset('sapwood.n.01')]\n",
      "[Synset('forest.n.01')]\n",
      "[]\n",
      "[]\n",
      "[Synset('water.n.01'), Synset('body_of_water.n.01'), Synset('water.n.03'), Synset('water_system.n.02'), Synset('urine.n.01'), Synset('water.n.06'), Synset('water.v.01'), Synset('water.v.02'), Synset('water.v.03'), Synset('water.v.04')]\n",
      "['water', 'H2O']\n",
      "binary compound that occurs at room temperature as a clear colorless odorless tasteless liquid; freezes into ice below 0 degrees centigrade and boils above 100 degrees centigrade; widely used as a solvent\n",
      "[]\n",
      "[]\n",
      "[]\n",
      "[Synset('hydrogen.n.01'), Synset('oxygen.n.01')]\n",
      "[]\n",
      "[]\n",
      "[Synset('body_of_water.n.01'), Synset('ice.n.01'), Synset('ice_crystal.n.01'), Synset('perspiration.n.01'), Synset('snowflake.n.01'), Synset('tear.n.01')]\n"
     ]
    }
   ],
   "source": [
    "tree = wn.synsets('tree')\n",
    "print(tree)\n",
    "tree = wn.synset('tree.n.01')\n",
    "print(tree.lemma_names())\n",
    "print(tree.definition())\n",
    "print(tree.examples())\n",
    "print(tree.member_meronyms())\n",
    "print(tree.part_meronyms())\n",
    "print(tree.substance_meronyms())\n",
    "print(tree.member_holonyms())\n",
    "print(tree.part_holonyms())\n",
    "print(tree.substance_holonyms())\n",
    "water = wn.synsets('water')\n",
    "print(water)\n",
    "water = wn.synset('water.n.01')\n",
    "print(water.lemma_names())\n",
    "print(water.definition())\n",
    "print(water.examples())\n",
    "print(water.member_meronyms())\n",
    "print(water.part_meronyms())\n",
    "print(water.substance_meronyms())\n",
    "print(water.member_holonyms())\n",
    "print(water.part_holonyms())\n",
    "print(water.substance_holonyms())\n",
    "\n",
    "\n",
    "\n"
   ]
  },
  {
   "cell_type": "code",
   "execution_count": 67,
   "metadata": {
    "colab": {
     "base_uri": "https://localhost:8080/",
     "height": 404
    },
    "colab_type": "code",
    "id": "wU4cRtmrgzoK",
    "outputId": "2d88e381-bdeb-46e6-ca53-4e69513610f2"
   },
   "outputs": [
    {
     "name": "stdout",
     "output_type": "stream",
     "text": [
      "[Synset('house.n.01'), Synset('firm.n.01'), Synset('house.n.03'), Synset('house.n.04'), Synset('house.n.05'), Synset('house.n.06'), Synset('house.n.07'), Synset('sign_of_the_zodiac.n.01'), Synset('house.n.09'), Synset('family.n.01'), Synset('theater.n.01'), Synset('house.n.12'), Synset('house.v.01'), Synset('house.v.02')]\n",
      "['house']\n",
      "a dwelling that serves as living quarters for one or more families\n",
      "['he has a house on Cape Cod', 'she felt she had to get out of the house']\n",
      "[]\n",
      "[Synset('library.n.01'), Synset('loft.n.02'), Synset('porch.n.01'), Synset('study.n.05')]\n",
      "[]\n",
      "[]\n",
      "[]\n",
      "[]\n",
      "[Synset('food.n.01'), Synset('food.n.02'), Synset('food.n.03')]\n",
      "['food', 'nutrient']\n",
      "any substance that can be metabolized by an animal to give energy and build tissue\n",
      "[]\n",
      "[]\n",
      "[Synset('food.n.02')]\n",
      "[]\n",
      "[]\n",
      "[]\n",
      "[]\n"
     ]
    }
   ],
   "source": [
    "house = wn.synsets('house')\n",
    "print(house)\n",
    "house = wn.synset('house.n.01')\n",
    "print(house.lemma_names())\n",
    "print(house.definition())\n",
    "print(house.examples())\n",
    "print(house.member_meronyms())\n",
    "print(house.part_meronyms())\n",
    "print(house.substance_meronyms())\n",
    "print(house.member_holonyms())\n",
    "print(house.part_holonyms())\n",
    "print(house.substance_holonyms())\n",
    "food = wn.synsets('food')\n",
    "print(food)\n",
    "food = wn.synset('food.n.01')\n",
    "print(food.lemma_names())\n",
    "print(food.definition())\n",
    "print(food.examples())\n",
    "print(food.member_meronyms())\n",
    "print(food.part_meronyms())\n",
    "print(food.substance_meronyms())\n",
    "print(food.member_holonyms())\n",
    "print(food.part_holonyms())\n",
    "print(food.substance_holonyms())"
   ]
  },
  {
   "cell_type": "code",
   "execution_count": 68,
   "metadata": {
    "colab": {
     "base_uri": "https://localhost:8080/",
     "height": 404
    },
    "colab_type": "code",
    "id": "uoFKPSFFgzoP",
    "outputId": "3021a7ef-f967-4edd-9dd6-9a9c08cbf862"
   },
   "outputs": [
    {
     "name": "stdout",
     "output_type": "stream",
     "text": [
      "[Synset('house.n.01'), Synset('firm.n.01'), Synset('house.n.03'), Synset('house.n.04'), Synset('house.n.05'), Synset('house.n.06'), Synset('house.n.07'), Synset('sign_of_the_zodiac.n.01'), Synset('house.n.09'), Synset('family.n.01'), Synset('theater.n.01'), Synset('house.n.12'), Synset('house.v.01'), Synset('house.v.02')]\n",
      "['house']\n",
      "a dwelling that serves as living quarters for one or more families\n",
      "['he has a house on Cape Cod', 'she felt she had to get out of the house']\n",
      "[]\n",
      "[Synset('library.n.01'), Synset('loft.n.02'), Synset('porch.n.01'), Synset('study.n.05')]\n",
      "[]\n",
      "[]\n",
      "[]\n",
      "[]\n",
      "[Synset('food.n.01'), Synset('food.n.02'), Synset('food.n.03')]\n",
      "['food', 'nutrient']\n",
      "any substance that can be metabolized by an animal to give energy and build tissue\n",
      "[]\n",
      "[]\n",
      "[Synset('food.n.02')]\n",
      "[]\n",
      "[]\n",
      "[]\n",
      "[]\n"
     ]
    }
   ],
   "source": [
    "house = wn.synsets('house')\n",
    "print(house)\n",
    "house = wn.synset('house.n.01')\n",
    "print(house.lemma_names())\n",
    "print(house.definition())\n",
    "print(house.examples())\n",
    "print(house.member_meronyms())\n",
    "print(house.part_meronyms())\n",
    "print(house.substance_meronyms())\n",
    "print(house.member_holonyms())\n",
    "print(house.part_holonyms())\n",
    "print(house.substance_holonyms())\n",
    "food = wn.synsets('food')\n",
    "print(food)\n",
    "food = wn.synset('food.n.01')\n",
    "print(food.lemma_names())\n",
    "print(food.definition())\n",
    "print(food.examples())\n",
    "print(food.member_meronyms())\n",
    "print(food.part_meronyms())\n",
    "print(food.substance_meronyms())\n",
    "print(food.member_holonyms())\n",
    "print(food.part_holonyms())\n",
    "print(food.substance_holonyms())"
   ]
  },
  {
   "cell_type": "code",
   "execution_count": 69,
   "metadata": {
    "colab": {
     "base_uri": "https://localhost:8080/",
     "height": 623
    },
    "colab_type": "code",
    "id": "QLMPWuEVgzoR",
    "outputId": "84aa1415-9c09-42b1-fba0-db16a8b976e1"
   },
   "outputs": [
    {
     "name": "stdout",
     "output_type": "stream",
     "text": [
      "a motor vehicle with four wheels; usually propelled by an internal combustion engine\n",
      "a vehicle that takes people to and from hospitals\n",
      "a car that has a long body and rear door with space behind rear seat\n",
      "a car that is old and unreliable\n",
      "a car driven by a person whose job is to take passengers where they want to go in exchange for money\n",
      "a small and economical car\n",
      "a car that has top that can be folded or removed\n",
      "a car with two doors and front seats and a luggage compartment\n",
      "a car in which policemen cruise the streets; equipped with radiotelephonic communications to headquarters\n",
      "a car that is powered by electricity\n",
      "a car with relatively low fuel efficiency\n",
      "a car that resembles a convertible but has a fixed rigid top\n",
      "a car having a hatchback door\n",
      "an early term for an automobile\n",
      "a car modified to increase its speed and acceleration\n",
      "a car suitable for traveling over rough terrain\n",
      "large luxurious car; usually driven by a chauffeur\n",
      "a car that is lent as a replacement for one that is under repair\n",
      "a car that is even smaller than a subcompact car\n",
      "a small box-shaped passenger van; usually has removable seats; used as a family car\n",
      "the first widely available automobile powered by a gasoline engine; mass-produced by Henry Ford from 1908 to 1927\n",
      "a high-performance car that leads a parade of competing cars through the pace lap and then pulls off the course\n",
      "a fast car that competes in races\n",
      "an open automobile having a front seat and a rumble seat\n",
      "a car that is closed and that has front and rear seats and two or four doors\n",
      "a high-performance four-wheel drive car built on a truck chassis\n",
      "a small low car with a high-powered engine; usually seats two persons\n",
      "a steam-powered automobile\n",
      "a car kept in dealers' stock for regular sales\n",
      "a car smaller than a compact car\n",
      "large open car seating four with folding top\n",
      "a car that has been previously owned; not a new car\n",
      "a self-propelled wheeled vehicle that does not run on rails\n"
     ]
    }
   ],
   "source": [
    "def supergloss(s):\n",
    "    definitions = s.definition();\n",
    "    for hypo in s.hyponyms():\n",
    "        definitions+= \"\\n\"+hypo.definition()\n",
    "    for hyper in s.hypernyms():\n",
    "        definitions+= \"\\n\"+hyper.definition()\n",
    "    return definitions\n",
    "definitions = supergloss(wn.synset('car.n.01'))\n",
    "print(definitions)"
   ]
  },
  {
   "cell_type": "code",
   "execution_count": 70,
   "metadata": {
    "colab": {
     "base_uri": "https://localhost:8080/",
     "height": 531
    },
    "colab_type": "code",
    "id": "MN96-aBJgzoU",
    "outputId": "61563765-bcf2-468b-f022-f58c7774d4a7"
   },
   "outputs": [
    {
     "name": "stdout",
     "output_type": "stream",
     "text": [
      "a small vessel for travel on water\n",
      "a boat built by Noah to save his family and animals from the flood\n",
      "a flatbottom boat for carrying heavy loads (especially on canals)\n",
      "a small boat that ferries supplies and commodities for sale to a larger ship at anchor\n",
      "a long boat that carries freight and is narrow enough to be used in canals\n",
      "a boat that transports people or vehicles across a body of water and operates on a regular schedule\n",
      "a boat equipped to fight fires on ships or along a waterfront\n",
      "long narrow flat-bottomed boat propelled by sculling; traditionally used on canals of Venice\n",
      "a boat that is on guard duty (as in a harbor) around a fleet of warships\n",
      "a small shallow-draft boat carrying mounted guns; used by costal patrols\n",
      "any of various Chinese boats with a high poop and lugsails\n",
      "the largest boat carried by a merchant sailing vessel\n",
      "small fishing boat rigged with one or more lugsails\n",
      "a flat-bottomed boat used on upper Great Lakes\n",
      "a boat for carrying mail\n",
      "a boat propelled by an internal-combustion engine\n",
      "a boat to carry pilots to and from large ships\n",
      "a boat used by harbor police\n",
      "an open flat-bottomed boat used in shallow waters and propelled by a long pole\n",
      "a boat used on rivers or to ply a river\n",
      "any of various flat-bottomed boats with sloping ends\n",
      "a boat that is seaworthy; that is adapted to the open seas\n",
      "a boat that is small\n",
      "a boat propelled by a steam engine\n",
      "a boat that can be launched or landed in heavy surf\n",
      "a boat for communication between ship and shore\n",
      "a powerful small boat designed to pull or push larger ships\n",
      "a craft designed for water transportation\n"
     ]
    }
   ],
   "source": [
    "def supergloss(s):\n",
    "    definitions = s.definition();\n",
    "    for hypo in s.hyponyms():\n",
    "        definitions+= \"\\n\"+hypo.definition()\n",
    "    for hyper in s.hypernyms():\n",
    "        definitions+= \"\\n\"+hyper.definition()\n",
    "    return definitions\n",
    "definitions = supergloss(wn.synset('boat.n.01'))\n",
    "print(definitions)"
   ]
  },
  {
   "cell_type": "code",
   "execution_count": 0,
   "metadata": {
    "colab": {},
    "colab_type": "code",
    "id": "qGINuWfSgzoW"
   },
   "outputs": [],
   "source": [
    "#2.8.27\n"
   ]
  },
  {
   "cell_type": "code",
   "execution_count": 71,
   "metadata": {
    "colab": {
     "base_uri": "https://localhost:8080/",
     "height": 35
    },
    "colab_type": "code",
    "id": "UWJ3CyFCgzoZ",
    "outputId": "0a1b4ab7-5e40-466a-b20e-eafdb0e509f3"
   },
   "outputs": [
    {
     "data": {
      "text/plain": [
       "7"
      ]
     },
     "execution_count": 71,
     "metadata": {
      "tags": []
     },
     "output_type": "execute_result"
    }
   ],
   "source": [
    "len(wn.synsets('dog','n'))"
   ]
  },
  {
   "cell_type": "code",
   "execution_count": 72,
   "metadata": {
    "colab": {
     "base_uri": "https://localhost:8080/",
     "height": 72
    },
    "colab_type": "code",
    "id": "vNJxVs7Mgzob",
    "outputId": "aeae34ef-367c-4b52-d10c-bef550550390"
   },
   "outputs": [
    {
     "name": "stdout",
     "output_type": "stream",
     "text": [
      "Total distinct lemmas:  119034\n",
      "Total senses : 152763\n",
      "Average Polysemy of  n :  1.2833560159282222\n"
     ]
    }
   ],
   "source": [
    "#nouns\n",
    "type = 'n'\n",
    "synsets = wn.all_synsets(type)\n",
    "lemmas = []\n",
    "for synset in synsets:\n",
    "  for lemma in synset.lemmas():\n",
    "    lemmas.append(lemma.name())\n",
    "lemmas = set(lemmas)\n",
    "count = 0\n",
    "for lemma in lemmas:\n",
    "  count = count + len(wn.synsets(lemma, type))\n",
    "print('Total distinct lemmas: ', len(lemmas))\n",
    "print('Total senses :',count)\n",
    "print('Average Polysemy of ', type,': ' , count/len(lemmas))"
   ]
  },
  {
   "cell_type": "code",
   "execution_count": 73,
   "metadata": {
    "colab": {
     "base_uri": "https://localhost:8080/",
     "height": 72
    },
    "colab_type": "code",
    "id": "BB69XA2kgzof",
    "outputId": "c9d2d852-2c0e-4e5b-ccc4-50c0cc39e104"
   },
   "outputs": [
    {
     "name": "stdout",
     "output_type": "stream",
     "text": [
      "Total distinct lemmas:  11531\n",
      "Total senses : 25214\n",
      "Average Polysemy of  v :  2.1866273523545225\n"
     ]
    }
   ],
   "source": [
    "#verbs\n",
    "type = 'v'\n",
    "synsets = wn.all_synsets(type)\n",
    "lemmas = []\n",
    "for synset in synsets:\n",
    "  for lemma in synset.lemmas():\n",
    "    lemmas.append(lemma.name())\n",
    "lemmas = set(lemmas)\n",
    "count = 0\n",
    "for lemma in lemmas:\n",
    "  count = count + len(wn.synsets(lemma, type))\n",
    "print('Total distinct lemmas: ', len(lemmas))\n",
    "print('Total senses :',count)\n",
    "print('Average Polysemy of ', type,': ' , count/len(lemmas))"
   ]
  },
  {
   "cell_type": "code",
   "execution_count": 74,
   "metadata": {
    "colab": {
     "base_uri": "https://localhost:8080/",
     "height": 72
    },
    "colab_type": "code",
    "id": "-e2xqcvfgzoh",
    "outputId": "94e18599-c49f-409b-c3d3-1b3321bc3f55"
   },
   "outputs": [
    {
     "name": "stdout",
     "output_type": "stream",
     "text": [
      "Total distinct lemmas:  21538\n",
      "Total senses : 30379\n",
      "Average Polysemy of  a :  1.4104837960813446\n"
     ]
    }
   ],
   "source": [
    "#adjectives\n",
    "type = 'a'\n",
    "synsets = wn.all_synsets(type)\n",
    "lemmas = []\n",
    "for synset in synsets:\n",
    "  for lemma in synset.lemmas():\n",
    "    lemmas.append(lemma.name())\n",
    "lemmas = set(lemmas)\n",
    "count = 0\n",
    "for lemma in lemmas:\n",
    "  count = count + len(wn.synsets(lemma, type))\n",
    "print('Total distinct lemmas: ', len(lemmas))\n",
    "print('Total senses :',count)\n",
    "print('Average Polysemy of ', type,': ' , count/len(lemmas))"
   ]
  },
  {
   "cell_type": "code",
   "execution_count": 75,
   "metadata": {
    "colab": {
     "base_uri": "https://localhost:8080/",
     "height": 72
    },
    "colab_type": "code",
    "id": "xDOtCi-Hgzok",
    "outputId": "15b87034-f092-45b8-cea8-e97e5e684aca"
   },
   "outputs": [
    {
     "name": "stdout",
     "output_type": "stream",
     "text": [
      "Total distinct lemmas:  4481\n",
      "Total senses : 5616\n",
      "Average Polysemy of  r :  1.2532916759651864\n"
     ]
    }
   ],
   "source": [
    "#adverbs\n",
    "type = 'r'\n",
    "synsets = wn.all_synsets(type)\n",
    "lemmas = []\n",
    "for synset in synsets:\n",
    "  for lemma in synset.lemmas():\n",
    "    lemmas.append(lemma.name())\n",
    "lemmas = set(lemmas)\n",
    "count = 0\n",
    "for lemma in lemmas:\n",
    "  count = count + len(wn.synsets(lemma, type))\n",
    "print('Total distinct lemmas: ', len(lemmas))\n",
    "print('Total senses :',count)\n",
    "print('Average Polysemy of ', type,': ' , count/len(lemmas))"
   ]
  },
  {
   "cell_type": "code",
   "execution_count": 0,
   "metadata": {
    "colab": {},
    "colab_type": "code",
    "id": "o0AtgUo2gzop"
   },
   "outputs": [],
   "source": [
    "\n",
    "\n"
   ]
  },
  {
   "cell_type": "code",
   "execution_count": 0,
   "metadata": {
    "colab": {},
    "colab_type": "code",
    "id": "Pt1ACPkHgzow"
   },
   "outputs": [],
   "source": []
  }
 ],
 "metadata": {
  "colab": {
   "name": "NLP+Assignment2 (2).ipynb",
   "provenance": []
  },
  "kernelspec": {
   "display_name": "Python 3",
   "language": "python",
   "name": "python3"
  },
  "language_info": {
   "codemirror_mode": {
    "name": "ipython",
    "version": 3
   },
   "file_extension": ".py",
   "mimetype": "text/x-python",
   "name": "python",
   "nbconvert_exporter": "python",
   "pygments_lexer": "ipython3",
   "version": "3.7.7"
  }
 },
 "nbformat": 4,
 "nbformat_minor": 1
}
