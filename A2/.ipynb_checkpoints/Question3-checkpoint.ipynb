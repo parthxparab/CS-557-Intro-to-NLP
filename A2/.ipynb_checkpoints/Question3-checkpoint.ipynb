{
 "cells": [
  {
   "cell_type": "code",
   "execution_count": 11,
   "metadata": {
    "colab": {
     "base_uri": "https://localhost:8080/",
     "height": 109
    },
    "colab_type": "code",
    "id": "xOw6n5asgnt4",
    "outputId": "5c7b8dfa-474c-4103-d2c3-416a9c37ba03"
   },
   "outputs": [
    {
     "name": "stdout",
     "output_type": "stream",
     "text": [
      "[nltk_data] Downloading package gutenberg to /root/nltk_data...\n",
      "[nltk_data]   Package gutenberg is already up-to-date!\n",
      "[nltk_data] Downloading package punkt to /root/nltk_data...\n",
      "[nltk_data]   Unzipping tokenizers/punkt.zip.\n"
     ]
    },
    {
     "data": {
      "text/plain": [
       "True"
      ]
     },
     "execution_count": 11,
     "metadata": {
      "tags": []
     },
     "output_type": "execute_result"
    }
   ],
   "source": [
    "import nltk\n",
    "nltk.download('gutenberg')\n",
    "nltk.download('punkt')\n",
    "# from nltk.corpus import gutenberg\n"
   ]
  },
  {
   "cell_type": "code",
   "execution_count": 12,
   "metadata": {
    "colab": {
     "base_uri": "https://localhost:8080/",
     "height": 348
    },
    "colab_type": "code",
    "id": "msQa25fTgnuE",
    "outputId": "7dbbadaf-867b-4b11-9005-681d38e8d78a"
   },
   "outputs": [
    {
     "data": {
      "text/plain": [
       "['austen-emma.txt',\n",
       " 'austen-persuasion.txt',\n",
       " 'austen-sense.txt',\n",
       " 'bible-kjv.txt',\n",
       " 'blake-poems.txt',\n",
       " 'bryant-stories.txt',\n",
       " 'burgess-busterbrown.txt',\n",
       " 'carroll-alice.txt',\n",
       " 'chesterton-ball.txt',\n",
       " 'chesterton-brown.txt',\n",
       " 'chesterton-thursday.txt',\n",
       " 'edgeworth-parents.txt',\n",
       " 'melville-moby_dick.txt',\n",
       " 'milton-paradise.txt',\n",
       " 'shakespeare-caesar.txt',\n",
       " 'shakespeare-hamlet.txt',\n",
       " 'shakespeare-macbeth.txt',\n",
       " 'whitman-leaves.txt']"
      ]
     },
     "execution_count": 12,
     "metadata": {
      "tags": []
     },
     "output_type": "execute_result"
    }
   ],
   "source": [
    "gutenberg.fileids()"
   ]
  },
  {
   "cell_type": "code",
   "execution_count": 13,
   "metadata": {
    "colab": {
     "base_uri": "https://localhost:8080/",
     "height": 348
    },
    "colab_type": "code",
    "id": "Xf90oW6tgnuL",
    "outputId": "e7acd5d3-21db-4fb3-f4aa-68760233fea7"
   },
   "outputs": [
    {
     "name": "stdout",
     "output_type": "stream",
     "text": [
      "7752\n",
      "3747\n",
      "4999\n",
      "30103\n",
      "438\n",
      "2863\n",
      "1054\n",
      "1703\n",
      "4779\n",
      "3806\n",
      "3742\n",
      "10230\n",
      "10059\n",
      "1851\n",
      "2163\n",
      "3106\n",
      "1907\n",
      "4250\n"
     ]
    }
   ],
   "source": [
    "for fileid in gutenberg.fileids():\n",
    "    num_sent = len(gutenberg.sents(fileid))\n",
    "    print(num_sent)"
   ]
  },
  {
   "cell_type": "code",
   "execution_count": 14,
   "metadata": {
    "colab": {
     "base_uri": "https://localhost:8080/",
     "height": 35
    },
    "colab_type": "code",
    "id": "K8CEqSVagnuR",
    "outputId": "8465200e-6b6e-4554-eaf4-782201e747f1"
   },
   "outputs": [
    {
     "data": {
      "text/plain": [
       "[['[', 'The', 'Tragedie', 'of', 'Macbeth', 'by', 'William', 'Shakespeare', '1603', ']'], ['Actus', 'Primus', '.'], ...]"
      ]
     },
     "execution_count": 14,
     "metadata": {
      "tags": []
     },
     "output_type": "execute_result"
    }
   ],
   "source": [
    "macbeth = gutenberg.sents('shakespeare-macbeth.txt')\n",
    "macbeth"
   ]
  },
  {
   "cell_type": "code",
   "execution_count": 15,
   "metadata": {
    "colab": {
     "base_uri": "https://localhost:8080/",
     "height": 55
    },
    "colab_type": "code",
    "id": "VVQzM_QQgnuX",
    "outputId": "59ebbf5c-c052-4eae-a73f-d2db595957c5",
    "scrolled": true
   },
   "outputs": [
    {
     "name": "stdout",
     "output_type": "stream",
     "text": [
      "Doubtfull it stood , As two spent Swimmers , that doe cling together , And choake their Art : The mercilesse Macdonwald ( Worthie to be a Rebell , for to that The multiplying Villanies of Nature Doe swarme vpon him ) from the Westerne Isles Of Kernes and Gallowgrosses is supply ' d , And Fortune on his damned Quarry smiling , Shew ' d like a Rebells Whore : but all ' s too weake : For braue Macbeth ( well hee deserues that Name ) Disdayning Fortune , with his brandisht Steele , Which smoak ' d with bloody execution ( Like Valours Minion ) caru ' d out his passage , Till hee fac ' d the Slaue : Which neu ' r shooke hands , nor bad farwell to him , Till he vnseam ' d him from the Naue toth ' Chops , And fix ' d his Head vpon our Battlements\n"
     ]
    }
   ],
   "source": [
    "longest = max(len(s) for s in macbeth)\n",
    "a = [s for s in macbeth if len(s) == longest]\n",
    "t_longest = ' '.join(str(x) for x in a[0])\n",
    "print(t_longest)"
   ]
  },
  {
   "cell_type": "code",
   "execution_count": 16,
   "metadata": {
    "colab": {
     "base_uri": "https://localhost:8080/",
     "height": 35
    },
    "colab_type": "code",
    "id": "ZNKvYVTWgnud",
    "outputId": "79bf7ac9-4d82-4101-a2d9-735cf6af2b5d"
   },
   "outputs": [
    {
     "data": {
      "text/plain": [
       "[['[', 'The', 'Adventures', 'of', 'Buster', 'Bear', 'by', 'Thornton', 'W', '.', 'Burgess', '1920', ']'], ['I'], ...]"
      ]
     },
     "execution_count": 16,
     "metadata": {
      "tags": []
     },
     "output_type": "execute_result"
    }
   ],
   "source": [
    "burgess = gutenberg.sents('burgess-busterbrown.txt')\n",
    "burgess"
   ]
  },
  {
   "cell_type": "code",
   "execution_count": 17,
   "metadata": {
    "colab": {
     "base_uri": "https://localhost:8080/",
     "height": 55
    },
    "colab_type": "code",
    "id": "fCVqwAWGgnuh",
    "outputId": "a218154e-acb3-45d3-d299-2df97cdcbc6e"
   },
   "outputs": [
    {
     "name": "stdout",
     "output_type": "stream",
     "text": [
      "Sammy Jay looked at Blacky the Crow , and Blacky looked at Chatterer , and Chatterer looked at Happy Jack , and Happy Jack looked at Peter Rabbit , and Peter looked at Unc ' Billy Possum , and Unc ' Billy looked at Bobby Coon , and Bobby looked at Johnny Chuck , and Johnny looked at Reddy Fox , and Reddy looked at Jimmy Skunk , and Jimmy looked at Billy Mink , and Billy looked at Little Joe Otter , and for a minute nobody could say a word .\n"
     ]
    }
   ],
   "source": [
    "longest = max(len(s) for s in burgess)\n",
    "a = [s for s in burgess if len(s) == longest]\n",
    "t_longest = ' '.join(str(x) for x in a[0])\n",
    "print(t_longest)"
   ]
  },
  {
   "cell_type": "code",
   "execution_count": 18,
   "metadata": {
    "colab": {
     "base_uri": "https://localhost:8080/",
     "height": 35
    },
    "colab_type": "code",
    "id": "TOwpIdVYgnum",
    "outputId": "095455a7-7752-4612-c192-a2dfaf46055e"
   },
   "outputs": [
    {
     "data": {
      "text/plain": [
       "[['[', 'Alice', \"'\", 's', 'Adventures', 'in', 'Wonderland', 'by', 'Lewis', 'Carroll', '1865', ']'], ['CHAPTER', 'I', '.'], ...]"
      ]
     },
     "execution_count": 18,
     "metadata": {
      "tags": []
     },
     "output_type": "execute_result"
    }
   ],
   "source": [
    "carroll = gutenberg.sents('carroll-alice.txt')\n",
    "carroll"
   ]
  },
  {
   "cell_type": "code",
   "execution_count": 19,
   "metadata": {
    "colab": {
     "base_uri": "https://localhost:8080/",
     "height": 55
    },
    "colab_type": "code",
    "id": "rd337fDGgnur",
    "outputId": "1f3d37c8-0e7e-4639-b422-dbe6d6507cd7"
   },
   "outputs": [
    {
     "name": "stdout",
     "output_type": "stream",
     "text": [
      "Hardly knowing what she did , she picked up a little bit of stick , and held it out to the puppy ; whereupon the puppy jumped into the air off all its feet at once , with a yelp of delight , and rushed at the stick , and made believe to worry it ; then Alice dodged behind a great thistle , to keep herself from being run over ; and the moment she appeared on the other side , the puppy made another rush at the stick , and tumbled head over heels in its hurry to get hold of it ; then Alice , thinking it was very like having a game of play with a cart - horse , and expecting every moment to be trampled under its feet , ran round the thistle again ; then the puppy began a series of short charges at the stick , running a very little way forwards each time and a long way back , and barking hoarsely all the while , till at last it sat down a good way off , panting , with its tongue hanging out of its mouth , and its great eyes half shut .\n"
     ]
    }
   ],
   "source": [
    "longest = max(len(s) for s in carroll)\n",
    "a = [s for s in carroll if len(s) == longest]\n",
    "t_longest = ' '.join(str(x) for x in a[0])\n",
    "print(t_longest)"
   ]
  },
  {
   "cell_type": "code",
   "execution_count": 0,
   "metadata": {
    "colab": {},
    "colab_type": "code",
    "id": "0nFrH06Ognuv"
   },
   "outputs": [],
   "source": []
  }
 ],
 "metadata": {
  "colab": {
   "collapsed_sections": [],
   "name": "nlp+assignment+2.3.ipynb",
   "provenance": []
  },
  "kernelspec": {
   "display_name": "Python 3",
   "language": "python",
   "name": "python3"
  },
  "language_info": {
   "codemirror_mode": {
    "name": "ipython",
    "version": 3
   },
   "file_extension": ".py",
   "mimetype": "text/x-python",
   "name": "python",
   "nbconvert_exporter": "python",
   "pygments_lexer": "ipython3",
   "version": "3.7.7"
  }
 },
 "nbformat": 4,
 "nbformat_minor": 1
}
