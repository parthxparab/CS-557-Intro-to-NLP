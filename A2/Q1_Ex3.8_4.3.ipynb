{
 "cells": [
  {
   "cell_type": "markdown",
   "metadata": {},
   "source": [
    "## QUESTION 1"
   ]
  },
  {
   "cell_type": "code",
   "execution_count": 1,
   "metadata": {},
   "outputs": [],
   "source": [
    "from collections import Counter\n",
    "from nltk.corpus import words\n",
    "import nltk\n",
    "from nltk import word_tokenize\n",
    "from nltk.util import ngrams\n",
    "import pandas as pd\n",
    "nltk.download('words')\n",
    "nltk.download('webtext')\n",
    "nltk.download('punkt')"
   ]
  },
  {
   "cell_type": "markdown",
   "metadata": {},
   "source": [
    "### 3.8 Write a program that takes a word and, using an on-line dictionary, computes possible anagrams of the word, each of which is a legal word."
   ]
  },
  {
   "cell_type": "code",
   "execution_count": 2,
   "metadata": {},
   "outputs": [
    {
     "name": "stderr",
     "output_type": "stream",
     "text": [
      "[nltk_data] Downloading package words to\n",
      "[nltk_data]     /Users/parthxparab/nltk_data...\n",
      "[nltk_data]   Unzipping corpora/words.zip.\n"
     ]
    }
   ],
   "source": [
    "wordList = words.words()\n",
    "ans, output = [], []"
   ]
  },
  {
   "cell_type": "code",
   "execution_count": 3,
   "metadata": {},
   "outputs": [],
   "source": [
    "def anagram(word, wordList):\n",
    "    word = (word).lower()\n",
    "    count1 = Counter(word)\n",
    "    for word in wordList:\n",
    "        if Counter(word) == count1:\n",
    "            ans.append(word)\n",
    "    for anagram in ans:\n",
    "        if anagram not in output:\n",
    "            output.append(anagram)\n",
    "    return output"
   ]
  },
  {
   "cell_type": "code",
   "execution_count": 4,
   "metadata": {},
   "outputs": [
    {
     "name": "stdout",
     "output_type": "stream",
     "text": [
      "Enter a word to print its anagrams: silent\n",
      "The anagrams of the given word is: \n",
      "\n",
      "['enlist', 'listen', 'silent', 'tinsel']\n"
     ]
    }
   ],
   "source": [
    "word_check = input(\"Enter a word to print its anagrams: \")\n",
    "print(\"The anagrams of the given word is: \\n\")\n",
    "anagrams = anagram(word_check, wordList)\n",
    "print(anagrams)"
   ]
  },
  {
   "cell_type": "markdown",
   "metadata": {},
   "source": [
    "### 4.3 Run your N-gram program on two different small corpora of your choice (you might use email text or newsgroups). Now compare the statistics of the two corpora. What are the differences in the most common unigrams between the two? How about interesting differences in bigrams?"
   ]
  },
  {
   "cell_type": "code",
   "execution_count": 13,
   "metadata": {},
   "outputs": [
    {
     "name": "stdout",
     "output_type": "stream",
     "text": [
      "Unigrams\n",
      "       Key Corpus 1 Corpus 2\n",
      "11  (the,)      299       14\n",
      "7     (,,)      731      539\n",
      "3     (!,)      801        6\n",
      "12    (.,)      816      353\n",
      "1     (:,)     1197        6\n",
      "\n",
      "Bigrams\n",
      "         Key Corpus 1 Corpus 2\n",
      "9   (,, but)       23        2\n",
      "34  (,, and)       30        5\n",
      "87   (,, no)       30        4\n",
      "3     (., I)       38       11\n",
      "12    (,, I)       58        1\n",
      "End\n"
     ]
    }
   ],
   "source": [
    "# Corpus 1 === Monty Python and the Holy Grail Corpus\n",
    "e_text,e_unigram,e_bigrams = nltk.corpus.webtext.words('grail.txt'),ngrams(e_text, 1),ngrams(e_text, 2)\n",
    "\n",
    "# Corpus 2 === Personals Corpus\n",
    "m_text = nltk.corpus.webtext.words('singles.txt')\n",
    "m_unigram = ngrams(m_text, 1)\n",
    "m_bigrams = nltk.bigrams(m_text)\n",
    "\n",
    "# Computing Frequency Distributions for Unigrams\n",
    "emma_dist_unigrams = nltk.FreqDist(e_unigram)\n",
    "moby_dist_unigrams = nltk.FreqDist(m_unigram)\n",
    "\n",
    "# Computing Frequency Distributions for Bigrams\n",
    "emma_dist_bigrams = nltk.FreqDist(e_bigrams)\n",
    "moby_dist_bigrams = nltk.FreqDist(m_bigrams)\n",
    "\n",
    "unigrams_count = 0\n",
    "bigrams_count = 0\n",
    "\n",
    "# Creating a dataframe\n",
    "cols = ['Key', 'Corpus 1', 'Corpus 2']\n",
    "result_unigrams = pd.DataFrame(columns=cols)\n",
    "result_bigrams = pd.DataFrame(columns=cols)\n",
    "\n",
    "# Comparing unigrams of two corpus\n",
    "for k1, v1 in emma_dist_unigrams.items():\n",
    "    for k2, v2 in moby_dist_unigrams.items():\n",
    "        if ((k1 == k2)):\n",
    "            result_unigrams.loc[unigrams_count] = [k1, v1, v2]\n",
    "            unigrams_count = unigrams_count + 1\n",
    "\n",
    "# Comparing bigrams of two corpus\n",
    "for k3, v3 in emma_dist_bigrams.items():\n",
    "    for k4, v4 in moby_dist_bigrams.items():\n",
    "        if ((k3 == k4)):\n",
    "            result_bigrams.loc[bigrams_count] = [k3, v3, v4]\n",
    "            bigrams_count = bigrams_count + 1\n",
    "\n",
    "result_unigrams = result_unigrams.sort_values('Corpus 1')\n",
    "print(\"Unigrams\")\n",
    "print(result_unigrams[-5:][:])\n",
    "\n",
    "result_bigrams = result_bigrams.sort_values('Corpus 1')\n",
    "print(\"\\nBigrams\")\n",
    "print(result_bigrams[-5:][:])\n",
    "print(\"End\")\n",
    "\n"
   ]
  },
  {
   "cell_type": "code",
   "execution_count": 11,
   "metadata": {},
   "outputs": [
    {
     "name": "stdout",
     "output_type": "stream",
     "text": [
      "perplexity:  1.0\n"
     ]
    }
   ],
   "source": [
    "# Calculate Perplexity for unigrams\n",
    "perplexity = 1\n",
    "N = 1\n",
    "x = 0\n",
    "\n",
    "text = \"ARTHUR : Then I dub you Sir Bedevere , Knight of the Round Table NARRATOR : The wise Sir Bedevere was the first to join King Arthur ' s knights , but other illustrious names were soon to follow : Sir Lancelot the Brave ; Sir Gallahad the Pure ; and Sir Robin the - not - quite - so - brave - as - Sir - Lancelot , who had nearly fought the Dragon of Angnor , who had nearly stood up to the vicious Chicken of Bristol , and who had personally wet himself at the Battle of Badon Hill ; and the aptly named Sir Not - appearing - in - this - film .\"\n",
    "testset = nltk.word_tokenize(text)\n",
    "\n",
    "for w in testset:\n",
    "    if w in result_unigrams:\n",
    "        N = N + 1\n",
    "        perplexity = perplexity * (1 / result_unigrams[x])\n",
    "    x = x + 1\n",
    "\n",
    "perplexity = pow(perplexity, 1 / float(N))\n",
    "\n",
    "print(\"perplexity: \",perplexity)"
   ]
  },
  {
   "cell_type": "code",
   "execution_count": null,
   "metadata": {},
   "outputs": [],
   "source": []
  }
 ],
 "metadata": {
  "kernelspec": {
   "display_name": "Python 3",
   "language": "python",
   "name": "python3"
  },
  "language_info": {
   "codemirror_mode": {
    "name": "ipython",
    "version": 3
   },
   "file_extension": ".py",
   "mimetype": "text/x-python",
   "name": "python",
   "nbconvert_exporter": "python",
   "pygments_lexer": "ipython3",
   "version": "3.7.7"
  }
 },
 "nbformat": 4,
 "nbformat_minor": 4
}
