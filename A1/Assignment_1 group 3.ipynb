{
  "nbformat": 4,
  "nbformat_minor": 0,
  "metadata": {
    "colab": {
      "name": "Assignment-1.ipynb",
      "provenance": []
    },
    "kernelspec": {
      "name": "python3",
      "display_name": "Python 3"
    }
  },
  "cells": [
    {
      "cell_type": "markdown",
      "metadata": {
        "id": "D3E2Ov3u6uZ-",
        "colab_type": "text"
      },
      "source": [
        "**Assignment - 1**"
      ]
    },
    {
      "cell_type": "markdown",
      "metadata": {
        "id": "Oex5wdDq60yi",
        "colab_type": "text"
      },
      "source": [
        "Group 3\n",
        "\n",
        "Sejal Vyas(10450395)\n",
        "\n",
        "Shiwani Deo(10454959)\n",
        "\n",
        "Parth Parab(10444835)\n"
      ]
    },
    {
      "cell_type": "markdown",
      "metadata": {
        "id": "fj492Olg69SR",
        "colab_type": "text"
      },
      "source": [
        "# Your turn - 1\n",
        "\n",
        "\n"
      ]
    },
    {
      "cell_type": "markdown",
      "metadata": {
        "id": "tRd2Pi7P-TeE",
        "colab_type": "text"
      },
      "source": [
        "Enter a few more expressions of your own. You can use asterisk (*) for multiplication and slash (/) for division, and parentheses for bracketing expressions."
      ]
    },
    {
      "cell_type": "code",
      "metadata": {
        "id": "a07fwS-l7R2Y",
        "colab_type": "code",
        "colab": {
          "base_uri": "https://localhost:8080/",
          "height": 34
        },
        "outputId": "f67e26c8-8951-4393-aecd-445e302dc831"
      },
      "source": [
        "13 * 11 / 1994 + 2.17"
      ],
      "execution_count": null,
      "outputs": [
        {
          "output_type": "execute_result",
          "data": {
            "text/plain": [
              "2.241715145436309"
            ]
          },
          "metadata": {
            "tags": []
          },
          "execution_count": 1
        }
      ]
    },
    {
      "cell_type": "markdown",
      "metadata": {
        "id": "59rTqwKg_Ac_",
        "colab_type": "text"
      },
      "source": [
        "# Your turn - 2"
      ]
    },
    {
      "cell_type": "markdown",
      "metadata": {
        "id": "hGQDICuS_Ic4",
        "colab_type": "text"
      },
      "source": [
        "Try searching for other words; to save re-typing, you might be able to use up-arrow, Ctrl-up-arrow or Alt-p to access the previous command and modify the word being searched. You can also try searches on some of the other texts we have included. For example, search Sense and Sensibility for the word affection, using text2.concordance(\"affection\"). Search the book of Genesis to find out how long some people lived, using text3.concordance(\"lived\"). You could look at text4, the Inaugural Address Corpus, to see examples of English going back to 1789, and search for words like nation, terror, god to see how these words have been used differently over time. We've also included text5, the NPS Chat Corpus: search this for unconventional words like im, ur, lol. (Note that this corpus is uncensored!)"
      ]
    },
    {
      "cell_type": "code",
      "metadata": {
        "id": "hTumOGDt_Wnm",
        "colab_type": "code",
        "colab": {
          "base_uri": "https://localhost:8080/",
          "height": 1000
        },
        "outputId": "312973b6-241e-44a5-ba8a-ab3f66e61351"
      },
      "source": [
        "import nltk   \n",
        "nltk.download()          \n",
        "nltk.download('inaugural')          #downloading required dependencies\n",
        "nltk.download('nps_chat')\n",
        "nltk.download('webtext')\n",
        "nltk.download('treebank')"
      ],
      "execution_count": null,
      "outputs": [
        {
          "output_type": "stream",
          "text": [
            "NLTK Downloader\n",
            "---------------------------------------------------------------------------\n",
            "    d) Download   l) List    u) Update   c) Config   h) Help   q) Quit\n",
            "---------------------------------------------------------------------------\n",
            "Downloader> d\n",
            "\n",
            "Download which package (l=list; x=cancel)?\n",
            "  Identifier> book\n",
            "    Downloading collection 'book'\n",
            "       | \n",
            "       | Downloading package abc to /root/nltk_data...\n",
            "       |   Unzipping corpora/abc.zip.\n",
            "       | Downloading package brown to /root/nltk_data...\n",
            "       |   Unzipping corpora/brown.zip.\n",
            "       | Downloading package chat80 to /root/nltk_data...\n",
            "       |   Unzipping corpora/chat80.zip.\n",
            "       | Downloading package cmudict to /root/nltk_data...\n",
            "       |   Unzipping corpora/cmudict.zip.\n",
            "       | Downloading package conll2000 to /root/nltk_data...\n",
            "       |   Unzipping corpora/conll2000.zip.\n",
            "       | Downloading package conll2002 to /root/nltk_data...\n",
            "       |   Unzipping corpora/conll2002.zip.\n",
            "       | Downloading package dependency_treebank to /root/nltk_data...\n",
            "       |   Unzipping corpora/dependency_treebank.zip.\n",
            "       | Downloading package genesis to /root/nltk_data...\n",
            "       |   Unzipping corpora/genesis.zip.\n",
            "       | Downloading package gutenberg to /root/nltk_data...\n",
            "       |   Unzipping corpora/gutenberg.zip.\n",
            "       | Downloading package ieer to /root/nltk_data...\n",
            "       |   Unzipping corpora/ieer.zip.\n",
            "       | Downloading package inaugural to /root/nltk_data...\n",
            "       |   Package inaugural is already up-to-date!\n",
            "       | Downloading package movie_reviews to /root/nltk_data...\n",
            "       |   Unzipping corpora/movie_reviews.zip.\n",
            "       | Downloading package nps_chat to /root/nltk_data...\n",
            "       |   Package nps_chat is already up-to-date!\n",
            "       | Downloading package names to /root/nltk_data...\n",
            "       |   Unzipping corpora/names.zip.\n",
            "       | Downloading package ppattach to /root/nltk_data...\n",
            "       |   Unzipping corpora/ppattach.zip.\n",
            "       | Downloading package reuters to /root/nltk_data...\n",
            "       | Downloading package senseval to /root/nltk_data...\n",
            "       |   Unzipping corpora/senseval.zip.\n",
            "       | Downloading package state_union to /root/nltk_data...\n",
            "       |   Unzipping corpora/state_union.zip.\n",
            "       | Downloading package stopwords to /root/nltk_data...\n",
            "       |   Unzipping corpora/stopwords.zip.\n",
            "       | Downloading package swadesh to /root/nltk_data...\n",
            "       |   Unzipping corpora/swadesh.zip.\n",
            "       | Downloading package timit to /root/nltk_data...\n",
            "       |   Unzipping corpora/timit.zip.\n",
            "       | Downloading package treebank to /root/nltk_data...\n",
            "       |   Package treebank is already up-to-date!\n",
            "       | Downloading package toolbox to /root/nltk_data...\n",
            "       |   Unzipping corpora/toolbox.zip.\n",
            "       | Downloading package udhr to /root/nltk_data...\n",
            "       |   Unzipping corpora/udhr.zip.\n",
            "       | Downloading package udhr2 to /root/nltk_data...\n",
            "       |   Unzipping corpora/udhr2.zip.\n",
            "       | Downloading package unicode_samples to /root/nltk_data...\n",
            "       |   Unzipping corpora/unicode_samples.zip.\n",
            "       | Downloading package webtext to /root/nltk_data...\n",
            "       |   Package webtext is already up-to-date!\n",
            "       | Downloading package wordnet to /root/nltk_data...\n",
            "       |   Unzipping corpora/wordnet.zip.\n",
            "       | Downloading package wordnet_ic to /root/nltk_data...\n",
            "       |   Unzipping corpora/wordnet_ic.zip.\n",
            "       | Downloading package words to /root/nltk_data...\n",
            "       |   Unzipping corpora/words.zip.\n",
            "       | Downloading package maxent_treebank_pos_tagger to\n",
            "       |     /root/nltk_data...\n",
            "       |   Unzipping taggers/maxent_treebank_pos_tagger.zip.\n",
            "       | Downloading package maxent_ne_chunker to /root/nltk_data...\n",
            "       |   Unzipping chunkers/maxent_ne_chunker.zip.\n",
            "       | Downloading package universal_tagset to /root/nltk_data...\n",
            "       |   Unzipping taggers/universal_tagset.zip.\n",
            "       | Downloading package punkt to /root/nltk_data...\n",
            "       |   Unzipping tokenizers/punkt.zip.\n",
            "       | Downloading package book_grammars to /root/nltk_data...\n",
            "       |   Unzipping grammars/book_grammars.zip.\n",
            "       | Downloading package city_database to /root/nltk_data...\n",
            "       |   Unzipping corpora/city_database.zip.\n",
            "       | Downloading package tagsets to /root/nltk_data...\n",
            "       |   Unzipping help/tagsets.zip.\n",
            "       | Downloading package panlex_swadesh to /root/nltk_data...\n",
            "       | Downloading package averaged_perceptron_tagger to\n",
            "       |     /root/nltk_data...\n",
            "       |   Unzipping taggers/averaged_perceptron_tagger.zip.\n",
            "       | \n",
            "     Done downloading collection book\n",
            "\n",
            "---------------------------------------------------------------------------\n",
            "    d) Download   l) List    u) Update   c) Config   h) Help   q) Quit\n",
            "---------------------------------------------------------------------------\n",
            "Downloader> q\n",
            "[nltk_data] Downloading package inaugural to /root/nltk_data...\n",
            "[nltk_data]   Package inaugural is already up-to-date!\n",
            "[nltk_data] Downloading package nps_chat to /root/nltk_data...\n",
            "[nltk_data]   Package nps_chat is already up-to-date!\n",
            "[nltk_data] Downloading package webtext to /root/nltk_data...\n",
            "[nltk_data]   Package webtext is already up-to-date!\n",
            "[nltk_data] Downloading package treebank to /root/nltk_data...\n",
            "[nltk_data]   Package treebank is already up-to-date!\n"
          ],
          "name": "stdout"
        },
        {
          "output_type": "execute_result",
          "data": {
            "text/plain": [
              "True"
            ]
          },
          "metadata": {
            "tags": []
          },
          "execution_count": 18
        }
      ]
    },
    {
      "cell_type": "code",
      "metadata": {
        "id": "TZFmQtJoCxI2",
        "colab_type": "code",
        "colab": {
          "base_uri": "https://localhost:8080/",
          "height": 242
        },
        "outputId": "d25bf1df-071b-4846-bd96-ad310c7ee657"
      },
      "source": [
        "from nltk.book import *           "
      ],
      "execution_count": null,
      "outputs": [
        {
          "output_type": "stream",
          "text": [
            "*** Introductory Examples for the NLTK Book ***\n",
            "Loading text1, ..., text9 and sent1, ..., sent9\n",
            "Type the name of the text or sentence to view it.\n",
            "Type: 'texts()' or 'sents()' to list the materials.\n",
            "text1: Moby Dick by Herman Melville 1851\n",
            "text2: Sense and Sensibility by Jane Austen 1811\n",
            "text3: The Book of Genesis\n",
            "text4: Inaugural Address Corpus\n",
            "text5: Chat Corpus\n",
            "text6: Monty Python and the Holy Grail\n",
            "text7: Wall Street Journal\n",
            "text8: Personals Corpus\n",
            "text9: The Man Who Was Thursday by G . K . Chesterton 1908\n"
          ],
          "name": "stdout"
        }
      ]
    },
    {
      "cell_type": "code",
      "metadata": {
        "id": "YQwfX583EFV8",
        "colab_type": "code",
        "colab": {
          "base_uri": "https://localhost:8080/",
          "height": 467
        },
        "outputId": "3477dce3-f52d-42d5-b43f-4b829df9f579"
      },
      "source": [
        "text2.concordance(\"affection\")            #Finding the occurence of the word 'affection' in Sense and Sensibility"
      ],
      "execution_count": null,
      "outputs": [
        {
          "output_type": "stream",
          "text": [
            "Displaying 25 of 79 matches:\n",
            ", however , and , as a mark of his affection for the three girls , he left them\n",
            "t . It was very well known that no affection was ever supposed to exist between\n",
            "deration of politeness or maternal affection on the side of the former , the tw\n",
            "d the suspicion -- the hope of his affection for me may warrant , without impru\n",
            "hich forbade the indulgence of his affection . She knew that his mother neither\n",
            "rd she gave one with still greater affection . Though her late conversation wit\n",
            " can never hope to feel or inspire affection again , and if her home be uncomfo\n",
            "m of the sense , elegance , mutual affection , and domestic comfort of the fami\n",
            ", and which recommended him to her affection beyond every thing else . His soci\n",
            "ween the parties might forward the affection of Mr . Willoughby , an equally st\n",
            " the most pointed assurance of her affection . Elinor could not be surprised at\n",
            "he natural consequence of a strong affection in a young and ardent mind . This \n",
            " opinion . But by an appeal to her affection for her mother , by representing t\n",
            " every alteration of a place which affection had established as perfect with hi\n",
            "e will always have one claim of my affection , which no other can possibly shar\n",
            "f the evening declared at once his affection and happiness . \" Shall we see you\n",
            "ause he took leave of us with less affection than his usual behaviour has shewn\n",
            "ness .\" \" I want no proof of their affection ,\" said Elinor ; \" but of their en\n",
            "onths , without telling her of his affection ;-- that they should part without \n",
            "ould be the natural result of your affection for her . She used to be all unres\n",
            "distinguished Elinor by no mark of affection . Marianne saw and listened with i\n",
            "th no inclination for expense , no affection for strangers , no profession , an\n",
            "till distinguished her by the same affection which once she had felt no doubt o\n",
            "al of her confidence in Edward ' s affection , to the remembrance of every mark\n",
            " was made ? Had he never owned his affection to yourself ?\" \" Oh , no ; but if \n"
          ],
          "name": "stdout"
        }
      ]
    },
    {
      "cell_type": "code",
      "metadata": {
        "id": "SdQQjuN5GKbc",
        "colab_type": "code",
        "colab": {
          "base_uri": "https://localhost:8080/",
          "height": 467
        },
        "outputId": "f6778a40-dcd8-48cb-de80-cb505d28d35d"
      },
      "source": [
        "text3.concordance(\"lived\")        #To find out how long some people lived"
      ],
      "execution_count": null,
      "outputs": [
        {
          "output_type": "stream",
          "text": [
            "Displaying 25 of 38 matches:\n",
            "ay when they were created . And Adam lived an hundred and thirty years , and be\n",
            "ughters : And all the days that Adam lived were nine hundred and thirty yea and\n",
            "nd thirty yea and he died . And Seth lived an hundred and five years , and bega\n",
            "ve years , and begat Enos : And Seth lived after he begat Enos eight hundred an\n",
            "welve years : and he died . And Enos lived ninety years , and begat Cainan : An\n",
            " years , and begat Cainan : And Enos lived after he begat Cainan eight hundred \n",
            "ive years : and he died . And Cainan lived seventy years and begat Mahalaleel :\n",
            "rs and begat Mahalaleel : And Cainan lived after he begat Mahalaleel eight hund\n",
            "years : and he died . And Mahalaleel lived sixty and five years , and begat Jar\n",
            "s , and begat Jared : And Mahalaleel lived after he begat Jared eight hundred a\n",
            "and five yea and he died . And Jared lived an hundred sixty and two years , and\n",
            "o years , and he begat Eno And Jared lived after he begat Enoch eight hundred y\n",
            " and two yea and he died . And Enoch lived sixty and five years , and begat Met\n",
            " ; for God took him . And Methuselah lived an hundred eighty and seven years , \n",
            " , and begat Lamech . And Methuselah lived after he begat Lamech seven hundred \n",
            "nd nine yea and he died . And Lamech lived an hundred eighty and two years , an\n",
            "ch the LORD hath cursed . And Lamech lived after he begat Noah five hundred nin\n",
            "naan shall be his servant . And Noah lived after the flood three hundred and fi\n",
            "xad two years after the flo And Shem lived after he begat Arphaxad five hundred\n",
            "at sons and daughters . And Arphaxad lived five and thirty years , and begat Sa\n",
            "ars , and begat Salah : And Arphaxad lived after he begat Salah four hundred an\n",
            "begat sons and daughters . And Salah lived thirty years , and begat Eber : And \n",
            "y years , and begat Eber : And Salah lived after he begat Eber four hundred and\n",
            " begat sons and daughters . And Eber lived four and thirty years , and begat Pe\n",
            "y years , and begat Peleg : And Eber lived after he begat Peleg four hundred an\n"
          ],
          "name": "stdout"
        }
      ]
    },
    {
      "cell_type": "code",
      "metadata": {
        "id": "bwlCFBk4GVqD",
        "colab_type": "code",
        "colab": {
          "base_uri": "https://localhost:8080/",
          "height": 173
        },
        "outputId": "e2985a80-3d6a-436d-b060-3863096d32d8"
      },
      "source": [
        "text4.concordance('terror')           #Finding words like 'terror', 'god', 'nation' to see their usage in that time"
      ],
      "execution_count": null,
      "outputs": [
        {
          "output_type": "stream",
          "text": [
            "Displaying 8 of 8 matches:\n",
            "menaces , by fraud or violence , by terror , intrigue , or venality , the Gove\n",
            "ameless , unreasoning , unjustified terror which paralyzes needed efforts to c\n",
            "ublic seemed frozen by a fatalistic terror , we proved that this is not true .\n",
            " to alter that uncertain balance of terror that stays the hand of mankind ' s \n",
            "eans freeing all Americans from the terror of runaway living costs . All must \n",
            "still . They fuel the fanaticism of terror . And they torment the lives of mil\n",
            "d maintain a strong defense against terror and destruction . Our children will\n",
            "k to advance their aims by inducing terror and slaughtering innocents , we say\n"
          ],
          "name": "stdout"
        }
      ]
    },
    {
      "cell_type": "code",
      "metadata": {
        "id": "PEW4kDk-GzwN",
        "colab_type": "code",
        "colab": {
          "base_uri": "https://localhost:8080/",
          "height": 467
        },
        "outputId": "c269e452-ea64-44e7-9013-b734b01c0daa"
      },
      "source": [
        "text4.concordance('god')           #Finding words like 'terror', 'god', 'nation' to see their usage in that time"
      ],
      "execution_count": null,
      "outputs": [
        {
          "output_type": "stream",
          "text": [
            "Displaying 25 of 108 matches:\n",
            "eliance on the protection of Almighty God , I shall forthwith commence the duti\n",
            "humble , acknowledged dependence upon God and His overruling providence . We ha\n",
            "great office I must humbly invoke the God of our fathers for wisdom and firmnes\n",
            "d the same Bible and pray to the same God , and each invokes His aid against th\n",
            "hat any men should dare to ask a just God ' s assistance in wringing their brea\n",
            "offenses which , in the providence of God , must needs come , but which , havin\n",
            "butes which the believers in a living God always ascribe to Him ? Fondly do we \n",
            "war may speedily pass away . Yet , if God wills that it continue until all the \n",
            "r all , with firmness in the right as God gives us to see the right , let us st\n",
            "the prayers of the nation to Almighty God in behalf of this consummation . Fell\n",
            "r , they have \" followed the light as God gave them to see the light .\" They ar\n",
            "ess their fathers and their fathers ' God that the Union was preserved , that s\n",
            "the support and blessings of Almighty God . Fellow citizens , in the presence o\n",
            "ng the power and goodness of Almighty God , who presides over the destiny of na\n",
            "expect the favor and help of Almighty God -- that He will give to me wisdom , s\n",
            " suggestion to enterprise and labor . God has placed upon our head a diadem and\n",
            "urn than the pledge I now give before God and these witnesses of unreserved and\n",
            "han human life can escape the laws of God and nature . Manifestly nothing is mo\n",
            "and invoking the guidance of Almighty God . Our faith teaches that there is no \n",
            "re is no safer reliance than upon the God of our fathers , who has so singularl\n",
            "e the direction and favor of Almighty God . I should shrink from the duties thi\n",
            " devolve upon it , and in the fear of God will \" take occasion by the hand and \n",
            " citizens and the aid of the Almighty God in the discharge of my responsible du\n",
            "our heartstrings like some air out of God ' s own presence , where justice and \n",
            " forward - looking men , to my side . God helping me , I will not fail them , i\n"
          ],
          "name": "stdout"
        }
      ]
    },
    {
      "cell_type": "code",
      "metadata": {
        "id": "-tRsowG1G4Fu",
        "colab_type": "code",
        "colab": {
          "base_uri": "https://localhost:8080/",
          "height": 467
        },
        "outputId": "a8786f75-02f2-495e-ade2-d3f157f191f2"
      },
      "source": [
        "text4.concordance('nation')           #Finding words like 'terror', 'god', 'nation' to see their usage in that time"
      ],
      "execution_count": null,
      "outputs": [
        {
          "output_type": "stream",
          "text": [
            "Displaying 25 of 316 matches:\n",
            " to the character of an independent nation seems to have been distinguished by\n",
            "f Heaven can never be expected on a nation that disregards the eternal rules o\n",
            "first , the representatives of this nation , then consisting of little more th\n",
            ", situation , and relations of this nation and country than any which had ever\n",
            ", prosperity , and happiness of the nation I have acquired an habitual attachm\n",
            "an be no spectacle presented by any nation more pleasing , more noble , majest\n",
            "party for its own ends , not of the nation for the national good . If that sol\n",
            "tures and the people throughout the nation . On this subject it might become m\n",
            "if a personal esteem for the French nation , formed in a residence of seven ye\n",
            "f our fellow - citizens by whatever nation , and if success can not be obtaine\n",
            "y , continue His blessing upon this nation and its Government and give it all \n",
            "powers so justly inspire . A rising nation , spread over a wide and fruitful l\n",
            "ing now decided by the voice of the nation , announced according to the rules \n",
            "ars witness to the fact that a just nation is trusted on its word when recours\n",
            "e union of opinion which gives to a nation the blessing of harmony and the ben\n",
            "uil suffrage of a free and virtuous nation , would under any circumstances hav\n",
            "d spirit and united councils of the nation will be safeguards to its honor and\n",
            "iction that the war with a powerful nation , which forms so prominent a featur\n",
            "out breaking down the spirit of the nation , destroying all confidence in itse\n",
            "ed on the military resources of the nation . These resources are amply suffici\n",
            "the war to an honorable issue . Our nation is in number more than half that of\n",
            "ndividually have been happy and the nation prosperous . Under this Constitutio\n",
            "rights , and is able to protect the nation against injustice from foreign powe\n",
            " great agricultural interest of the nation prospers under its protection . Loc\n",
            "ak our Union , and demolish us as a nation . Our distance from Europe and the \n"
          ],
          "name": "stdout"
        }
      ]
    },
    {
      "cell_type": "code",
      "metadata": {
        "id": "qz2nY4sHHDGM",
        "colab_type": "code",
        "colab": {
          "base_uri": "https://localhost:8080/",
          "height": 467
        },
        "outputId": "adf04e8c-7866-4f99-d6b0-14700a22d1c0"
      },
      "source": [
        "text5.concordance('im')           #searching unconventional words"
      ],
      "execution_count": null,
      "outputs": [
        {
          "output_type": "stream",
          "text": [
            "Displaying 25 of 149 matches:\n",
            "                                      im left with this gay name :P PART hey e\n",
            "what did you but on e-bay i feel like im in the wrong room yeee haw U30 im con\n",
            "ike im in the wrong room yeee haw U30 im considering changing my nickname to \"\n",
            " the hell outta my freaking PM box .. Im with my fiance !!!!!!!!!!!!!!!! answe\n",
            "m impressed . PART hiya room lmao !!! im doin alright thanks omg Finger .. Dee\n",
            "th lol JOIN so read it . thanks U7 .. Im happy to have my fiance here !! forwa\n",
            "i didnt me phone you . . . sheesh now im that phone perv guy lets hope not U12\n",
            "to spain ? i need to go this summer . im a HUGE phone perv ok seriously who wa\n",
            "an ... . ACTION video tapes . hey U20 Im blind now . ACTION has left the room \n",
            "T u got that right , i dont do shit , im the supervisor Hello U165 . hey U165 \n",
            " him in the \" untouchable \" list U115 im good U6 lmao U7 how r u U128 hehe how\n",
            "can I ask where ya all are from ..... im here in kentucky as I said ... too wi\n",
            "ic but had to resize and stuff U37 no im an equal oppertunity hater LOL Hi , U\n",
            "he cover weeeeeeeee thanks U19 ! PART im out in cal now U3 looking at some new\n",
            " :) hi U58 lol wb U29 hi U29 U13 .... im down to time now PART Hello U24 , wel\n",
            ", I 'd never kick you outta my box hi im good thanks U16 yerself ?? PART inter\n",
            "ke wth . . who are you even ty U34 yw Im glad he 's back . awwww U16 i like ps\n",
            " ha U23 !!! wow ... are you the U39 ? Im talkin about all yer typin . . It 's \n",
            "... you ??? Apparently , I 'm not U41 im good U23 dear . How are you U23 ~wink\n",
            "~ U35 ... I love that 5 am phone call im good ... me and eric r back together \n",
            " , I am happy . You know i LuverZ YOU im the same busy busy oh ok then U1 nm l\n",
            "))) . ACTION stretches . ty U19 Ugh , Im so sore ! Repeatedly , with a big sti\n",
            "'m a size queen U41 Why U45 ? naw U23 im cheating on you with Jayse hes hawt t\n",
            "oeer is sum1 gonna ghet fuked up ? :) im always hungry yeah U45 .. i believe i\n",
            "without first asking permission . U35 im sorry U35 i tried to refrain me too U\n"
          ],
          "name": "stdout"
        }
      ]
    },
    {
      "cell_type": "code",
      "metadata": {
        "id": "ZiNZ1aaRHRH5",
        "colab_type": "code",
        "colab": {
          "base_uri": "https://localhost:8080/",
          "height": 398
        },
        "outputId": "2ffc4dfb-8c0b-4c61-bec7-e37aa42d7950"
      },
      "source": [
        "text5.concordance('ur')           #searching unconventional words"
      ],
      "execution_count": null,
      "outputs": [
        {
          "output_type": "stream",
          "text": [
            "Displaying 21 of 21 matches:\n",
            "k up PART no i dont want daughters !! ur annoying . ACTION Now Playing - Cradl\n",
            "ooo U92 !!!!!! . ACTION U1370 watches ur nad with a stick . ca u U23 ewwww lol\n",
            "er lip . Meep . ACTION is resisting . ur female right lol U115 beeeeehave Reme\n",
            " geeshh ... two kids fighting ! whats ur major i probably sucks in summer too \n",
            "II Men scorpions rock ... lol what is ur job me too U11 hehe went to manhattan\n",
            "e no one i like to say if u have done ur time then that is that U42 Ok U37 , i\n",
            "hat a ride JOIN ty ty cheers babes .. ur the first to follow up with the pseud\n",
            " charger \\ty LoL yeah ;-) well i hope ur doing ok .. i 'm dojn fine babe . . g\n",
            " gonna rock up soojn and rob u of all ur ' candy ' :) as long as you are happy\n",
            "genital warts ? LoL moped U28 ?.. ohh ur a real man i had a moped once yup heh\n",
            "b-day is in 5 days =( PART LOL U35 no ur nawt yup your gay lmao U37 dang come \n",
            " people talk to me anymore oh because ur gay . PART PART . ACTION = U58 . Man \n",
            " om hi U73 heya U7 ! h shit i get all ur money now fawker ok girl lol JOIN ed \n",
            "hat tired huh U66 ? lol U75 ... bring ur pillow get comfy U70 yep , off to bed\n",
            "talked to hi sean . ACTION whispers : ur a douche . who PART . ACTION whispers\n",
            "ew england usa ? U7 .. it adds wax to ur clothes .. u think cottons breathe ?.\n",
            "ver knew what flavor to get specially ur towels lol U31 < whistles > U34 U39 I\n",
            "cks out U7 s pic JOIN PART U41 Hi U41 ur gettin pretty savvy there U39 ahhh ..\n",
            "om ? brb U30 a week .. heck a day and ur problem there , U30 ??? Hi U34 hartfo\n",
            " JOIN U57 Whats really good room JOIN ur telllin me hey any uk girls her ? JOI\n",
            "JOIN PART JOIN JOIN yea guitar rocker ur kool u lil guitar rocker PART whats e\n"
          ],
          "name": "stdout"
        }
      ]
    },
    {
      "cell_type": "code",
      "metadata": {
        "id": "Dq12piAgHWdt",
        "colab_type": "code",
        "colab": {
          "base_uri": "https://localhost:8080/",
          "height": 467
        },
        "outputId": "4384a332-913e-4800-d3d5-a7393739f8eb"
      },
      "source": [
        "text5.concordance('lol')           #searching unconventional words"
      ],
      "execution_count": null,
      "outputs": [
        {
          "output_type": "stream",
          "text": [
            "Displaying 25 of 822 matches:\n",
            "ast PART 24 / m boo . 26 / m and sexy lol U115 boo . JOIN PART he drew a girl w\n",
            "ope he didnt draw a penis PART ewwwww lol & a head between her legs JOIN JOIN s\n",
            "a bowl i got a blunt an a bong ...... lol JOIN well , glad it worked out my cha\n",
            "e \" PART Hi U121 in ny . ACTION would lol @ U121 . . . but appearently she does\n",
            "30 make sure u buy a nice ring for U6 lol U7 Hi U115 . ACTION isnt falling for \n",
            " didnt ya hear !!!! PART JOIN geeshhh lol U6 PART hes deaf ppl here dont get it\n",
            "es nobody here i wanna misbeahve with lol JOIN so read it . thanks U7 .. Im hap\n",
            "ies want to chat can i talk to him !! lol U121 !!! forwards too lol JOIN ALL PE\n",
            "k to him !! lol U121 !!! forwards too lol JOIN ALL PErvs ... redirect to U121 '\n",
            " loves ME the most i love myself JOIN lol U44 how do u know that what ? jerkett\n",
            "ng wrong ... i can see it in his eyes lol U20 = fiance Jerketts lmao wtf yah I \n",
            "cooler by the minute what 'd I miss ? lol noo there too much work ! why not ?? \n",
            " that mean I want you ? U6 hello room lol U83 and this .. has been the grammar \n",
            " the rule he 's in PM land now though lol ah ok i wont bug em then someone wann\n",
            "flight to hell :) lmao bbl maybe PART LOL lol U7 it was me , U83 hahah U83 ! 80\n",
            "ht to hell :) lmao bbl maybe PART LOL lol U7 it was me , U83 hahah U83 ! 808265\n",
            "082653953 K-Fed got his ass kicked .. Lol . ACTION laughs . i got a first class\n",
            " . i got a first class ticket to hell lol U7 JOIN any texas girls in here ? any\n",
            " . whats up U155 i was only kidding . lol he 's a douchebag . Poor U121 i 'm bo\n",
            " ??? sits with U30 Cum to my shower . lol U121 . ACTION U1370 watches his nads \n",
            " ur nad with a stick . ca u U23 ewwww lol *sniffs* ewwwwww PART U115 ! owww spl\n",
            "ACTION is resisting . ur female right lol U115 beeeeehave Remember the LAst tim\n",
            "pm's me . charge that is 1.99 / min . lol @ innocent hahah lol .... yeah LOLOLO\n",
            " is 1.99 / min . lol @ innocent hahah lol .... yeah LOLOLOLLL U12 thats not nic\n",
            "s . lmao no U115 Check my record . :) Lol lick em U7 U23 how old r u lol Way to\n"
          ],
          "name": "stdout"
        }
      ]
    },
    {
      "cell_type": "markdown",
      "metadata": {
        "id": "Qym9uRQTIcKO",
        "colab_type": "text"
      },
      "source": [
        "# Your turn - 3"
      ]
    },
    {
      "cell_type": "markdown",
      "metadata": {
        "id": "aDkqmhWhIf5Y",
        "colab_type": "text"
      },
      "source": [
        "Pick another pair of words and compare their usage in two different texts, using the similar() and common_contexts() functions.\n",
        "\n",
        "Below is the comparison of words similar to 'monstrous' and 'very' in text1 and text2"
      ]
    },
    {
      "cell_type": "code",
      "metadata": {
        "id": "nSiMEE6iIj4-",
        "colab_type": "code",
        "colab": {
          "base_uri": "https://localhost:8080/",
          "height": 69
        },
        "outputId": "36d816ed-c58e-41f0-ad64-474863766608"
      },
      "source": [
        "text1.similar('monstrous')"
      ],
      "execution_count": null,
      "outputs": [
        {
          "output_type": "stream",
          "text": [
            "true contemptible christian abundant few part mean careful puzzled\n",
            "mystifying passing curious loving wise doleful gamesome singular\n",
            "delightfully perilous fearless\n"
          ],
          "name": "stdout"
        }
      ]
    },
    {
      "cell_type": "code",
      "metadata": {
        "id": "FwzVRDcrJki3",
        "colab_type": "code",
        "colab": {
          "base_uri": "https://localhost:8080/",
          "height": 51
        },
        "outputId": "311f387d-1951-4f13-eefc-ef6043669c99"
      },
      "source": [
        "text2.similar('monstrous')"
      ],
      "execution_count": null,
      "outputs": [
        {
          "output_type": "stream",
          "text": [
            "very so exceedingly heartily a as good great extremely remarkably\n",
            "sweet vast amazingly\n"
          ],
          "name": "stdout"
        }
      ]
    },
    {
      "cell_type": "code",
      "metadata": {
        "id": "V3Jl20SQJ0r3",
        "colab_type": "code",
        "colab": {
          "base_uri": "https://localhost:8080/",
          "height": 34
        },
        "outputId": "c7b42e63-c5e5-46d6-a7aa-10e0c6c96ee6"
      },
      "source": [
        "text1.common_contexts(['monstrous', 'true'])"
      ],
      "execution_count": null,
      "outputs": [
        {
          "output_type": "stream",
          "text": [
            "the_pictures\n"
          ],
          "name": "stdout"
        }
      ]
    },
    {
      "cell_type": "code",
      "metadata": {
        "id": "x23XJoUCKDX1",
        "colab_type": "code",
        "colab": {
          "base_uri": "https://localhost:8080/",
          "height": 51
        },
        "outputId": "4f6be3af-e000-41b2-971b-f3ec9b4d24c7"
      },
      "source": [
        "text1.similar('very')"
      ],
      "execution_count": null,
      "outputs": [
        {
          "output_type": "stream",
          "text": [
            "a same so last first pretty the too other only as one great white\n",
            "strange rather next entire now his\n"
          ],
          "name": "stdout"
        }
      ]
    },
    {
      "cell_type": "code",
      "metadata": {
        "id": "1j5-sU06KN1t",
        "colab_type": "code",
        "colab": {
          "base_uri": "https://localhost:8080/",
          "height": 51
        },
        "outputId": "e1fa15a8-8728-4742-9ac5-64f6bb857dbb"
      },
      "source": [
        "text2.similar('very')"
      ],
      "execution_count": null,
      "outputs": [
        {
          "output_type": "stream",
          "text": [
            "so as too a not monstrous the was more most how last exceedingly her\n",
            "it only first will perfectly cottage\n"
          ],
          "name": "stdout"
        }
      ]
    },
    {
      "cell_type": "code",
      "metadata": {
        "id": "K5-wMinpKVaN",
        "colab_type": "code",
        "colab": {
          "base_uri": "https://localhost:8080/",
          "height": 34
        },
        "outputId": "15d523d3-7a41-49ef-846f-b60c6fdd1b7d"
      },
      "source": [
        "text1.common_contexts(['very', 'pretty'])"
      ],
      "execution_count": null,
      "outputs": [
        {
          "output_type": "stream",
          "text": [
            "a_large and_soon a_sharp a_little be_much\n"
          ],
          "name": "stdout"
        }
      ]
    },
    {
      "cell_type": "markdown",
      "metadata": {
        "id": "Qzq5FdJGKl5T",
        "colab_type": "text"
      },
      "source": [
        "# Your turn - 4"
      ]
    },
    {
      "cell_type": "markdown",
      "metadata": {
        "id": "V4MFVcqvKq7F",
        "colab_type": "text"
      },
      "source": [
        "Your Turn: How many times does the word lol appear in text5? How much is this as a percentage of the total number of words in this text?"
      ]
    },
    {
      "cell_type": "code",
      "metadata": {
        "id": "TQwH6HtBLK6w",
        "colab_type": "code",
        "colab": {}
      },
      "source": [
        "def percentage(count, total) :\n",
        "  return count / total * 100"
      ],
      "execution_count": null,
      "outputs": []
    },
    {
      "cell_type": "code",
      "metadata": {
        "id": "MZUC04sLLUal",
        "colab_type": "code",
        "colab": {
          "base_uri": "https://localhost:8080/",
          "height": 34
        },
        "outputId": "d4c71d05-1b05-43d5-9791-612e2b8e41aa"
      },
      "source": [
        "wordLen = text5.count('lol')\n",
        "totalLen = len(text5)\n",
        "print(percentage(wordLen, totalLen))"
      ],
      "execution_count": null,
      "outputs": [
        {
          "output_type": "stream",
          "text": [
            "1.5640968673628082\n"
          ],
          "name": "stdout"
        }
      ]
    },
    {
      "cell_type": "markdown",
      "metadata": {
        "id": "74u1bZ3aMLJW",
        "colab_type": "text"
      },
      "source": [
        "# Your turn - 5"
      ]
    },
    {
      "cell_type": "markdown",
      "metadata": {
        "id": "gbs7FiZ7MPML",
        "colab_type": "text"
      },
      "source": [
        "Your Turn: Make up a few sentences of your own, by typing a name, equals sign, and a list of words, like this: ex1 = ['Monty', 'Python', 'and', 'the', 'Holy', 'Grail']. Repeat some of the other Python operations we saw earlier in 1, e.g., sorted(ex1), len(set(ex1)), ex1.count('the')."
      ]
    },
    {
      "cell_type": "code",
      "metadata": {
        "id": "E1MvEXicMUXm",
        "colab_type": "code",
        "colab": {}
      },
      "source": [
        "ex1 = ['Monty', 'Python', 'and', 'the', 'Holy', 'Grail']"
      ],
      "execution_count": null,
      "outputs": []
    },
    {
      "cell_type": "code",
      "metadata": {
        "id": "5U_NQR5tN76p",
        "colab_type": "code",
        "colab": {
          "base_uri": "https://localhost:8080/",
          "height": 34
        },
        "outputId": "1d0ebcd9-37a2-48d1-a629-6f9662cdddf3"
      },
      "source": [
        "ex1.count('the')"
      ],
      "execution_count": null,
      "outputs": [
        {
          "output_type": "execute_result",
          "data": {
            "text/plain": [
              "1"
            ]
          },
          "metadata": {
            "tags": []
          },
          "execution_count": 5
        }
      ]
    },
    {
      "cell_type": "code",
      "metadata": {
        "id": "OZ4oPNNIN5fT",
        "colab_type": "code",
        "colab": {
          "base_uri": "https://localhost:8080/",
          "height": 34
        },
        "outputId": "ef807436-b674-4756-add6-dc211561ae51"
      },
      "source": [
        "len(set(ex1))"
      ],
      "execution_count": null,
      "outputs": [
        {
          "output_type": "execute_result",
          "data": {
            "text/plain": [
              "6"
            ]
          },
          "metadata": {
            "tags": []
          },
          "execution_count": 4
        }
      ]
    },
    {
      "cell_type": "code",
      "metadata": {
        "id": "B3WqM5N4N1R8",
        "colab_type": "code",
        "colab": {
          "base_uri": "https://localhost:8080/",
          "height": 34
        },
        "outputId": "cd19d403-6596-490f-cf79-a12a747e5e51"
      },
      "source": [
        "sorted(ex1)"
      ],
      "execution_count": null,
      "outputs": [
        {
          "output_type": "execute_result",
          "data": {
            "text/plain": [
              "['Grail', 'Holy', 'Monty', 'Python', 'and', 'the']"
            ]
          },
          "metadata": {
            "tags": []
          },
          "execution_count": 3
        }
      ]
    },
    {
      "cell_type": "markdown",
      "metadata": {
        "id": "pGC-JLLzOFDa",
        "colab_type": "text"
      },
      "source": [
        "# Your turn - 6"
      ]
    },
    {
      "cell_type": "markdown",
      "metadata": {
        "id": "uIkwH57VOIvB",
        "colab_type": "text"
      },
      "source": [
        "Take a few minutes to define a sentence of your own and modify individual words and groups of words (slices) using the same methods used earlier. Check your understanding by trying the exercises on lists at the end of this chapter."
      ]
    },
    {
      "cell_type": "code",
      "metadata": {
        "id": "eQkYzTu2OJw6",
        "colab_type": "code",
        "colab": {}
      },
      "source": [
        "sent1 = ['Seasons', 'change', 'love', 'went', 'cold', 'feed', 'the', 'flame', 'because', 'we', 'cannot', 'let', 'go']\n",
        "sent2 = ['run', 'away', 'but', 'we', 'are', 'running', 'circles']"
      ],
      "execution_count": null,
      "outputs": []
    },
    {
      "cell_type": "code",
      "metadata": {
        "id": "f3bw9jFMPqSS",
        "colab_type": "code",
        "colab": {
          "base_uri": "https://localhost:8080/",
          "height": 54
        },
        "outputId": "10c170fc-10a5-40e0-b87b-5085f27d73d6"
      },
      "source": [
        "sent = sent1 + sent2\n",
        "print(sent)"
      ],
      "execution_count": null,
      "outputs": [
        {
          "output_type": "stream",
          "text": [
            "['Seasons', 'change', 'love', 'went', 'cold', 'feed', 'the', 'flame', 'because', 'we', 'cannot', 'let', 'go', 'run', 'away', 'but', 'we', 'are', 'running', 'circles']\n"
          ],
          "name": "stdout"
        }
      ]
    },
    {
      "cell_type": "code",
      "metadata": {
        "id": "egtNtecvPxWV",
        "colab_type": "code",
        "colab": {
          "base_uri": "https://localhost:8080/",
          "height": 34
        },
        "outputId": "a4cefe56-4c3b-47ac-917b-0457f146a850"
      },
      "source": [
        "sent[5:10]"
      ],
      "execution_count": null,
      "outputs": [
        {
          "output_type": "execute_result",
          "data": {
            "text/plain": [
              "['feed', 'the', 'flame', 'because', 'we']"
            ]
          },
          "metadata": {
            "tags": []
          },
          "execution_count": 11
        }
      ]
    },
    {
      "cell_type": "code",
      "metadata": {
        "id": "R8hSxQVXP1kJ",
        "colab_type": "code",
        "colab": {
          "base_uri": "https://localhost:8080/",
          "height": 34
        },
        "outputId": "3c0efe55-9f3b-4f88-c164-c0d78ef9cab5"
      },
      "source": [
        "sent.count('run')"
      ],
      "execution_count": null,
      "outputs": [
        {
          "output_type": "execute_result",
          "data": {
            "text/plain": [
              "1"
            ]
          },
          "metadata": {
            "tags": []
          },
          "execution_count": 12
        }
      ]
    },
    {
      "cell_type": "code",
      "metadata": {
        "id": "7gOoG5RNP6zV",
        "colab_type": "code",
        "colab": {
          "base_uri": "https://localhost:8080/",
          "height": 34
        },
        "outputId": "9c201074-87d7-4a59-ab9d-9cc31cc7cae4"
      },
      "source": [
        "sent.index('circles')"
      ],
      "execution_count": null,
      "outputs": [
        {
          "output_type": "execute_result",
          "data": {
            "text/plain": [
              "19"
            ]
          },
          "metadata": {
            "tags": []
          },
          "execution_count": 14
        }
      ]
    },
    {
      "cell_type": "markdown",
      "metadata": {
        "id": "tZqBrnVbQcBd",
        "colab_type": "text"
      },
      "source": [
        "# Your turn - 7"
      ]
    },
    {
      "cell_type": "markdown",
      "metadata": {
        "id": "s6-TNdH7QfM3",
        "colab_type": "text"
      },
      "source": [
        "Try the preceding frequency distribution example for yourself, for text2. Be careful to use the correct parentheses and uppercase letters. If you get an error message NameError: name 'FreqDist' is not defined, you need to start your work with from nltk.book import *"
      ]
    },
    {
      "cell_type": "code",
      "metadata": {
        "id": "Ln51qXPoQghq",
        "colab_type": "code",
        "colab": {
          "base_uri": "https://localhost:8080/",
          "height": 34
        },
        "outputId": "e585acef-e222-499c-feec-f7a1cfcb8f9b"
      },
      "source": [
        "frequencyDistribution = FreqDist(text2)\n",
        "print(frequencyDistribution)"
      ],
      "execution_count": null,
      "outputs": [
        {
          "output_type": "stream",
          "text": [
            "<FreqDist with 6833 samples and 141576 outcomes>\n"
          ],
          "name": "stdout"
        }
      ]
    },
    {
      "cell_type": "code",
      "metadata": {
        "id": "JvT5UjkaRRW2",
        "colab_type": "code",
        "colab": {
          "base_uri": "https://localhost:8080/",
          "height": 883
        },
        "outputId": "ff28995a-747f-4d87-f620-f08fbba05ea2"
      },
      "source": [
        "frequencyDistribution.most_common(50)"
      ],
      "execution_count": null,
      "outputs": [
        {
          "output_type": "execute_result",
          "data": {
            "text/plain": [
              "[(',', 9397),\n",
              " ('to', 4063),\n",
              " ('.', 3975),\n",
              " ('the', 3861),\n",
              " ('of', 3565),\n",
              " ('and', 3350),\n",
              " ('her', 2436),\n",
              " ('a', 2043),\n",
              " ('I', 2004),\n",
              " ('in', 1904),\n",
              " ('was', 1846),\n",
              " ('it', 1568),\n",
              " ('\"', 1506),\n",
              " (';', 1419),\n",
              " ('she', 1333),\n",
              " ('be', 1305),\n",
              " ('that', 1297),\n",
              " ('for', 1234),\n",
              " ('not', 1212),\n",
              " ('as', 1179),\n",
              " ('you', 1037),\n",
              " ('with', 971),\n",
              " ('had', 969),\n",
              " ('his', 941),\n",
              " ('he', 895),\n",
              " (\"'\", 883),\n",
              " ('have', 807),\n",
              " ('at', 806),\n",
              " ('by', 737),\n",
              " ('is', 728),\n",
              " ('.\"', 721),\n",
              " ('s', 700),\n",
              " ('Elinor', 684),\n",
              " ('on', 676),\n",
              " ('all', 642),\n",
              " ('him', 633),\n",
              " ('so', 617),\n",
              " ('but', 597),\n",
              " ('which', 592),\n",
              " ('could', 568),\n",
              " ('Marianne', 566),\n",
              " ('my', 551),\n",
              " ('Mrs', 530),\n",
              " ('from', 527),\n",
              " ('would', 507),\n",
              " ('very', 492),\n",
              " ('no', 488),\n",
              " ('their', 463),\n",
              " ('them', 462),\n",
              " ('--', 461)]"
            ]
          },
          "metadata": {
            "tags": []
          },
          "execution_count": 22
        }
      ]
    },
    {
      "cell_type": "code",
      "metadata": {
        "id": "0JjJ6jwWRf9v",
        "colab_type": "code",
        "colab": {
          "base_uri": "https://localhost:8080/",
          "height": 316
        },
        "outputId": "6ad49567-4890-42d4-8def-fd5ccc356507"
      },
      "source": [
        "frequencyDistribution.plot(50, cumulative=True)"
      ],
      "execution_count": null,
      "outputs": [
        {
          "output_type": "display_data",
          "data": {
            "image/png": "[encoded data removed]",
            "text/plain": [
              "<Figure size 432x288 with 1 Axes>"
            ]
          },
          "metadata": {
            "tags": [],
            "needs_background": "light"
          }
        }
      ]
    },
    {
      "cell_type": "markdown",
      "metadata": {
        "id": "py3h8-TpYhMO",
        "colab_type": "text"
      },
      "source": [
        ""
      ]
    }
  ]
}