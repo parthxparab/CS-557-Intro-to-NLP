{
 "cells": [
  {
   "cell_type": "markdown",
   "metadata": {
    "id": "VTw1Vb8Bec_3"
   },
   "source": [
    "# Final Project - Latent Dirichlet Allocation (LDA)\n",
    "\n",
    "Group number - 3\n",
    "Sejal Vyas(10450395)\n",
    "\n",
    "Shiwani Deo(10454959)\n",
    "\n",
    "Parth Parab(10444835)"
   ]
  },
  {
   "cell_type": "markdown",
   "metadata": {
    "id": "VJdoCZ5wgEWD"
   },
   "source": [
    "In this project, we have trained an LDA model using gensim. The document used to train this model is a research paper on Generative Adversarial Networks. The two test documents used are a research paper on style-GAN and grail.txt from webtext of nltk.corpus. The model is trained to find 5 topics, ie classify the words from the initial research paper in five topics. Next, this trained model is tested on grail.txt and most of the words (over 50%) fall in one category. The other test document is similar to the training document, ie a research paper from the same domain. Here the words are evenly distributed amongst all the five topics. "
   ]
  },
  {
   "cell_type": "markdown",
   "metadata": {
    "id": "tSzBSBFUi5zI"
   },
   "source": [
    "Note : Upload the text files attached"
   ]
  },
  {
   "cell_type": "markdown",
   "metadata": {
    "id": "wNSqqtoJjAA2"
   },
   "source": [
    "Upload the training document"
   ]
  },
  {
   "cell_type": "code",
   "execution_count": 1,
   "metadata": {
    "colab": {
     "base_uri": "https://localhost:8080/"
    },
    "id": "HEhHJApIp7Ki",
    "outputId": "72344625-8e5f-4d49-dcd8-8258ddc72be4"
   },
   "outputs": [
    {
     "name": "stdout",
     "output_type": "stream",
     "text": [
      "217\n",
      "['Generative Adversarial Nets\\n', 'Ian J. Goodfellow?,   Jean Pouget-Abadie†,  Mehdi Mirza,  Bing Xu,  David Warde-Farley, Sherjil Ozair‡,  Aaron Courville,  Yoshua Bengio§\\n']\n"
     ]
    }
   ],
   "source": [
    "import re\n",
    "sentences = []\n",
    "f = open(\"gan1.txt\", \"r\")\n",
    "for x in f:\n",
    "  temp = re.sub('[^A-Za-z0-9]+', '', x)\n",
    "  if len(temp) > 0 :\n",
    "    sentences.append(x)\n",
    "\n",
    "print(len(sentences))\n",
    "print(sentences[:2])"
   ]
  },
  {
   "cell_type": "markdown",
   "metadata": {
    "id": "XddLPUwHjRwA"
   },
   "source": [
    "Load Gensim and nltk libraries"
   ]
  },
  {
   "cell_type": "code",
   "execution_count": 3,
   "metadata": {
    "id": "futsSV3mosZ8"
   },
   "outputs": [
    {
     "ename": "SyntaxError",
     "evalue": "invalid syntax (<ipython-input-3-04d0a579ddef>, line 1)",
     "output_type": "error",
     "traceback": [
      "\u001b[0;36m  File \u001b[0;32m\"<ipython-input-3-04d0a579ddef>\"\u001b[0;36m, line \u001b[0;32m1\u001b[0m\n\u001b[0;31m    pip install gensim\u001b[0m\n\u001b[0m              ^\u001b[0m\n\u001b[0;31mSyntaxError\u001b[0m\u001b[0;31m:\u001b[0m invalid syntax\n"
     ]
    }
   ],
   "source": [
    "# pip install gensim\n",
    "import gensim\n",
    "from gensim.utils import simple_preprocess\n",
    "from gensim.parsing.preprocessing import STOPWORDS\n",
    "from nltk.stem import WordNetLemmatizer, SnowballStemmer\n",
    "from nltk.stem.porter import *\n",
    "import numpy as np\n",
    "np.random.seed(400)\n",
    "\n",
    "import pandas as pd\n",
    "stemmer = SnowballStemmer(\"english\")"
   ]
  },
  {
   "cell_type": "code",
   "execution_count": 3,
   "metadata": {
    "colab": {
     "base_uri": "https://localhost:8080/"
    },
    "id": "VmIAvY8AowuY",
    "outputId": "425348a3-a9fd-475a-d193-90774e03c3c1"
   },
   "outputs": [
    {
     "name": "stdout",
     "output_type": "stream",
     "text": [
      "[nltk_data] Downloading package wordnet to /root/nltk_data...\n",
      "[nltk_data]   Unzipping corpora/wordnet.zip.\n"
     ]
    },
    {
     "data": {
      "text/plain": [
       "True"
      ]
     },
     "execution_count": 3,
     "metadata": {
      "tags": []
     },
     "output_type": "execute_result"
    }
   ],
   "source": [
    "import nltk\n",
    "nltk.download('wordnet')"
   ]
  },
  {
   "cell_type": "markdown",
   "metadata": {
    "id": "gdfVK-q3ji-3"
   },
   "source": [
    "Tokenize and lemmatize\n"
   ]
  },
  {
   "cell_type": "code",
   "execution_count": 4,
   "metadata": {
    "id": "Gbxme-hso8J0"
   },
   "outputs": [],
   "source": [
    "def lemmatize_stemming(text):\n",
    "    return stemmer.stem(WordNetLemmatizer().lemmatize(text, pos='v'))\n",
    "\n",
    "def preprocess(text):\n",
    "    result=[]\n",
    "    for token in gensim.utils.simple_preprocess(text) :\n",
    "        if token not in gensim.parsing.preprocessing.STOPWORDS and len(token) > 3:\n",
    "            sent = lemmatize_stemming(token)\n",
    "            if len(sent) > 0 :\n",
    "              result.append(sent)\n",
    "            \n",
    "    return result"
   ]
  },
  {
   "cell_type": "code",
   "execution_count": 5,
   "metadata": {
    "id": "bGPJ-5kKpEjn"
   },
   "outputs": [],
   "source": [
    "docs = []\n",
    "\n",
    "for doc in sentences:\n",
    "    docs.append(preprocess(doc))"
   ]
  },
  {
   "cell_type": "markdown",
   "metadata": {
    "id": "RYRUSthrj_op"
   },
   "source": [
    "Preview Processed docs\n"
   ]
  },
  {
   "cell_type": "code",
   "execution_count": 6,
   "metadata": {
    "colab": {
     "base_uri": "https://localhost:8080/"
    },
    "id": "uAw9sO_1pHvp",
    "outputId": "2293bb21-04cb-467d-f593-bf80947bb39e"
   },
   "outputs": [
    {
     "name": "stdout",
     "output_type": "stream",
     "text": [
      "[['generat', 'adversari', 'net'], ['goodfellow', 'jean', 'pouget', 'abadi', 'mehdi', 'mirza', 'bing', 'david', 'ward', 'farley', 'sherjil', 'ozair', 'aaron', 'courvill', 'yoshua', 'bengio'], ['partement', 'informatiqu', 'recherch', 'rationnell', 'universit', 'montr'], ['montr'], ['abstract'], ['propos', 'framework', 'estim', 'generat', 'model', 'adversar', 'process', 'simultan', 'train', 'model', 'generat', 'model', 'captur', 'data', 'distribut', 'discrimin', 'model', 'estim', 'probabl', 'sampl', 'come', 'train', 'data', 'train', 'procedur', 'maxim', 'probabl', 'make', 'mistak', 'framework', 'correspond', 'minimax', 'player', 'game', 'space', 'arbitrari', 'function', 'uniqu', 'solut', 'exist', 'recov', 'train', 'data', 'distribut', 'equal', 'case', 'defin', 'multilay', 'perceptron', 'entir', 'train', 'backpropag', 'need', 'markov', 'chain', 'unrol', 'approxim', 'infer', 'work', 'train', 'generat', 'sampl', 'experi', 'demonstr', 'potenti', 'framework', 'qualit', 'quantit', 'evalu', 'generat', 'sampl'], ['introduct'], ['promis', 'deep', 'learn', 'discov', 'rich', 'hierarch', 'model', 'repres', 'probabl', 'distribut', 'kind', 'data', 'encount', 'artifici', 'intellig', 'applic', 'natur', 'imag', 'audio', 'waveform', 'contain', 'speech', 'symbol', 'natur', 'languag', 'corpora', 'strike', 'success', 'deep', 'learn', 'involv', 'discrimin', 'model', 'usual', 'high', 'dimension', 'rich', 'sensori', 'input', 'class', 'label', 'strike', 'success', 'primarili', 'base', 'backpropag', 'dropout', 'algorithm', 'piecewis', 'linear', 'unit', 'particular', 'behav', 'gradient', 'deep', 'generat', 'model', 'impact', 'difficulti', 'approxim', 'intract', 'probabilist', 'comput', 'aris', 'maximum', 'likelihood', 'estim', 'relat', 'strategi', 'difficulti', 'leverag', 'benefit', 'piecewis', 'linear', 'unit', 'generat', 'context', 'propos', 'generat', 'model', 'estim', 'procedur', 'sidestep', 'difficulti'], ['propos', 'adversari', 'net', 'framework', 'generat', 'model', 'pit', 'adversari', 'discrimin', 'model', 'learn', 'determin', 'sampl', 'model', 'distribut', 'data', 'distribut', 'generat', 'model', 'think', 'analog', 'team', 'counterfeit', 'tri', 'produc', 'fake', 'currenc', 'detect', 'discrimin', 'model', 'analog', 'polic', 'tri', 'detect', 'counterfeit', 'currenc', 'competit', 'game', 'drive', 'team', 'improv', 'method', 'counterfeit', 'genuin', 'articl'], ['goodfellow', 'research', 'scientist', 'googl', 'work', 'earlier', 'udem', 'student'], ['jean', 'pouget', 'abadi', 'work', 'visit', 'universit', 'montr', 'ecol', 'polytechniqu'], ['sherjil', 'ozair', 'visit', 'universit', 'montr', 'indian', 'institut', 'technolog', 'delhi'], ['yoshua', 'bengio', 'cifar', 'senior', 'fellow'], ['code', 'hyperparamet', 'avail', 'http', 'github', 'goodf', 'adversari'], ['framework', 'yield', 'specif', 'train', 'algorithm', 'kind', 'model', 'optim', 'algorithm', 'articl', 'explor', 'special', 'case', 'generat', 'model', 'generat', 'sampl', 'pass', 'random', 'nois', 'multilay', 'perceptron', 'discrimin', 'model', 'multilay', 'perceptron', 'refer', 'special', 'case', 'adversari', 'net', 'case', 'train', 'model', 'high', 'success', 'backpropag', 'dropout', 'algorithm', 'sampl', 'generat', 'model', 'forward', 'propag', 'approxim', 'infer', 'markov', 'chain', 'necessari'], ['relat', 'work'], ['recent', 'work', 'deep', 'generat', 'model', 'focus', 'model', 'provid', 'parametr', 'specif', 'probabl', 'distribut', 'function', 'model', 'train', 'maximiz', 'likelihood', 'famili', 'model', 'succes', 'deep', 'boltzmann', 'machin', 'model', 'general', 'intract', 'likelihood', 'function', 'requir', 'numer', 'approxim', 'likelihood', 'gradient', 'difficulti', 'motiv', 'develop', 'generat', 'machin', 'model', 'explicit', 'repres', 'likelihood', 'abl', 'erat', 'sampl', 'desir', 'distribut', 'generat', 'stochast', 'network', 'exampl', 'generat', 'machin', 'train', 'exact', 'backpropag', 'numer', 'proxim', 'requir', 'boltzmann', 'machin', 'work', 'extend', 'idea', 'generat', 'machin', 'elimin', 'markov', 'chain', 'generat', 'stochast', 'network'], ['work', 'backpropag', 'deriv', 'generat', 'process', 'observ'], [], ['unawar', 'time', 'develop', 'work', 'kingma', 'well', 'rezend', 'develop', 'general', 'stochast', 'backpropag', 'rule', 'allow', 'backprop', 'agat', 'gaussian', 'distribut', 'finit', 'varianc', 'backpropag', 'covari', 'paramet', 'mean', 'backpropag', 'rule', 'allow', 'learn', 'condi', 'tional', 'varianc', 'generat', 'treat', 'hyperparamet', 'work', 'kingma', 'well', 'rezend', 'stochast', 'backpropag', 'train', 'variat', 'autoen', 'coder', 'vae', 'like', 'generat', 'adversari', 'network', 'variat', 'autoencod', 'pair', 'differenti', 'generat', 'network', 'second', 'neural', 'network', 'unlik', 'generat', 'adversari', 'network', 'network', 'recognit', 'model', 'perform', 'approxim', 'infer', 'gan', 'requir', 'differenti', 'visibl', 'unit', 'model', 'discret', 'data', 'vae', 'requir', 'differenti', 'hide', 'unit', 'discret', 'latent', 'variabl', 'like', 'approach', 'exist', 'close', 'relat', 'method'], ['previous', 'work', 'take', 'approach', 'discrimin', 'criterion', 'train', 'generat', 'model', 'approach', 'criteria', 'intract', 'deep', 'generat', 'model', 'method', 'difficult', 'approxim', 'deep', 'model', 'involv', 'ratio', 'probabili', 'tie', 'approxim', 'variat', 'approxim', 'lower', 'bind', 'probabil', 'nois', 'contrast', 'estim', 'involv', 'train', 'generat', 'model', 'learn', 'weight', 'model', 'use', 'discrimin', 'data', 'fix', 'nois', 'distribut', 'previous', 'train', 'model', 'nois', 'distribut', 'allow', 'train', 'sequenc', 'model', 'increas', 'qualiti', 'see', 'inform', 'competit', 'mechan', 'similar', 'spirit', 'formal', 'petit', 'adversari', 'network', 'game', 'limit', 'discrimin', 'defin', 'ratio', 'probabl', 'densiti', 'nois', 'distribut', 'model', 'distribut', 'requir', 'abil', 'evalu', 'backpropag', 'densiti'], ['previous', 'work', 'general', 'concept', 'have', 'neural', 'network', 'compet', 'relev', 'work', 'predict', 'minim', 'predict', 'minim', 'hide', 'unit', 'neural', 'network', 'train', 'differ', 'output', 'second', 'network', 'predict', 'valu', 'hide', 'unit', 'give', 'valu', 'hide', 'unit', 'work', 'differ', 'predict', 'minim', 'import', 'way', 'work', 'competit', 'network', 'sole', 'train', 'criterion', 'suffici', 'train', 'network', 'predict', 'minim', 'regular', 'encourag', 'hide', 'unit', 'neural', 'network', 'tistic', 'independ', 'accomplish', 'task', 'primari', 'train', 'criterion'], ['natur', 'competit', 'differ', 'predict', 'minim', 'network', 'output', 'compar', 'network', 'tri', 'output', 'similar', 'tri'], ['output', 'differ', 'output', 'question', 'singl', 'scalar', 'gan', 'network', 'produc', 'rich', 'high', 'dimension', 'vector', 'input', 'network', 'attempt', 'choos', 'input', 'network', 'know', 'process', 'specif', 'learn', 'process', 'differ', 'predict', 'minim', 'describ', 'optim', 'problem', 'object', 'function', 'minim', 'learn', 'approach', 'minimum', 'object', 'function', 'gan', 'base', 'minimax', 'game', 'optim', 'problem', 'valu', 'function', 'agent', 'seek', 'maxim', 'seek', 'minim', 'game', 'termin', 'saddl', 'point', 'minimum', 'respect', 'player', 'strategi', 'maximum', 'respect', 'player', 'strategi'], ['generat', 'adversari', 'network', 'confus', 'relat', 'concept', 'adversar', 'exampl', 'adversari', 'exampl', 'exampl', 'gradient', 'base', 'optim', 'direct', 'input', 'classif', 'network', 'order', 'exampl', 'similar', 'data', 'misclassifi', 'differ', 'present', 'work', 'adversari', 'exampl', 'mechan', 'train', 'generat', 'model', 'instead', 'adversari', 'exampl', 'primarili', 'analysi', 'tool', 'show', 'neural', 'network', 'behav', 'intrigu', 'way', 'confid', 'clas', 'sifi', 'imag', 'differ', 'high', 'confid', 'differ', 'impercept', 'human', 'observ', 'exist', 'adversari', 'exampl', 'suggest', 'generat', 'adversari', 'network', 'train', 'ineffici', 'possibl', 'modern', 'discrimin', 'network', 'confid', 'recogn', 'class', 'emul', 'human', 'percept', 'attribut', 'class'], ['adversari', 'net'], ['adversari', 'model', 'framework', 'straightforward', 'appli', 'model', 'multilay', 'perceptron', 'learn', 'generat', 'distribut', 'data', 'defin', 'prior', 'input', 'nois', 'variabl', 'repres', 'map', 'data', 'space', 'differenti', 'function', 'repres', 'multilay', 'perceptron', 'paramet', 'defin', 'second', 'multilay', 'perceptron', 'output', 'singl', 'scalar', 'repres', 'probabl', 'come', 'data', 'train', 'maxim', 'probabl', 'assign', 'correct', 'label', 'train', 'exampl', 'sampl', 'simultan', 'train', 'minim', 'word', 'play', 'follow', 'player', 'minimax', 'game'], ['valu', 'function'], ['pdata'], ['section', 'present', 'theoret', 'analysi', 'adversari', 'net', 'essenti', 'show', 'train', 'criterion', 'allow', 'recov', 'data', 'generat', 'distribut', 'give', 'capac', 'parametr', 'limit', 'figur', 'formal', 'pedagog', 'explan', 'approach', 'practic', 'implement', 'game', 'iter', 'numer', 'approach', 'optim', 'complet', 'inner', 'loop', 'train', 'comput', 'prohibit', 'finit', 'dataset', 'result', 'overfit', 'instead', 'altern', 'step', 'optim', 'step', 'optim', 'result', 'maintain', 'near', 'optim', 'solut', 'long', 'chang', 'slowli', 'procedur', 'formal', 'present', 'algorithm'], ['practic', 'equat', 'provid', 'suffici', 'gradient', 'learn', 'earli', 'learn', 'poor', 'reject', 'sampl', 'high', 'confid', 'clear', 'differ', 'train', 'data', 'case', 'satur', 'train', 'minim', 'train', 'maxim', 'object', 'function', 'result', 'fix', 'point', 'dynam', 'provid', 'stronger', 'gradient', 'earli', 'learn'], ['theoret', 'result'], ['generat', 'implicit', 'defin', 'probabl', 'distribut', 'distribut', 'sampl', 'obtain', 'like', 'algorithm', 'converg', 'good', 'estim', 'pdata', 'give', 'capac', 'train', 'time', 'result', 'section', 'parametr', 'set', 'repres', 'model', 'infinit', 'capac', 'studi', 'converg', 'space', 'probabl', 'densiti', 'function'], ['section', 'minimax', 'game', 'global', 'optimum', 'pdata', 'section', 'algorithm', 'optim', 'obtain', 'desir', 'result'], [], [], [], [], [], [], ['figur', 'generat', 'adversari', 'net', 'train', 'simultan', 'updat', 'discrimin', 'distribut', 'blue', 'dash', 'line', 'discrimin', 'sampl', 'data', 'generat', 'distribut', 'black', 'dot', 'line', 'generat', 'distribut', 'green', 'solid', 'line', 'lower', 'horizont', 'line', 'domain', 'sampl', 'case', 'uniform', 'horizont', 'line', 'domain', 'upward', 'arrow', 'map', 'impos', 'uniform', 'distribut', 'transform', 'sampl', 'contract', 'region', 'high', 'densiti', 'expand', 'region', 'densiti', 'consid', 'adversari', 'pair', 'near', 'converg', 'similar', 'pdata', 'partial', 'accur', 'classifi'], ['inner', 'loop', 'algorithm', 'train', 'discrimin', 'sampl', 'data', 'converg'], ['pdata', 'updat', 'gradient', 'guid', 'flow', 'region', 'like'], ['data'], ['classifi', 'data', 'step', 'train', 'capac', 'reach', 'point', 'improv', 'pdata', 'discrimin', 'unabl', 'differenti', 'distribut'], ['algorithm', 'minibatch', 'stochast', 'gradient', 'descent', 'train', 'generat', 'adversari', 'net', 'number'], ['step', 'appli', 'discrimin', 'hyperparamet', 'expens', 'option', 'experi'], ['number', 'train', 'iter', 'step'], ['sampl', 'minibatch', 'nois', 'sampl', 'nois', 'prior'], ['sampl', 'minibatch', 'exampl', 'data', 'generat', 'distribut'], ['pdata'], ['updat', 'discrimin', 'ascend', 'stochast', 'gradient'], [], [], [], [], [], [], [], [], [], ['sampl', 'minibatch', 'nois', 'sampl', 'nois', 'prior'], ['updat', 'generat', 'descend', 'stochast', 'gradient'], [], [], [], [], [], [], [], ['gradient', 'base', 'updat', 'standard', 'gradient', 'base', 'learn', 'rule', 'momen', 'experi'], ['global', 'optim', 'pdata'], ['consid', 'optim', 'discrimin', 'give', 'generat'], ['proposit', 'fix', 'optim', 'discrimin'], ['pdata'], [], ['pdata'], ['proof', 'train', 'criterion', 'discrimin', 'give', 'generat', 'maxim'], ['quantiti'], [], [], ['pdata'], [], [], ['pdata'], [], ['function', 'achiev', 'maximum'], ['discrimin', 'need', 'defin', 'outsid', 'supp', 'pdata', 'supp'], ['conclud', 'proof'], ['note', 'train', 'object', 'interpret', 'maxim', 'likelihood', 'timat', 'condit', 'probabl', 'indic', 'come', 'pdata', 'minimax', 'game', 'reformul'], [], [], ['pdata'], ['pdata'], ['pdata'], ['pdata'], ['pdata'], [], [], ['pdata'], ['theorem', 'global', 'minimum', 'virtual', 'train', 'criterion', 'achiev'], ['pdata', 'point', 'achiev', 'valu'], ['proof', 'pdata', 'consid', 'inspect'], [], ['best', 'possibl', 'valu', 'reach'], ['pdata', 'observ'], ['pdata'], ['subtract', 'express', 'obtain'], ['pdata', 'pdata'], ['pdata'], [], ['kullback', 'leibler', 'diverg', 'recogn', 'previous', 'express', 'jensen', 'shannon', 'diverg', 'model', 'distribut', 'data', 'generat', 'process'], ['pdata', 'jensen', 'shannon', 'diverg', 'distribut', 'negat', 'zero'], ['equal', 'show', 'global', 'minimum', 'solut', 'pdata', 'generat', 'model', 'perfect', 'replic', 'data', 'distribut'], ['converg', 'algorithm'], ['proposit', 'capac', 'step', 'algorithm', 'discrimin', 'allow', 'reach', 'optimum', 'give', 'updat', 'improv', 'criterion'], ['converg', 'pdataex', 'pdata'], ['proof', 'consid', 'function', 'criterion', 'note', 'convex', 'subderiv', 'supremum', 'convex', 'function', 'includ', 'deriv', 'function', 'point', 'maximum', 'attain', 'word', 'convex', 'equival', 'comput', 'gradient', 'descent', 'updat', 'optim', 'give', 'respond', 'supd', 'convex', 'uniqu', 'global', 'optima', 'prove', 'suffici', 'small', 'updat', 'converg', 'conclud', 'proof'], ['practic', 'adversari', 'net', 'repres', 'limit', 'famili', 'distribut', 'function', 'optim', 'proof', 'appli', 'excel', 'perfor', 'manc', 'multilay', 'perceptron', 'practic', 'suggest', 'reason', 'model', 'despit', 'lack', 'theoret', 'guarante'], ['tabl', 'parzen', 'window', 'base', 'likelihood', 'estim', 'report', 'number', 'mnist', 'mean', 'likelihood', 'sampl', 'test', 'standard', 'error', 'mean', 'comput', 'exampl', 'comput', 'standard', 'error', 'fold', 'dataset', 'differ', 'choos', 'valid', 'fold', 'cross', 'valid', 'fold', 'mean', 'likelihood', 'fold', 'comput', 'mnist', 'compar', 'model', 'real', 'valu', 'binari', 'version', 'dataset'], ['experi'], ['train', 'adversari', 'net', 'rang', 'dataset', 'includ', 'mnist', 'toronto', 'face', 'databas', 'cifar', 'generat', 'net', 'mixtur', 'rectifi', 'linear', 'activ', 'sigmoid', 'activ', 'discrimin', 'maxout', 'activ', 'dropout', 'appli', 'train', 'discrimin', 'theoret', 'framework', 'permit', 'dropout', 'nois', 'intermedi', 'layer', 'generat', 'nois', 'input', 'bottommost', 'layer', 'generat', 'network'], ['estim', 'probabl', 'test', 'data', 'fit', 'gaussian', 'parzen', 'window', 'sampl', 'generat', 'report', 'likelihood', 'distribut', 'paramet', 'gaussian', 'obtain', 'cross', 'valid', 'valid', 'procedur', 'intro', 'duce', 'breuleux', 'generat', 'model', 'exact', 'likelihood', 'tractabl', 'result', 'report', 'tabl', 'method', 'estim', 'likelihood', 'somewhat', 'high', 'varianc', 'perform', 'high', 'dimension', 'space', 'best', 'method', 'avail', 'knowledg', 'advanc', 'generat', 'model', 'sampl', 'estim', 'likelihood', 'direct', 'motiv', 'research', 'evalu', 'model', 'figur', 'sampl', 'draw', 'generat', 'train', 'claim', 'sampl', 'better', 'sampl', 'generat', 'exist', 'method', 'believ', 'sampl', 'competit', 'better', 'generat', 'model', 'literatur', 'highlight', 'potenti', 'adversari', 'framework'], ['advantag', 'disadvantag'], ['framework', 'come', 'advantag', 'disadvantag', 'relat', 'previous', 'model', 'frame', 'work', 'disadvantag', 'primarili', 'explicit', 'represent', 'synchron', 'train', 'particular', 'train', 'updat', 'order', 'avoid', 'helvetica', 'scenario', 'collaps', 'valu', 'valu', 'divers', 'model', 'pdata', 'negat', 'chain', 'boltzmann', 'machin', 'keep', 'date', 'learn', 'step', 'advantag', 'markov'], ['chain', 'need', 'backprop', 'obtain', 'gradient', 'infer', 'need', 'learn', 'wide', 'varieti', 'function', 'incorpor', 'model', 'tabl', 'summar', 'comparison', 'generat', 'adversari', 'net', 'generat', 'model', 'approach'], ['aforement', 'advantag', 'primarili', 'comput', 'adversari', 'model', 'gain', 'statist', 'advantag', 'generat', 'network', 'updat', 'direct', 'data', 'exam', 'ples', 'gradient', 'flow', 'discrimin', 'mean', 'compon', 'input', 'copi', 'direct', 'generat', 'paramet', 'advantag', 'adversari', 'work', 'repres', 'sharp', 'degener', 'distribut', 'method', 'base', 'markov', 'chain', 'requir', 'distribut', 'somewhat', 'blurri', 'order', 'chain', 'abl', 'mode'], ['conclus', 'futur', 'work'], ['framework', 'admit', 'straightforward', 'extens'], [], [], ['figur', 'visual', 'sampl', 'model', 'rightmost', 'column', 'show', 'nearest', 'train', 'exampl', 'neighbor', 'sampl', 'order', 'demonstr', 'model', 'memor', 'train', 'sampl', 'fair', 'random', 'draw', 'cherri', 'pick', 'unlik', 'visual', 'deep', 'generat', 'model', 'imag', 'actual', 'sampl', 'model', 'distribut', 'condit', 'mean', 'give', 'sampl', 'hide', 'unit', 'sampl', 'uncorrel', 'sampl', 'process', 'depend', 'markov', 'chain', 'mix', 'mnist', 'cifar', 'fulli', 'connect', 'model', 'cifar', 'convolut', 'discrimin', 'deconvolut', 'generat'], ['figur', 'digit', 'obtain', 'linear', 'interpol', 'coordin', 'space', 'model'], ['condit', 'generat', 'model', 'obtain', 'add', 'input'], ['learn', 'approxim', 'infer', 'perform', 'train', 'auxiliari', 'network', 'predict'], ['give', 'similar', 'infer', 'train', 'wake', 'sleep', 'algorithm', 'advantag', 'infer', 'train', 'fix', 'generat', 'generat', 'finish', 'train'], ['approxim', 'model', 'condit', 'subset', 'indic', 'train', 'famili', 'condit', 'model', 'share', 'paramet', 'essenti', 'adversari', 'net', 'implement', 'stochast', 'extens', 'determinist'], ['semi', 'supervis', 'learn', 'featur', 'discrimin', 'infer', 'improv', 'perfor', 'manc', 'classifi', 'limit', 'label', 'data', 'avail'], ['effici', 'improv', 'train', 'acceler', 'great', 'devis', 'better', 'method', 'coordin', 'determin', 'better', 'distribut', 'sampl', 'train'], ['paper', 'demonstr', 'viabil', 'adversari', 'model', 'framework', 'suggest', 'research', 'direct', 'prove', 'use'], ['deep', 'direct'], ['graphic', 'model'], ['deep', 'undirect'], ['graphic', 'model'], ['generat'], ['autoencod'], ['adversari', 'model'], ['train'], ['infer', 'need', 'train'], ['infer', 'need'], ['train', 'mcmc', 'need', 'approxim', 'partit', 'function', 'gradient'], ['enforc', 'tradeoff', 'mix', 'power', 'reconstruct', 'generat'], ['synchron', 'discrimin', 'generat'], ['helvetica'], ['infer'], ['learn'], ['approxim', 'infer'], ['variat', 'infer'], ['mcmc', 'base', 'infer'], ['learn'], ['approxim', 'infer'], ['sampl'], ['difficulti'], ['requir', 'markov'], ['chain'], ['requir', 'markov'], ['chain'], ['difficulti'], ['evalu'], ['intract', 'approxim'], ['intract', 'approxim'], ['explicit'], ['repres', 'approxim', 'parzen', 'densiti', 'estim'], ['explicit'], ['repres', 'approxim', 'parzen', 'densiti', 'estim'], ['model', 'design'], ['model', 'need'], ['design', 'work', 'desir', 'infer', 'scheme'], ['infer', 'scheme', 'support', 'similar', 'model', 'famili', 'gan'], ['care', 'design', 'need', 'ensur', 'multipl', 'properti'], ['differenti', 'function', 'theoret', 'permit'], ['differenti', 'function', 'theoret', 'permit'], ['tabl', 'challeng', 'generat', 'model', 'summari', 'difficulti', 'encount', 'differ', 'approach', 'deep', 'generat', 'model', 'major', 'oper', 'involv', 'model'], ['acknowledg'], ['like', 'acknowledg', 'patric', 'marcott', 'olivi', 'delalleau', 'kyunghyun', 'guillaum', 'alain', 'jason', 'yosinski', 'help', 'discuss', 'yann', 'dauphin', 'share', 'parzen', 'window', 'eval', 'uation', 'code', 'like', 'thank', 'develop', 'pylearn', 'theano', 'particular', 'bastien', 'rush', 'theano', 'featur', 'specif', 'benefit', 'project', 'naud', 'bergeron', 'provid', 'need', 'support', 'latex', 'typeset', 'like', 'thank', 'cifar', 'canada', 'research', 'chair', 'fund', 'comput', 'canada', 'calcul', 'provid', 'comput', 'resourc', 'goodfellow', 'support', 'googl', 'fellowship', 'deep', 'learn', 'final', 'like', 'thank', 'troi', 'brasseur', 'stimul', 'creativ'], ['refer'], ['bastien', 'lamblin', 'pascanu', 'bergstra', 'goodfellow', 'bergeron', 'bouchard', 'bengio', 'theano', 'featur', 'speed', 'improv', 'deep', 'learn', 'unsupervis', 'featur', 'learn', 'nip', 'workshop'], ['bengio', 'learn', 'deep', 'architectur', 'publish'], ['bengio', 'mesnil', 'dauphin', 'rifai', 'better', 'mix', 'deep', 'represent'], ['icml'], ['bengio', 'thibodeau', 'laufer', 'yosinski', 'deep', 'generat', 'stochast', 'network', 'trainabl', 'backprop', 'icml'], ['bengio', 'thibodeau', 'laufer', 'alain', 'yosinski', 'deep', 'generat', 'stochast', 'work', 'trainabl', 'backprop', 'proceed', 'intern', 'confer', 'machin', 'learn', 'icml'], ['bergstra', 'breuleux', 'bastien', 'lamblin', 'pascanu', 'desjardin', 'turian', 'ward', 'farley', 'bengio', 'theano', 'math', 'express', 'compil', 'proceed', 'python', 'scientif', 'comput', 'confer', 'scipi', 'oral', 'present'], ['breuleux', 'bengio', 'vincent', 'quick', 'generat', 'repres', 'sampl', 'deriv', 'process', 'neural', 'comput'], ['glorot', 'bord', 'bengio', 'deep', 'spars', 'rectifi', 'neural', 'network', 'aistat'], ['goodfellow', 'ward', 'farley', 'mirza', 'courvill', 'bengio', 'maxout', 'network', 'icml'], ['goodfellow', 'mirza', 'courvill', 'bengio', 'multi', 'predict', 'deep', 'boltzmann', 'machin', 'nip'], ['goodfellow', 'ward', 'farley', 'lamblin', 'dumoulin', 'mirza', 'pascanu', 'bergstra', 'bastien', 'bengio', 'pylearn', 'machin', 'learn', 'research', 'librari', 'arxiv', 'preprint', 'arxiv'], ['gregor', 'danihelka', 'mnih', 'blundel', 'wierstra', 'deep', 'autoregress', 'network', 'icml'], ['gutmann', 'hyvarinen', 'nois', 'contrast', 'estim', 'estim', 'principl', 'unnorm', 'statist', 'model', 'proceed', 'thirteenth', 'intern', 'confer', 'artifici', 'intellig', 'statist', 'aistat'], ['hinton', 'deng', 'dahl', 'moham', 'jait', 'senior', 'vanhouck', 'nguyen', 'sainath', 'kingsburi', 'deep', 'neural', 'network', 'acoust', 'model', 'speech', 'recognit', 'ieee', 'signal', 'process', 'magazin'], ['hinton', 'dayan', 'frey', 'neal', 'wake', 'sleep', 'algorithm', 'unsupervis', 'neural', 'network', 'scienc'], ['hinton', 'srivastava', 'krizhevski', 'sutskev', 'salakhutdinov', 'improv', 'neural', 'network', 'prevent', 'adapt', 'featur', 'detector', 'technic', 'report', 'arxiv'], ['jarrett', 'kavukcuoglu', 'ranzato', 'lecun', 'best', 'multi', 'stage', 'architectur', 'object', 'recognit', 'proc', 'intern', 'confer', 'vision', 'iccv', 'page', 'ieee'], ['kingma', 'well', 'auto', 'encod', 'variat', 'bay', 'proceed', 'interna', 'tional', 'confer', 'learn', 'represent', 'iclr'], ['krizhevski', 'hinton', 'learn', 'multipl', 'layer', 'featur', 'tini', 'imag', 'technic', 'report', 'univers', 'toronto'], ['krizhevski', 'sutskev', 'hinton', 'imagenet', 'classif', 'deep', 'convolut', 'neural', 'network', 'nip'], ['lecun', 'bottou', 'bengio', 'haffner', 'gradient', 'base', 'learn', 'appli', 'document', 'recognit', 'proceed', 'ieee'], ['mnih', 'gregor', 'neural', 'variat', 'infer', 'learn', 'belief', 'network', 'technic', 'report', 'arxiv', 'preprint', 'arxiv'], ['rezend', 'moham', 'wierstra', 'stochast', 'backpropag', 'approxim', 'infer', 'deep', 'generat', 'model', 'technic', 'report', 'arxiv'], ['rifai', 'bengio', 'dauphin', 'vincent', 'generat', 'process', 'sampl', 'contract', 'auto', 'encod', 'icml'], ['salakhutdinov', 'hinton', 'deep', 'boltzmann', 'machin', 'aistat', 'page'], ['schmidhub', 'learn', 'factori', 'cod', 'predict', 'minim', 'neural', 'comput'], [], ['susskind', 'anderson', 'hinton', 'toronto', 'face', 'dataset', 'technic', 'report', 'utml', 'toronto'], ['szegedi', 'zaremba', 'sutskev', 'bruna', 'erhan', 'goodfellow', 'fergus', 'intrigu', 'properti', 'neural', 'network', 'iclr'], ['learn', 'generat', 'model', 'discrimin', 'approach', 'vision', 'pattern', 'recognit', 'cvpr', 'ieee', 'confer', 'page', 'ieee']]\n"
     ]
    }
   ],
   "source": [
    "print(docs)"
   ]
  },
  {
   "cell_type": "markdown",
   "metadata": {
    "id": "7kq-jGvEkJI2"
   },
   "source": [
    "BOW for preprocessed document\n"
   ]
  },
  {
   "cell_type": "code",
   "execution_count": 7,
   "metadata": {
    "id": "RSVgwNuIpLPz"
   },
   "outputs": [],
   "source": [
    "dictionary = gensim.corpora.Dictionary(docs)"
   ]
  },
  {
   "cell_type": "code",
   "execution_count": 8,
   "metadata": {
    "id": "BsgFZ6bJP5aE"
   },
   "outputs": [],
   "source": [
    "common_corpus = [dictionary.doc2bow(text) for text in docs]"
   ]
  },
  {
   "cell_type": "code",
   "execution_count": 9,
   "metadata": {
    "colab": {
     "base_uri": "https://localhost:8080/"
    },
    "id": "kw8M-snypjJ7",
    "outputId": "b2ddf829-a726-49ba-c19f-6c50cebc3de5"
   },
   "outputs": [
    {
     "name": "stdout",
     "output_type": "stream",
     "text": [
      "Word 0 (\"adversari\") appears 1 time.\n",
      "Word 1 (\"generat\") appears 3 time.\n",
      "Word 27 (\"approxim\") appears 3 time.\n",
      "Word 29 (\"backpropag\") appears 1 time.\n",
      "Word 35 (\"data\") appears 1 time.\n",
      "Word 36 (\"defin\") appears 1 time.\n",
      "Word 38 (\"discrimin\") appears 3 time.\n",
      "Word 39 (\"distribut\") appears 4 time.\n",
      "Word 42 (\"estim\") appears 1 time.\n",
      "Word 43 (\"evalu\") appears 1 time.\n",
      "Word 48 (\"game\") appears 1 time.\n",
      "Word 55 (\"model\") appears 8 time.\n",
      "Word 61 (\"probabl\") appears 1 time.\n",
      "Word 72 (\"train\") appears 4 time.\n",
      "Word 75 (\"work\") appears 1 time.\n",
      "Word 90 (\"deep\") appears 2 time.\n",
      "Word 103 (\"intract\") appears 1 time.\n",
      "Word 104 (\"involv\") appears 2 time.\n",
      "Word 108 (\"learn\") appears 1 time.\n",
      "Word 134 (\"competit\") appears 1 time.\n",
      "Word 143 (\"method\") appears 1 time.\n",
      "Word 175 (\"nois\") appears 4 time.\n",
      "Word 201 (\"network\") appears 1 time.\n",
      "Word 207 (\"requir\") appears 1 time.\n",
      "Word 213 (\"allow\") appears 1 time.\n",
      "Word 214 (\"approach\") appears 2 time.\n",
      "Word 248 (\"variat\") appears 1 time.\n",
      "Word 251 (\"abil\") appears 1 time.\n",
      "Word 252 (\"bind\") appears 1 time.\n",
      "Word 253 (\"contrast\") appears 1 time.\n",
      "Word 254 (\"criteria\") appears 1 time.\n",
      "Word 255 (\"criterion\") appears 1 time.\n",
      "Word 256 (\"densiti\") appears 2 time.\n",
      "Word 257 (\"difficult\") appears 1 time.\n",
      "Word 258 (\"fix\") appears 1 time.\n",
      "Word 259 (\"formal\") appears 1 time.\n",
      "Word 260 (\"increas\") appears 1 time.\n",
      "Word 261 (\"inform\") appears 1 time.\n",
      "Word 262 (\"limit\") appears 1 time.\n",
      "Word 263 (\"lower\") appears 1 time.\n",
      "Word 264 (\"mechan\") appears 1 time.\n",
      "Word 265 (\"petit\") appears 1 time.\n",
      "Word 266 (\"previous\") appears 2 time.\n",
      "Word 267 (\"probabil\") appears 1 time.\n",
      "Word 268 (\"probabili\") appears 1 time.\n",
      "Word 269 (\"qualiti\") appears 1 time.\n",
      "Word 270 (\"ratio\") appears 2 time.\n",
      "Word 271 (\"see\") appears 1 time.\n",
      "Word 272 (\"sequenc\") appears 1 time.\n",
      "Word 273 (\"similar\") appears 1 time.\n",
      "Word 274 (\"spirit\") appears 1 time.\n",
      "Word 275 (\"take\") appears 1 time.\n",
      "Word 276 (\"tie\") appears 1 time.\n",
      "Word 277 (\"use\") appears 1 time.\n",
      "Word 278 (\"weight\") appears 1 time.\n"
     ]
    }
   ],
   "source": [
    "document_num = 20\n",
    "bow_doc_x = common_corpus[document_num]\n",
    "\n",
    "for i in range(len(bow_doc_x)):\n",
    "    print(\"Word {} (\\\"{}\\\") appears {} time.\".format(bow_doc_x[i][0], \n",
    "                                                     dictionary[bow_doc_x[i][0]], \n",
    "                                                     bow_doc_x[i][1]))"
   ]
  },
  {
   "cell_type": "markdown",
   "metadata": {
    "id": "zIc3asfCk-9u"
   },
   "source": [
    "Train LDA model "
   ]
  },
  {
   "cell_type": "code",
   "execution_count": 13,
   "metadata": {
    "id": "RCyW_AWvpqa-"
   },
   "outputs": [],
   "source": [
    "# TODO\n",
    "lda_model =  gensim.models.LdaMulticore(common_corpus,\n",
    "                                        num_topics = 5, \n",
    "                                   id2word = dictionary)"
   ]
  },
  {
   "cell_type": "markdown",
   "metadata": {
    "id": "ECiBMng5lR2U"
   },
   "source": [
    "For each topic, explore the words occuring in that topic and its relative weight\n"
   ]
  },
  {
   "cell_type": "code",
   "execution_count": 14,
   "metadata": {
    "colab": {
     "base_uri": "https://localhost:8080/"
    },
    "id": "yizJpCULpvIc",
    "outputId": "ab4ace5d-50a1-495e-8d98-ff32d956694e"
   },
   "outputs": [
    {
     "name": "stdout",
     "output_type": "stream",
     "text": [
      "Topic: 0 \n",
      "Words: 0.019*\"sampl\" + 0.018*\"generat\" + 0.015*\"adversari\" + 0.014*\"discrimin\" + 0.014*\"model\" + 0.014*\"pdata\" + 0.013*\"network\" + 0.013*\"nois\" + 0.012*\"bengio\" + 0.012*\"net\"\n",
      "\n",
      "\n",
      "Topic: 1 \n",
      "Words: 0.024*\"train\" + 0.023*\"pdata\" + 0.020*\"learn\" + 0.020*\"model\" + 0.014*\"generat\" + 0.014*\"network\" + 0.013*\"approxim\" + 0.013*\"work\" + 0.012*\"infer\" + 0.009*\"gradient\"\n",
      "\n",
      "\n",
      "Topic: 2 \n",
      "Words: 0.019*\"generat\" + 0.014*\"network\" + 0.012*\"deep\" + 0.012*\"function\" + 0.011*\"convex\" + 0.010*\"distribut\" + 0.009*\"diverg\" + 0.008*\"hinton\" + 0.007*\"discrimin\" + 0.007*\"comput\"\n",
      "\n",
      "\n",
      "Topic: 3 \n",
      "Words: 0.036*\"model\" + 0.035*\"generat\" + 0.027*\"train\" + 0.015*\"distribut\" + 0.013*\"adversari\" + 0.013*\"sampl\" + 0.012*\"network\" + 0.011*\"likelihood\" + 0.009*\"data\" + 0.008*\"probabl\"\n",
      "\n",
      "\n",
      "Topic: 4 \n",
      "Words: 0.036*\"model\" + 0.028*\"generat\" + 0.018*\"sampl\" + 0.013*\"deep\" + 0.011*\"train\" + 0.011*\"discrimin\" + 0.011*\"infer\" + 0.011*\"learn\" + 0.010*\"report\" + 0.009*\"network\"\n",
      "\n",
      "\n"
     ]
    }
   ],
   "source": [
    "for idx, topic in lda_model.print_topics(-1):\n",
    "    print(\"Topic: {} \\nWords: {}\".format(idx, topic ))\n",
    "    print(\"\\n\")"
   ]
  },
  {
   "cell_type": "markdown",
   "metadata": {
    "id": "xjAl2iNqleSi"
   },
   "source": [
    "Download the document grail.txt from nltk.corpus"
   ]
  },
  {
   "cell_type": "code",
   "execution_count": 15,
   "metadata": {
    "colab": {
     "base_uri": "https://localhost:8080/"
    },
    "id": "tBVcW7AEwK-D",
    "outputId": "d795b0f8-e27d-4f92-f7b8-efabf8d50b4b"
   },
   "outputs": [
    {
     "name": "stdout",
     "output_type": "stream",
     "text": [
      "NLTK Downloader\n",
      "---------------------------------------------------------------------------\n",
      "    d) Download   l) List    u) Update   c) Config   h) Help   q) Quit\n",
      "---------------------------------------------------------------------------\n",
      "Downloader> q\n",
      "[nltk_data] Downloading package inaugural to /root/nltk_data...\n",
      "[nltk_data]   Unzipping corpora/inaugural.zip.\n",
      "[nltk_data] Downloading package nps_chat to /root/nltk_data...\n",
      "[nltk_data]   Unzipping corpora/nps_chat.zip.\n",
      "[nltk_data] Downloading package webtext to /root/nltk_data...\n",
      "[nltk_data]   Unzipping corpora/webtext.zip.\n",
      "[nltk_data] Downloading package treebank to /root/nltk_data...\n",
      "[nltk_data]   Unzipping corpora/treebank.zip.\n",
      "[nltk_data] Downloading package gutenberg to /root/nltk_data...\n",
      "[nltk_data]   Unzipping corpora/gutenberg.zip.\n",
      "[nltk_data] Downloading package genesis to /root/nltk_data...\n",
      "[nltk_data]   Unzipping corpora/genesis.zip.\n"
     ]
    },
    {
     "data": {
      "text/plain": [
       "True"
      ]
     },
     "execution_count": 15,
     "metadata": {
      "tags": []
     },
     "output_type": "execute_result"
    }
   ],
   "source": [
    "import nltk   \n",
    "nltk.download()          \n",
    "nltk.download('inaugural')          #downloading required dependencies\n",
    "nltk.download('nps_chat')\n",
    "nltk.download('webtext')\n",
    "nltk.download('treebank')\n",
    "nltk.download('gutenberg')\n",
    "nltk.download('genesis')"
   ]
  },
  {
   "cell_type": "code",
   "execution_count": 16,
   "metadata": {
    "colab": {
     "base_uri": "https://localhost:8080/"
    },
    "id": "bx10wLedwfGt",
    "outputId": "21c15db0-33d7-4f7e-cea8-23fc3f88ef81"
   },
   "outputs": [
    {
     "name": "stdout",
     "output_type": "stream",
     "text": [
      "*** Introductory Examples for the NLTK Book ***\n",
      "Loading text1, ..., text9 and sent1, ..., sent9\n",
      "Type the name of the text or sentence to view it.\n",
      "Type: 'texts()' or 'sents()' to list the materials.\n",
      "text1: Moby Dick by Herman Melville 1851\n",
      "text2: Sense and Sensibility by Jane Austen 1811\n",
      "text3: The Book of Genesis\n",
      "text4: Inaugural Address Corpus\n",
      "text5: Chat Corpus\n",
      "text6: Monty Python and the Holy Grail\n",
      "text7: Wall Street Journal\n",
      "text8: Personals Corpus\n",
      "text9: The Man Who Was Thursday by G . K . Chesterton 1908\n"
     ]
    }
   ],
   "source": [
    "from nltk.book import *           "
   ]
  },
  {
   "cell_type": "code",
   "execution_count": 17,
   "metadata": {
    "id": "_sy6hAc4z5nJ"
   },
   "outputs": [],
   "source": [
    "from nltk.corpus import webtext\n",
    "test2 = webtext.raw('grail.txt')"
   ]
  },
  {
   "cell_type": "code",
   "execution_count": 18,
   "metadata": {
    "colab": {
     "base_uri": "https://localhost:8080/"
    },
    "id": "obib4K7iSqXE",
    "outputId": "c4699d1d-183d-43b3-a742-b527933ee832"
   },
   "outputs": [
    {
     "data": {
      "text/plain": [
       "['SCENE 1: [wind] [clop clop clop] ',\n",
       " 'KING ARTHUR: Whoa there!  [clop clop clop] ',\n",
       " 'SOLDIER #1: Halt!  Who goes there?',\n",
       " 'ARTHUR: It is I, Arthur, son of Uther Pendragon, from the castle of Camelot.  King of the Britons, defeator of the Saxons, sovereign of all England!',\n",
       " 'SOLDIER #1: Pull the other one!',\n",
       " 'ARTHUR: I am, ...  and this is my trusty servant Patsy.  We have ridden the length and breadth of the land in search of knights who will join me in my court at Camelot.  I must speak with your lord and master.',\n",
       " 'SOLDIER #1: What?  Ridden on a horse?',\n",
       " 'ARTHUR: Yes!',\n",
       " \"SOLDIER #1: You're using coconuts!\",\n",
       " 'ARTHUR: What?',\n",
       " \"SOLDIER #1: You've got two empty halves of coconut and you're bangin' 'em together.\",\n",
       " 'ARTHUR: So?  We have ridden since the snows of winter covered this land, through the kingdom of Mercea, through--',\n",
       " \"SOLDIER #1: Where'd you get the coconuts?\",\n",
       " 'ARTHUR: We found them.',\n",
       " \"SOLDIER #1: Found them?  In Mercea?  The coconut's tropical!\",\n",
       " 'ARTHUR: What do you mean?',\n",
       " 'SOLDIER #1: Well, this is a temperate zone.',\n",
       " 'ARTHUR: The swallow may fly south with the sun or the house martin or the plover may seek warmer climes in winter, yet these are not strangers to our land?',\n",
       " 'SOLDIER #1: Are you suggesting coconuts migrate?',\n",
       " 'ARTHUR: Not at all.  They could be carried.',\n",
       " 'SOLDIER #1: What?  A swallow carrying a coconut?',\n",
       " 'ARTHUR: It could grip it by the husk!',\n",
       " \"SOLDIER #1: It's not a question of where he grips it!  It's a simple question of weight ratios!  A five ounce bird could not carry a one pound coconut.\",\n",
       " \"ARTHUR: Well, it doesn't matter.  Will you go and tell your master that Arthur from the Court of Camelot is here.\",\n",
       " 'SOLDIER #1: Listen.  In order to maintain air-speed velocity, a swallow needs to beat its wings forty-three times every second, right?',\n",
       " 'ARTHUR: Please!',\n",
       " 'SOLDIER #1: Am I right?',\n",
       " \"ARTHUR: I'm not interested!\",\n",
       " 'SOLDIER #2: It could be carried by an African swallow!',\n",
       " \"SOLDIER #1: Oh, yeah, an African swallow maybe, but not a European swallow.  That's my point.\",\n",
       " 'SOLDIER #2: Oh, yeah, I agree with that.',\n",
       " 'ARTHUR: Will you ask your master if he wants to join my court at Camelot?!',\n",
       " 'SOLDIER #1: But then of course a-- African swallows are non-migratory.',\n",
       " 'SOLDIER #2: Oh, yeah...',\n",
       " \"SOLDIER #1: So they couldn't bring a coconut back anyway...  [clop clop clop] \",\n",
       " 'SOLDIER #2: Wait a minute!  Supposing two swallows carried it together?',\n",
       " \"SOLDIER #1: No, they'd have to have it on a line.\",\n",
       " \"SOLDIER #2: Well, simple!  They'd just use a strand of creeper!\",\n",
       " 'SOLDIER #1: What, held under the dorsal guiding feathers?',\n",
       " 'SOLDIER #2: Well, why not?',\n",
       " 'SCENE 2: [thud] [clang] ',\n",
       " 'CART-MASTER: Bring out your dead!  [clang] Bring out your dead!  [clang] Bring out your dead!  [clang] Bring out your dead!  [clang] Bring out your dead!  [cough cough...] [clang] [... cough cough] Bring out your dead!  [clang] Bring out your dead!  [clang] Bring out your dead!  Ninepence.  [clang] Bring out your dead!  [clang] Bring out your dead!  [clang] Bring out...  [rewr!] ... your dead!  [rewr!] [clang] Bring out your dead!',\n",
       " \"CUSTOMER: Here's one.\",\n",
       " 'CART-MASTER: Ninepence.',\n",
       " \"DEAD PERSON: I'm not dead!\",\n",
       " 'CART-MASTER: What?',\n",
       " \"CUSTOMER: Nothing.  Here's your ninepence.\",\n",
       " \"DEAD PERSON: I'm not dead!\",\n",
       " \"CART-MASTER: 'Ere.  He says he's not dead!\",\n",
       " 'CUSTOMER: Yes he is.',\n",
       " \"DEAD PERSON: I'm not!\",\n",
       " \"CART-MASTER: He isn't?\",\n",
       " \"CUSTOMER: Well, he will be soon.  He's very ill.\",\n",
       " \"DEAD PERSON: I'm getting better!  \",\n",
       " \"CUSTOMER: No you're not.  You'll be stone dead in a moment.\",\n",
       " \"CART-MASTER: Oh, I can't take him like that.  It's against regulations.\",\n",
       " \"DEAD PERSON: I don't want to go on the cart!\",\n",
       " \"CUSTOMER: Oh, don't be such a baby.\",\n",
       " \"CART-MASTER: I can't take him.\",\n",
       " 'DEAD PERSON: I feel fine!',\n",
       " 'CUSTOMER: Well, do us a favor.',\n",
       " \"CART-MASTER: I can't.\",\n",
       " \"CUSTOMER: Well, can you hang around a couple of minutes?  He won't be long.\",\n",
       " \"CART-MASTER: No, I've got to go to the Robinson's.  They've lost nine today.\",\n",
       " \"CUSTOMER: Well, when's your next round?\",\n",
       " 'CART-MASTER: Thursday.',\n",
       " \"DEAD PERSON: I think I'll go for a walk.\",\n",
       " \"CUSTOMER: You're not fooling anyone you know.  Look, isn't there something you can do?\",\n",
       " 'DEAD PERSON: [singing] I feel happy...  I feel happy.  [whop] ',\n",
       " 'CUSTOMER: Ah, thanks very much.',\n",
       " 'CART-MASTER: Not at all.  See you on Thursday.',\n",
       " \"CUSTOMER: Right.  All right.  [howl] [clop clop clop] Who's that then?\",\n",
       " 'CART-MASTER: I dunno.  Must be a king.',\n",
       " 'CUSTOMER: Why?',\n",
       " \"CART-MASTER: He hasn't got shit all over him.\",\n",
       " 'SCENE 3: [thud] [King Arthur music] [thud thud thud] [King Arthur music stops] ',\n",
       " 'ARTHUR: Old woman!',\n",
       " 'DENNIS: Man!',\n",
       " 'ARTHUR: Man.  Sorry.  What knight live in that castle over there?',\n",
       " \"DENNIS: I'm thirty-seven.\",\n",
       " 'ARTHUR: I-- what?',\n",
       " \"DENNIS: I'm thirty-seven.  I'm not old.\",\n",
       " \"ARTHUR: Well, I can't just call you 'Man'.\",\n",
       " \"DENNIS: Well, you could say 'Dennis'.\",\n",
       " \"ARTHUR: Well, I didn't know you were called 'Dennis'.\",\n",
       " \"DENNIS: Well, you didn't bother to find out, did you?\",\n",
       " \"ARTHUR: I did say 'sorry' about the 'old woman', but from the behind you looked--\",\n",
       " 'DENNIS: What I object to is that you automatically treat me like an inferior!',\n",
       " 'ARTHUR: Well, I am king!',\n",
       " \"DENNIS: Oh king, eh, very nice.  And how d'you get that, eh?  By exploiting the workers!  By 'anging on to outdated imperialist dogma which perpetuates the economic and social differences in our society.  If there's ever going to be any progress with the--\",\n",
       " \"WOMAN: Dennis, there's some lovely filth down here.  Oh!  How d'you do?\",\n",
       " \"ARTHUR: How do you do, good lady.  I am Arthur, King of the Britons.  Who's castle is that?\",\n",
       " 'WOMAN: King of the who?',\n",
       " 'ARTHUR: The Britons.',\n",
       " 'WOMAN: Who are the Britons?',\n",
       " 'ARTHUR: Well, we all are.  We are all Britons, and I am your king.',\n",
       " \"WOMAN: I didn't know we had a king.  I thought we were an autonomous collective.\",\n",
       " \"DENNIS: You're fooling yourself.  We're living in a dictatorship.  A self-perpetuating autocracy in which the working classes--\",\n",
       " 'WOMAN: Oh, there you go, bringing class into it again.',\n",
       " \"DENNIS: That's what it's all about.  If only people would hear of--\",\n",
       " 'ARTHUR: Please, please good people.  I am in haste.  Who lives in that castle?',\n",
       " 'WOMAN: No one live there.',\n",
       " 'ARTHUR: Then who is your lord?',\n",
       " \"WOMAN: We don't have a lord.\",\n",
       " 'ARTHUR: What?',\n",
       " \"DENNIS: I told you.  We're an anarcho-syndicalist commune.  We take it in turns to act as a sort of executive officer for the week.\",\n",
       " 'ARTHUR: Yes.',\n",
       " 'DENNIS: But all the decision of that officer have to be ratified at a special bi-weekly meeting--',\n",
       " 'ARTHUR: Yes, I see.',\n",
       " 'DENNIS: By a simple majority in the case of purely internal affairs,--',\n",
       " 'ARTHUR: Be quiet!',\n",
       " 'DENNIS: But by a two-thirds majority in the case of more major--',\n",
       " 'ARTHUR: Be quiet!  I order you to be quiet!',\n",
       " 'WOMAN: Order, eh?  Who does he think he is?  Heh.',\n",
       " 'ARTHUR: I am your king!',\n",
       " \"WOMAN: Well, I didn't vote for you.\",\n",
       " \"ARTHUR: You don't vote for kings.\",\n",
       " 'WOMAN: Well, how did you become king then?',\n",
       " 'ARTHUR: The Lady of the Lake, ... [angels sing] ... her arm clad in the purest shimmering samite, held aloft Excalibur from the bosom of the water signifying by Divine Providence that I, Arthur, was to carry Excalibur. [singing stops] That is why I am your king!',\n",
       " 'DENNIS: Listen, strange women lying in ponds distributing swords is no basis for a system of government.  Supreme executive power derives from a mandate from the masses, not from some farcical aquatic ceremony.',\n",
       " 'ARTHUR: Be quiet!',\n",
       " \"DENNIS: Well, but you can't expect to wield supreme executive power just 'cause some watery tart threw a sword at you!\",\n",
       " 'ARTHUR: Shut up!',\n",
       " \"DENNIS: I mean, if I went 'round saying I was an emperor just because some moistened bint had lobbed a scimitar at me, they'd put me away!\",\n",
       " 'ARTHUR: Shut up, will you.  Shut up!',\n",
       " 'DENNIS: Ah, now we see the violence inherent in the system.',\n",
       " 'ARTHUR: Shut up!',\n",
       " \"DENNIS: Oh!  Come and see the violence inherent in the system!  Help, help!  I'm being repressed!\",\n",
       " 'ARTHUR: Bloody peasant!',\n",
       " \"DENNIS: Oh, what a give-away.  Did you hear that?  Did you hear that, eh?  That's what I'm on about.  Did you see him repressing me?  You saw it, didn't you\",\n",
       " 'SCENE 4: [King Arthur music] [music stops] ',\n",
       " 'BLACK KNIGHT: Aaagh!  [King Arthur music] [music stops] ',\n",
       " 'BLACK KNIGHT: Aaagh!',\n",
       " 'GREEN KNIGHT: Ooh! [King Arthur music] [music stops] [stab] ',\n",
       " 'BLACK KNIGHT: Aagh!',\n",
       " 'GREEN KNIGHT: Oh! [King Arthur music] Ooh! [music stops] ',\n",
       " 'BLACK KNIGHT: Aaagh! [clang] ',\n",
       " 'BLACK KNIGHT and GREEN KNIGHT: Agh!, oh!, etc.',\n",
       " 'GREEN KNIGHT: Aaaaaah!  Aaaaaaaaah! [woosh] [BLACK KNIGHT kills GREEN KNIGHT] [thud] [scrape] ',\n",
       " 'BLACK KNIGHT: Umm! [clop clop clop] ',\n",
       " 'ARTHUR: You fight with the strength of many men, Sir Knight. [pause] I am Arthur, King of the Britons. [pause] I seek the finest and the bravest knights in the land to join me in my court at Camelot. [pause] You have proved yourself worthy.  Will you join me? [pause] You make me sad.  So be it.  Come, Patsy.',\n",
       " 'BLACK KNIGHT: None shall pass.',\n",
       " 'ARTHUR: What?',\n",
       " 'BLACK KNIGHT: None shall pass.',\n",
       " 'ARTHUR: I have no quarrel with you, good Sir Knight, but I must cross this bridge.',\n",
       " 'BLACK KNIGHT: Then you shall die.',\n",
       " 'ARTHUR: I command you, as King of the Britons, to stand aside!',\n",
       " 'BLACK KNIGHT: I move for no man.',\n",
       " 'ARTHUR: So be it!',\n",
       " \"ARTHUR and BLACK KNIGHT: Aaah!, hiyaah!, etc. [ARTHUR chops the BLACK KNIGHT's left arm off] \",\n",
       " 'ARTHUR: Now stand aside, worthy adversary.',\n",
       " \"BLACK KNIGHT: 'Tis but a scratch.\",\n",
       " \"ARTHUR: A scratch?  Your arm's off!\",\n",
       " \"BLACK KNIGHT: No, it isn't.\",\n",
       " \"ARTHUR: Well, what's that then?\",\n",
       " \"BLACK KNIGHT: I've had worse.\",\n",
       " 'ARTHUR: You liar!',\n",
       " \"BLACK KNIGHT: Come on, you pansy! [clang] Huyah! [clang] Hiyaah! [clang] Aaaaaaaah! [ARTHUR chops the BLACK KNIGHT's right arm off] \",\n",
       " 'ARTHUR: Victory is mine! [kneeling] We thank Thee Lord, that in Thy mer--',\n",
       " 'BLACK KNIGHT: Hah! [clunk] Come on then.',\n",
       " 'ARTHUR: What?',\n",
       " 'BLACK KNIGHT: Have at you! [kick] ',\n",
       " 'ARTHUR: Eh.  You are indeed brave, Sir Knight, but the fight is mine.',\n",
       " 'BLACK KNIGHT: Oh, had enough, eh?',\n",
       " \"ARTHUR: Look, you stupid bastard.  You've got no arms left.\",\n",
       " 'BLACK KNIGHT: Yes I have.',\n",
       " 'ARTHUR: Look!',\n",
       " 'BLACK KNIGHT: Just a flesh wound. [kick] ',\n",
       " 'ARTHUR: Look, stop that.',\n",
       " 'BLACK KNIGHT: Chicken! [kick] Chickennn!',\n",
       " \"ARTHUR: Look, I'll have your leg. [kick] Right! [whop] [ARTHUR chops the BLACK KNIGHT's right leg off] \",\n",
       " \"BLACK KNIGHT: Right.  I'll do you for that!\",\n",
       " \"ARTHUR: You'll what?\",\n",
       " 'BLACK KNIGHT: Come here!',\n",
       " 'ARTHUR: What are you going to do, bleed on me?',\n",
       " \"BLACK KNIGHT: I'm invincible!\",\n",
       " \"ARTHUR: You're a looney.\",\n",
       " \"BLACK KNIGHT: The Black Knight always triumphs!  Have at you!  Come on then. [whop] [ARTHUR chops the BLACK KNIGHT's last leg off] \",\n",
       " \"BLACK KNIGHT: Ooh.  All right, we'll call it a draw.\",\n",
       " 'ARTHUR: Come, Patsy.',\n",
       " \"BLACK KNIGHT: Oh.  Oh, I see.  Running away, eh?  You yellow bastards!  Come back here and take what's coming to you.  I'll bite your legs off\",\n",
       " 'SCENE 5:',\n",
       " 'MONKS: [chanting] Pie Iesu domine, dona eis requiem. [bonk] Pie Iesu domine, ... [bonk] ... dona eis requiem. [bonk] Pie Iesu domine, ... [bonk] ... dona eis requiem.',\n",
       " 'CROWD: A witch!  A witch! [bonk] A witch!  A witch!',\n",
       " 'MONKS: [chanting] Pie Iesu domine...',\n",
       " \"CROWD: A witch!  A witch!  A witch!  A witch!  We've found a witch!  A witch!  A witch!  A witch!  A witch!  We've got a witch!  A witch!  A witch!  Burn her!  Burn her!  Burn her!  We've found a witch!  We've found a witch!  A witch!  A witch!  A witch!\",\n",
       " 'VILLAGER #1: We have found a witch.  May we burn her?',\n",
       " 'CROWD: Burn her!  Burn!  Burn her!  Burn her!',\n",
       " 'BEDEVERE: How do you know she is a witch?',\n",
       " 'VILLAGER #2: She looks like one.',\n",
       " 'CROWD: Right!  Yeah!  Yeah!',\n",
       " 'BEDEVERE: Bring her forward.',\n",
       " \"WITCH: I'm not a witch.  I'm not a witch.\",\n",
       " 'BEDEVERE: Uh, but you are dressed as one.',\n",
       " 'WITCH: They dressed me up like this.',\n",
       " \"CROWD: Augh, we didn't!  We didn't...\",\n",
       " \"WITCH: And this isn't my nose.  It's a false one.\",\n",
       " 'BEDEVERE: Well?',\n",
       " 'VILLAGER #1: Well, we did do the nose.',\n",
       " 'BEDEVERE: The nose?',\n",
       " 'VILLAGER #1: And the hat, but she is a witch!',\n",
       " 'VILLAGER #2: Yeah!',\n",
       " 'CROWD: We burn her!  Right!  Yeaaah!  Yeaah!',\n",
       " 'BEDEVERE: Did you dress her up like this?',\n",
       " 'VILLAGER #1: No!',\n",
       " 'VILLAGER #2 and 3: No.  No.',\n",
       " 'VILLAGER #2: No.',\n",
       " 'VILLAGER #1: No.',\n",
       " 'VILLAGERS #2 and #3: No.',\n",
       " 'VILLAGER #1: Yes.',\n",
       " 'VILLAGER #2: Yes.',\n",
       " 'VILLAGER #1: Yes.  Yeah, a bit.',\n",
       " 'VILLAGER #3: A bit.',\n",
       " 'VILLAGERS #1 and #2: A bit.',\n",
       " 'VILLAGER #3: A bit.',\n",
       " 'VILLAGER #1: She has got a wart.',\n",
       " 'RANDOM: [cough] ',\n",
       " 'BEDEVERE: What makes you think she is a witch?',\n",
       " 'VILLAGER #3: Well, she turned me into a newt.',\n",
       " 'BEDEVERE: A newt?',\n",
       " 'VILLAGER #3: I got better.',\n",
       " 'VILLAGER #2: Burn her anyway!',\n",
       " 'VILLAGER #1: Burn!',\n",
       " 'CROWD: Burn her!  Burn!  Burn her! ...',\n",
       " 'BEDEVERE: Quiet!  Quiet!  Quiet!  Quiet!  There are ways of telling whether she is a witch.',\n",
       " 'VILLAGER #1: Are there?',\n",
       " 'VILLAGER #2: Ah?',\n",
       " 'VILLAGER #1: What are they?',\n",
       " 'CROWD: Tell us!  Tell us! ...',\n",
       " 'BEDEVERE: Tell me, what do you do with witches?',\n",
       " 'VILLAGER #2: Burn!',\n",
       " 'VILLAGER #1: Burn!',\n",
       " 'CROWD: Burn!  Burn them up!  Burn! ...',\n",
       " 'BEDEVERE: And what do you burn apart from witches?',\n",
       " 'VILLAGER #1: More witches!',\n",
       " 'VILLAGER #3: Shh!',\n",
       " 'VILLAGER #2: Wood!',\n",
       " 'BEDEVERE: So, why do witches burn? [pause] ',\n",
       " \"VILLAGER #3: B--...  'cause they're made of...  wood?\",\n",
       " 'BEDEVERE: Good!  Heh heh.',\n",
       " 'CROWD: Oh yeah.  Oh.',\n",
       " 'BEDEVERE: So, how do we tell whether she is made of wood?',\n",
       " 'VILLAGER #1: Build a bridge out of her.',\n",
       " 'BEDEVERE: Ah, but can you not also make bridges out of stone?',\n",
       " 'VILLAGER #1: Oh, yeah.',\n",
       " 'RANDOM: Oh, yeah.  True.  Uhh...',\n",
       " 'BEDEVERE: Does wood sink in water?',\n",
       " 'VILLAGER #1: No.  No.',\n",
       " 'VILLAGER #2: No, it floats!  It floats!',\n",
       " 'VILLAGER #1: Throw her into the pond!',\n",
       " 'CROWD: The pond!  Throw her into the pond!',\n",
       " 'BEDEVERE: What also floats in water?',\n",
       " 'VILLAGER #1: Bread!',\n",
       " 'VILLAGER #2: Apples!',\n",
       " 'VILLAGER #3: Uh, very small rocks!',\n",
       " 'VILLAGER #1: Cider!',\n",
       " 'VILLAGER #2: Uh, gra-- gravy!',\n",
       " 'VILLAGER #1: Cherries!',\n",
       " 'VILLAGER #2: Mud!',\n",
       " 'VILLAGER #3: Churches!  Churches!',\n",
       " 'VILLAGER #2: Lead!  Lead!',\n",
       " 'ARTHUR: A duck!',\n",
       " 'CROWD: Oooh.',\n",
       " 'BEDEVERE: Exactly.  So, logically...',\n",
       " \"VILLAGER #1: If...  she...  weighs...  the same as a duck, ...  she's made of wood.\",\n",
       " 'BEDEVERE: And therefore?',\n",
       " 'VILLAGER #2: A witch!',\n",
       " 'VILLAGER #1: A witch!',\n",
       " 'CROWD: A witch!  A witch! ...',\n",
       " 'VILLAGER #4: Here is a duck.  Use this duck. [quack quack quack] ',\n",
       " 'BEDEVERE: We shall use my largest scales.',\n",
       " 'CROWD: Ohh!  Ohh!  Burn the witch!  Burn the witch!  Burn her!  Burn her!  Burn her!  Burn her!  Burn her!  Burn her!  Burn her!  Ahh!  Ahh...',\n",
       " 'BEDEVERE: Right.  Remove the supports! [whop] [clunk] [creak] ',\n",
       " 'CROWD: A witch!  A witch!  A witch!',\n",
       " \"WITCH: It's a fair cop.\",\n",
       " 'VILLAGER #3: Burn her!',\n",
       " 'CROWD: Burn her!  Burn her!  Burn her!  Burn!  Burn! ...',\n",
       " 'BEDEVERE: Who are you who are so wise in the ways of science?',\n",
       " 'ARTHUR: I am Arthur, King of the Britons.',\n",
       " 'BEDEVERE: My liege!',\n",
       " 'ARTHUR: Good Sir Knight, will you come with me to Camelot, and join us at the Round Table?',\n",
       " 'BEDEVERE: My liege!  I would be honored.',\n",
       " 'ARTHUR: What is your name?',\n",
       " 'BEDEVERE: Bedevere, my liege.',\n",
       " 'ARTHUR: Then I dub you Sir Bedevere, Knight of the Round Table',\n",
       " \"NARRATOR: The wise Sir Bedevere was the first to join King Arthur's knights, but other illustrious names were soon to follow: Sir Lancelot the Brave; Sir Gallahad the Pure; and Sir Robin the-not-quite-so-brave-as-Sir-Lancelot, who had nearly fought the Dragon of Angnor, who had nearly stood up to the vicious Chicken of Bristol, and who had personally wet himself at the Battle of Badon Hill; and the aptly named Sir Not-appearing-in-this-film.  Together they formed a band whose names and deeds were to be retold throughout the centuries: the Knights of the Round Table\",\n",
       " 'SCENE 6: [clop clop clop] ',\n",
       " 'SIR BEDEVERE: And that, my liege, is how we know the earth to be banana-shaped.',\n",
       " \"ARTHUR: This new learning amazes me, Sir Bedevere.  Explain again how sheep's bladders may be employed to prevent earthquakes.\",\n",
       " 'BEDEVERE: Oh, certainly, sir.',\n",
       " 'SIR LAUNCELOT: Look, my liege! [trumpets] ',\n",
       " 'ARTHUR: Camelot!',\n",
       " 'SIR GALAHAD: Camelot!',\n",
       " 'LAUNCELOT: Camelot!',\n",
       " \"PATSY: It's only a model.\",\n",
       " 'ARTHUR: Shh!  Knights, I bid you welcome to your new home.  Let us ride... to...  Camelot! [in medieval hall] ',\n",
       " \"KNIGHTS: [singing] We're knights of the round table.  We dance when e'er we're able.  We do routines and chorus scenes With footwork impeccable.  We dine well here in Camelot.  We eat ham and jam and spam a lot [dancing] We're knights of the Round Table. Our shows are formidable, But many times we're given rhymes That are quite unsingable. We're opera mad in Camelot. We sing from the diaphragm a lot [in dungeon] \",\n",
       " 'PRISONER: [clap clap clap clap] [in medieval hall] ',\n",
       " \"KNIGHTS: [tap-dancing] In war we're tough and able, Quite indefatigable.  Between our quests we sequin vests and impersonate Clark Gable.  It's a busy life in Camelot.\",\n",
       " 'MAN: I have to push the pram a lot [outdoors] ',\n",
       " \"ARTHUR: Well, on second thought, let's not go to Camelot.  It is a silly place.\",\n",
       " 'KNIGHTS: Right.  Right',\n",
       " 'SCENE 7: [clop clop clop] [boom boom] [angels sing] ',\n",
       " \"GOD: Arthur!  Arthur, King of the Britons!  Oh, don't grovel! [singing stops] One thing I can't stand, it's people groveling.\",\n",
       " 'ARTHUR: Sorry. [boom] ',\n",
       " \"GOD: And don't apologise.  Every time I try to talk to someone it's 'sorry this' and 'forgive me that' and 'I'm not worthy'. [boom] What are you doing now?!\",\n",
       " \"ARTHUR: I'm averting my eyes, O Lord.\",\n",
       " \"GOD: Well, don't.  It's like those miserable Psalms-- they're so depressing. Now knock it off!\",\n",
       " 'ARTHUR: Yes, Lord.',\n",
       " 'GOD: Right!  Arthur, King of the Britons, your Knights of the Round Table shall have a task to make them an example in these dark times.',\n",
       " 'ARTHUR: Good idea, O Lord!',\n",
       " \"GOD: 'Course it's a good idea!  Behold! [angels sing] Arthur, this is the Holy Grail.  Look well, Arthur, for it is your sacred task to seek this grail.  That is your purpose, Arthur...  the quest for the Holy Grail. [boom] [singing stops] \",\n",
       " 'LAUNCELOT: A blessing!  A blessing from the Lord!',\n",
       " 'GALAHAD: God be praised',\n",
       " 'SCENE 8: [King Arthur music] [clop clop clop] ',\n",
       " 'ARTHUR: Halt! [horn] Hallo! [pause] Hallo!',\n",
       " 'FRENCH GUARD: Allo!  Who is eet?',\n",
       " \"ARTHUR: It is King Arthur, and these are my Knights of the Round Table.  Who's castle is this?\",\n",
       " 'FRENCH GUARD: This is the castle of my master Guy de Loimbard.',\n",
       " 'ARTHUR: Go and tell your master that we have been charged by God with a sacred quest.  If he will give us food and shelter for the night he can join us in our quest for the Holy Grail.',\n",
       " \"FRENCH GUARD: Well, I'll ask him, but I don't think he'll be very keen.  Uh, he's already got one, you see?\",\n",
       " 'ARTHUR: What?',\n",
       " \"GALAHAD: He says they've already got one!\",\n",
       " \"ARTHUR: Are you sure he's got one?\",\n",
       " \"FRENCH GUARD: Oh, yes, it's very nice-a.  (I told him we already got one.)\",\n",
       " 'ARTHUR: Well, u-- um, can we come up and have a look?',\n",
       " 'FRENCH GUARD: Of course not!  You are English types-a!',\n",
       " 'ARTHUR: Well, what are you then?',\n",
       " \"FRENCH GUARD: I'm French!  Why do think I have this outrageous accent, you silly king-a?!\",\n",
       " 'GALAHAD: What are you doing in England?',\n",
       " 'FRENCH GUARD: Mind your own business!',\n",
       " 'ARTHUR: If you will not show us the Grail, we shall take your castle by force!',\n",
       " \"FRENCH GUARD: You don't frighten us, English pig-dogs!  Go and boil your bottom, sons of a silly person.  I blow my nose at you, so-called Arthur King, you and all your silly English k-nnnnniggets.  Thpppppt!  Thppt! Thppt!\",\n",
       " 'GALAHAD: What a strange person.',\n",
       " 'ARTHUR: Now look here, my good man--',\n",
       " \"FRENCH GUARD: I don't wanna talk to you no more, you empty headed animal food trough wiper!  I fart in your general direction!  You mother was a hamster and your father smelt of elderberries!\",\n",
       " 'GALAHAD: Is there someone else up there we could talk to?',\n",
       " 'FRENCH GUARD: No, now go away or I shall taunt you a second time-a! [sniff] ',\n",
       " \"ARTHUR: Now, this is your last chance.  I've been more than reasonable.\",\n",
       " 'FRENCH GUARD: (Fetchez la vache.)',\n",
       " 'OTHER FRENCH GUARD: Quoi?',\n",
       " 'FRENCH GUARD: (Fetchez la vache!) [mooo] ',\n",
       " 'ARTHUR: If you do not agree to my commands, then I shall-- [twong] [mooooooo] Jesus Christ!',\n",
       " 'KNIGHTS: Christ! [thud] Ah!  Ohh!',\n",
       " 'ARTHUR: Right!  Charge!',\n",
       " 'KNIGHTS: Charge! [mayhem] ',\n",
       " 'FRENCH GUARD: Hey, this one is for your mother!  There you go. [mayhem] ',\n",
       " \"FRENCH GUARD: And this one's for your dad!\",\n",
       " 'ARTHUR: Run away!',\n",
       " 'KNIGHTS: Run away!',\n",
       " 'FRENCH GUARD: Thppppt!',\n",
       " 'FRENCH GUARDS: [taunting] ',\n",
       " \"LAUNCELOT: Fiends!  I'll tear them apart!\",\n",
       " 'ARTHUR: No, no.  No, no.',\n",
       " 'BEDEVERE: Sir!  I have a plan, sir. [later] [wind] [saw saw saw saw saw saw saw saw saw saw saw saw saw saw saw saw] [clunk] [bang] [rewr!] [squeak squeak squeak squeak squeak squeak squeak squeak squeak squeak] [rrrr rrrr rrrr] [drilllll] [sawwwww] [clunk] [crash] [clang] [squeak squeak squeak squeak squeak...] [creak] ',\n",
       " \"FRENCH GUARDS: [whispering] C'est un lapin, lapin de bois.  Quoi?  Un cadeau.  What?  A present.  Oh, un cadeau.  Oui, oui.  Hurry.  What?  Let's go.  Oh. On y va.  Bon magne.  Over here... [squeak squeak squeak squeak squeak...] [clllank] \",\n",
       " 'ARTHUR: What happens now?',\n",
       " 'BEDEVERE: Well, now, uh, Launcelot, Galahad, and I, uh, wait until nightfall, and then leap out of the rabbit, taking the French, uh, by surprise.  Not only by surprise, but totally unarmed!',\n",
       " 'ARTHUR: Who leaps out?',\n",
       " 'BEDEVERE: U-- u-- uh, Launcelot, Galahad, and I.  Uh, leap out of the rabbit, uh, and uh...',\n",
       " 'ARTHUR: Ohh.',\n",
       " 'BEDEVERE: Oh.  Um, l-- look, i-- i-- if we built this large wooden badger-- [clank] [twong] ',\n",
       " 'ARTHUR: Run away!',\n",
       " 'KNIGHTS: Run away!  Run away!  Run away!  Run away!  Run away!  Run away!  Run away! [CRASH] ',\n",
       " 'FRENCH GUARDS: Oh, haw haw haw haw!  Haw!  Haw haw heh..',\n",
       " 'SCENE 9: [clack] ',\n",
       " 'VOICE: Picture for Schools, take eight.',\n",
       " 'DIRECTOR: Action!',\n",
       " 'HISTORIAN: Defeat at the castle seems to have utterly disheartened King Arthur.  The ferocity of the French taunting took him completely by surprise, and Arthur became convinced that a new strategy was required if the quest for the Holy Grail were to be brought to a successful conclusion.  Arthur, having consulted his closest knights, decided that they should separate, and search for the Grail individually. [clop clop clop] Now, this is what they did: Launcelot--',\n",
       " 'KNIGHT: Aaaah! [slash] [KNIGHT kills HISTORIAN] ',\n",
       " \"HISTORIAN'S WIFE: Frank\",\n",
       " 'SCENE 10: [trumpets] ',\n",
       " 'NARRATOR: The Tale of Sir Robin.  So each of the knights went their separate ways.  Sir Robin rode north, through the dark forest of Ewing, accompanied by his favorite minstrels.',\n",
       " 'MINSTREL: [singing] Bravely bold Sir Robin, rode forth from Camelot.  He was not afraid to die, O brave Sir Robin.  He was not at all afraid to be killed in nasty ways.  Brave, brave, brave, brave Sir Robin!  He was not in the least bit scared to be mashed into a pulp, Or to have his eyes gouged out, and his elbows broken.  To have his kneecaps split, and his body burned away, And his limbs all hacked and mangled, brave Sir Robin!',\n",
       " 'His head smashed in and his heart cut out, And his liver removed and his bowels unplugged, And his nostrils raped and his bottom burned off, And his pen--',\n",
       " \"SIR ROBIN: That's-- that's, uh-- that's enough music for now, lads.  Heh.  Looks like there's dirty work afoot.\",\n",
       " 'DENNIS: Anarcho-syndicalism is a way of preserving freedom.',\n",
       " \"WOMAN: Oh, Dennis, forget about freedom.  We haven't got enough mud.\",\n",
       " 'ALL HEADS: Halt!  Who art thou?',\n",
       " 'MINSTREL: [singing] He is brave Sir Robin, brave Sir Robin, who--',\n",
       " \"ROBIN: Shut up!  Um, n-- n-- n-- nobody really, I'm j-- j-- j-- ju-- just um, just passing through.\",\n",
       " 'ALL HEADS: What do you want?',\n",
       " 'MINSTREL: [singing] To fight and--',\n",
       " 'ROBIN: Shut up!  Um, oo, a-- nothing, nothing really.  I, uh, j-- j-- just--just to um, just to p-- pass through, good Sir Knight.',\n",
       " \"ALL HEADS: I'm afraid not!\",\n",
       " 'ROBIN: Ah.  W-- well, actually I-- I am a Knight of the Round Table.',\n",
       " \"ALL HEADS: You're a Knight of the Round Table?\",\n",
       " 'ROBIN: I am.',\n",
       " 'LEFT HEAD: In that case I shall have to kill you.',\n",
       " 'MIDDLE HEAD: Shall I?',\n",
       " \"RIGHT HEAD: Oh, I don't think so.\",\n",
       " 'MIDDLE HEAD: Well, what do I think?',\n",
       " 'LEFT HEAD: I think kill him.',\n",
       " \"RIGHT HEAD: Oh, let's be nice to him.\",\n",
       " 'LEFT HEAD: Oh shut up.',\n",
       " 'ROBIN: Perhaps I could--',\n",
       " 'LEFT HEAD: And you.  Oh, quick!  Get the sword out.  I want to cut his headoff!',\n",
       " 'RIGHT HEAD: Oh, cut your own head off!',\n",
       " 'MIDDLE HEAD: Yes, do us all a favor!',\n",
       " 'LEFT HEAD: What?',\n",
       " 'RIGHT HEAD: Yapping on all the time.',\n",
       " \"MIDDLE HEAD: You're lucky.  You're not next to him.\",\n",
       " 'LEFT HEAD: What do you mean?',\n",
       " 'MIDDLE HEAD: You snore!',\n",
       " \"LEFT HEAD: Oh, I don't.  Anyway, you've got bad breath.\",\n",
       " \"MIDDLE HEAD: Well it's only because you don't brush my teeth.\",\n",
       " \"RIGHT HEAD: Oh stop bitching and let's go have tea.\",\n",
       " \"LEFT HEAD: Oh, all right.  All right.  All right.  We'll kill him first and then have tea and biscuits.\",\n",
       " 'MIDDLE HEAD: Yes.',\n",
       " 'RIGHT HEAD: Oh, not biscuits.',\n",
       " \"LEFT HEAD: All right.  All right, not biscuits, but let's kill him anyway.\",\n",
       " 'ALL HEADS: Right!',\n",
       " 'MIDDLE HEAD: He buggered off.',\n",
       " \"RIGHT HEAD: So he has.  He's scarper\",\n",
       " 'MINSTREL: [singing] Brave Sir Robin ran away.',\n",
       " 'ROBIN: No!',\n",
       " 'MINSTREL: [singing] Bravely ran away away.',\n",
       " \"ROBIN: I didn't!\",\n",
       " 'MINSTREL: [singing] When danger reared its ugly head, he bravely turned his tail and fled.',\n",
       " 'ROBIN: No!',\n",
       " 'MINSTREL: [singing] Yes, brave Sir Robin turned about',\n",
       " \"ROBIN: I didn't!\",\n",
       " 'MINSTREL: [singing] And gallantly he chickened out, bravely taking to his feet.',\n",
       " 'ROBIN: I never did!',\n",
       " 'MINSTREL: [singing] He beat a very brave retreat.',\n",
       " 'ROBIN: All lies!',\n",
       " 'MINSTREL: [singing] Bravest of the brave, Sir Robin.',\n",
       " 'ROBIN: I never',\n",
       " 'CARTOON MONKS: [chanting] Pie Iesu domine, dona eis requiem.',\n",
       " 'CARTOON CHARACTER: Heh heh heeh ooh... [twang] ',\n",
       " 'CARTOON MONKS: [chanting] Pie Iesu domine, ...',\n",
       " 'CARTOON CHARACTERS: Wayy! [splash] Ho ho.  Woa, wayy! [twang] [splash] Heh heh heh heh ho!  Heh heh heh!',\n",
       " 'CARTOON MONKS: [chanting] ... dona eis requiem.',\n",
       " 'CARTOON CHARACTER: Wayy! [twang] Wayy! [twang] ',\n",
       " 'VOICE: [whispering] Forgive me for asking.',\n",
       " 'CARTOON CHARACTER: Oh!  Oooo',\n",
       " 'SCENE 11: [trumpets] ',\n",
       " 'NARRATOR: The Tale of Sir Galahad. [boom] [wind] [howl] [howl] [boom] [angels singing] [howl] [boom] [howl] [boom] [pound pound pound] ',\n",
       " 'GALAHAD: Open the door!  Open the door! [pound pound pound] In the name of King Arthur, open the door! [squeak] [thump] [squeak] [boom] ',\n",
       " 'GIRLS: Hello!',\n",
       " 'ZOOT: Welcome gentle Sir Knight.  Welcome to the Castle Anthrax.',\n",
       " 'GALAHAD: The Castle Anthrax?',\n",
       " \"ZOOT: Yes.  Oh, it's not a very good name is it?  Oh, but we are nice and we will attend to your every, every need!\",\n",
       " 'GALAHAD: You are the keepers of the Holy Grail?',\n",
       " 'ZOOT: The what?',\n",
       " 'GALAHAD: The Grail.  It is here.',\n",
       " 'ZOOT: Oh, but you are tired, and you must rest awhile.  Midget!  Crapper!',\n",
       " 'MIDGET and CRAPPER: Yes, O Zoot?',\n",
       " 'ZOOT: Prepare a bed for our guest.',\n",
       " 'MIDGET and CRAPPER: Oh thank you!  Thank you!  Thank you!  Thank you!  Thank you!  Thank you! ...',\n",
       " 'ZOOT: Away, away varletesses.  The beds here are warm and soft, and very, very big.',\n",
       " 'GALAHAD: Well, look, I-- I-- uh--',\n",
       " 'ZOOT: What is your name, handsome knight?',\n",
       " 'GALAHAD: Sir Galahad...  the Chaste.',\n",
       " 'ZOOT: Mine is Zoot.  Just Zoot.  Oh, but come.',\n",
       " \"GALAHAD: Look, please!  In God's name, show me the Grail!\",\n",
       " 'ZOOT: Oh, you have suffered much.  You are delirious.',\n",
       " 'GALAHAD: No, look.  I have seen it!  It is here, in this--',\n",
       " 'ZOOT: Sir Galahad!  You would not be so ungallant as to refuse our hospitality.',\n",
       " 'GALAHAD: Well, I-- I-- uh--',\n",
       " 'ZOOT: Oh, I am afraid our life must seem very dull and quiet compared to yours.  We are but eight score young blondes and brunettes, all between sixteen and nineteen-and-a-half, cut off in this castle with no one to protect us.  Oooh.  It is a lonely life: bathing, dressing, undressing, making exciting underwear.  We are just not used to handsome knights.  Nay.  Nay.  Come.  Come.  You may lie here.  Oh, but you are wounded!',\n",
       " \"GALAHAD: No, no-- it's-- it's nothing.\",\n",
       " 'ZOOT: Oh, you must see the doctors immediately!  No, no, please!  Lie down. [clap clap] ',\n",
       " 'PIGLET: Well, what seems to be the trouble?',\n",
       " \"GALAHAD: They're doctors?!\",\n",
       " 'ZOOT: Uh, they have a basic medical training, yes.',\n",
       " 'GALAHAD: B-- but--',\n",
       " 'ZOOT: Oh, come, come.  You must try to rest.  Doctor Piglet!  Doctor Winston!  Practice your art.',\n",
       " 'WINSTON: Try to relax.',\n",
       " \"GALAHAD: Are you sure that's absolutely necessary?\",\n",
       " 'PIGLET: We must examine you.',\n",
       " \"GALAHAD: There's nothing wrong with that!\",\n",
       " 'PIGLET: Please.  We are doctors.',\n",
       " 'GALAHAD: Look!  This cannot be.  I am sworn to chastity.',\n",
       " 'PIGLET: Back to your bed!  At once!',\n",
       " 'GALAHAD: Torment me no longer.  I have seen the Grail!',\n",
       " \"PIGLET: There's no grail here.\",\n",
       " 'GALAHAD: I have seen it!  I have seen it! [clank] I have seen--',\n",
       " 'GIRLS: Hello.',\n",
       " 'GALAHAD: Oh.',\n",
       " 'GIRLS: Hello.  Hello.  Hello.  Hello.  Hello.  Hello.  Hello.  Hello.  Hello.  Hello.  Hello.  Hello.  Hello.  Hello.  Hello.  Hello.  Hello.  Hello.  Hello.  Hello.  Hello.  Hello.  Hello.',\n",
       " 'GALAHAD: Zoot!',\n",
       " \"DINGO: No, I am Zoot's identical twin sister, Dingo.\",\n",
       " 'GALAHAD: Oh, well, excuse me, I--',\n",
       " 'DINGO: Where are you going?',\n",
       " 'GALAHAD: I seek the Grail!  I have seen it, here in this castle!',\n",
       " 'DINGO: Oh no.  Oh, no!  Bad, bad Zoot!',\n",
       " 'GALAHAD: Well, what is it?',\n",
       " \"DINGO: Oh, wicked, bad, naughty Zoot!  She has been setting alight to our beacon, which, I have just remembered, is grail-shaped.  It's not the first time we've had this problem.\",\n",
       " \"GALAHAD: It's not the real Grail?\",\n",
       " \"DINGO: Oh, wicked, bad, naughty, evil Zoot!  She is a bad person and must pay the penalty.  Do you think this scene should have been cut?  We were so worried when the boys were writing it, but now, we're glad.  It's better than some of the previous scenes, I think.\",\n",
       " 'LEFT HEAD: At least ours was better visually.',\n",
       " \"DENNIS: Well, at least ours was committed.  It wasn't just a string of pussy jokes.\",\n",
       " 'OLD MAN: Get on with it.',\n",
       " 'TIM THE ENCHANTER: Yes, get on with it!',\n",
       " 'ARMY OF KNIGHTS: Yes, get on with it!',\n",
       " 'DINGO: Oh, I am enjoying this scene.',\n",
       " 'GOD: Get on with it!',\n",
       " 'DINGO: [sigh] Oh, wicked, wicked Zoot.  Oh, she is a naughty person, and she must pay the penalty.  And here in Castle Anthrax, we have but one punishment for setting alight the grail-shaped beacon.  You must tie her down on a bed and spank her.',\n",
       " 'GIRLS: A spanking!  A spanking!',\n",
       " 'DINGO: You must spank her well.  And after you have spanked her, you may deal with her as you like.  And then, spank me.',\n",
       " 'AMAZING: And spank me.',\n",
       " 'STUNNER: And me.',\n",
       " 'LOVELY: And me.',\n",
       " 'DINGO: Yes, yes, you must give us all a good spanking!',\n",
       " 'GIRLS: A spanking!  A spanking!  There is going to be a spanking tonight!',\n",
       " 'DINGO: And after the spanking, the oral sex.',\n",
       " 'GIRLS: The oral sex!  The oral sex!',\n",
       " 'GALAHAD: Well, I could stay a bit longer.',\n",
       " 'LAUNCELOT: Sir Galahad!',\n",
       " 'GALAHAD: Oh, hello.',\n",
       " 'LAUNCELOT: Quick!',\n",
       " 'GALAHAD: What?',\n",
       " 'LAUNCELOT: Quick!',\n",
       " 'GALAHAD: Why?',\n",
       " 'LAUNCELOT: You are in great peril!',\n",
       " \"DINGO: No he isn't.\",\n",
       " 'LAUNCELOT: Silence, foul temptress!',\n",
       " \"GALAHAD: You know, she's got a point.\",\n",
       " 'LAUNCELOT: Come on!  We will cover your escape!',\n",
       " \"GALAHAD: Look, I'm fine!\",\n",
       " 'LAUNCELOT: Come on!',\n",
       " 'GIRLS: Sir Galahad!',\n",
       " 'GALAHAD: No.  Look, I can tackle this lot single-handed!',\n",
       " 'DINGO: Yes!  Let him tackle us single-handed!',\n",
       " 'GIRLS: Yes!  Let him tackle us single-handed!',\n",
       " 'LAUNCELOT: No, Sir Galahad.  Come on!',\n",
       " 'GALAHAD: No!  Really!  Honestly, I can cope.  I can handle this lot easily.',\n",
       " 'DINGO: Oh, yes.  Let him handle us easily.',\n",
       " 'GIRLS: Yes.  Let him handle us easily.',\n",
       " 'LAUNCELOT: No.  Quick!  Quick!',\n",
       " \"GALAHAD: Please!  I can defeat them!  There's only a hundred-and-fifty of them!\",\n",
       " \"DINGO: Yes, yes!  He will beat us easily!  We haven't a chance.\",\n",
       " \"GIRLS: We haven't a chance.  He will beat us easily... [boom] \",\n",
       " 'DINGO: Oh, shit.',\n",
       " 'LAUNCELOT: We were in the nick of time.  You were in great peril.',\n",
       " \"GALAHAD: I don't think I was.\",\n",
       " 'LAUNCELOT: Yes you were.  You were in terrible peril.',\n",
       " 'GALAHAD: Look, let me go back in there and face the peril.',\n",
       " \"LAUNCELOT: No, it's too perilous.\",\n",
       " \"GALAHAD: Look, it's my duty as a knight to sample as much peril as I can.\",\n",
       " \"LAUNCELOT: No, we've got to find the Holy Grail.  Come on!\",\n",
       " 'GALAHAD: Oh, let me have just a little bit of peril?',\n",
       " \"LAUNCELOT: No.  It's unhealthy.\",\n",
       " \"GALAHAD: I bet you're gay.\",\n",
       " \"LAUNCELOT: No I'm not\",\n",
       " \"NARRATOR: Sir Launcelot had saved Sir Galahad from almost certain temptation, but they were still no nearer the Grail.  Meanwhile, King Arthur and Sir Bedevere, not more than a swallow's flight away, had discovered something.  Oh, that's an unladen swallow's flight, obviously.  I mean, they were more than two laden swallows' flights away-- four, really, if they had a coconut on a line between them.  I mean, if the birds were walking and dragging--\",\n",
       " 'CROWD: Get on with it!',\n",
       " \"NARRATOR: Oh, anyway.  On to scene twenty-four, which is a smashing scene with some lovely acting, in which Arthur discovers a vital clue, and in which there aren't any swallows, although I think you can hear a starling-- oooh\",\n",
       " 'SCENE 12:',\n",
       " 'OLD MAN: Heh, hee ha ha hee hee!  Hee hee hee ha ha ha...',\n",
       " 'ARTHUR: And this enchanter of whom you speak, he has seen the Grail?',\n",
       " 'OLD MAN: ... Ha ha ha ha!  Heh, hee ha ha hee!  Ha hee ha!  Ha ha ha ha...',\n",
       " 'ARTHUR: Where does he live?',\n",
       " 'OLD MAN: ... Heh heh heh heh...',\n",
       " 'ARTHUR: Old man, where does he live?',\n",
       " 'OLD MAN: ... Hee ha ha ha.  He knows of a cave, a cave which no man has entered.',\n",
       " 'ARTHUR: And the Grail.  The Grail is there?',\n",
       " 'OLD MAN: There is much danger, for beyond the cave lies the Gorge of Eternal Peril, which no man has ever crossed.',\n",
       " 'ARTHUR: But the Grail!  Where is the Grail?!',\n",
       " 'OLD MAN: Seek you the Bridge of Death.',\n",
       " 'ARTHUR: The Bridge of Death, which leads to the Grail?',\n",
       " 'OLD MAN: Heh, hee hee hee hee!  Ha ha ha ha ha!  Hee ha ha..',\n",
       " 'SCENE 13: [spooky music] [music stops] ',\n",
       " 'HEAD KNIGHT OF NI: Ni!',\n",
       " 'KNIGHTS OF NI: Ni!  Ni!  Ni!  Ni!  Ni!',\n",
       " 'ARTHUR: Who are you?',\n",
       " \"HEAD KNIGHT: We are the Knights Who Say...  'Ni'!\",\n",
       " 'RANDOM: Ni!',\n",
       " \"ARTHUR: No!  Not the Knights Who Say 'Ni'!\",\n",
       " 'HEAD KNIGHT: The same!',\n",
       " 'BEDEVERE: Who are they?',\n",
       " 'HEAD KNIGHT: We are the keepers of the sacred words: Ni, Peng, and Neee-wom!',\n",
       " 'RANDOM: Neee-wom!',\n",
       " 'ARTHUR: Those who hear them seldom live to tell the tale!',\n",
       " \"HEAD KNIGHT: The Knights Who Say 'Ni' demand a sacrifice!\",\n",
       " 'ARTHUR: Knights of Ni, we are but simple travellers who seek the enchanter who lives beyond these woods.',\n",
       " 'HEAD KNIGHT: Ni!',\n",
       " 'KNIGHTS OF NI: Ni!  Ni!  Ni!  Ni!  Ni! ...',\n",
       " 'ARTHUR: Ow!  Ow!  Ow!  Agh!',\n",
       " \"HEAD KNIGHT: We shall say 'ni' again to you if you do not appease us.\",\n",
       " 'ARTHUR: Well, what is it you want?',\n",
       " 'HEAD KNIGHT: We want...  a shrubbery! [dramatic chord] ',\n",
       " 'ARTHUR: A what?',\n",
       " 'KNIGHTS OF NI: Ni!  Ni!  Ni!  Ni!',\n",
       " 'ARTHUR and PARTY: Ow!  Oh!',\n",
       " 'ARTHUR: Please, please!  No more!  We will find you a shrubbery.',\n",
       " 'HEAD KNIGHT: You must return here with a shrubbery or else you will never pass through this wood alive!',\n",
       " 'ARTHUR: O Knights of Ni, you are just and fair, and we will return with a shrubbery.',\n",
       " 'HEAD KNIGHT: One that looks nice.',\n",
       " 'ARTHUR: Of course.',\n",
       " 'HEAD KNIGHT: And not too expensive.',\n",
       " 'ARTHUR: Yes.',\n",
       " 'HEAD KNIGHT: Now...  go [trumpets] ',\n",
       " 'CARTOON CHARACTER: Hmm hmm-- [boom] Oh!  Great scott!  Hm.  Hmm. [boom] Hm!  Hmm.  [mumble mumble mumble] [boom] [mumble mumble mumble] [boom] [mumble mumble mumble] [boom] [mumble mumble mumble] [boom] [mumble mumble mumble] [boom] [mumble mumble mumble] [boom] [mumble mumble mumble] [boom] [mumble mumble mumble] [boom] Ohh! [crash] [mumble mumble mumble] [boom] ',\n",
       " 'SUN: Ay, up!  Thsss. [boom] Ayy, up! [boom] Thsss. [boom] Ayy, up!',\n",
       " 'CARTOON CHARACTER: Stop that!  Stop that! [boom] ',\n",
       " 'SUN: Ay, up!',\n",
       " 'CARTOON CHARACTER: Stop that! [boom] Look on!  Clear off!  Go on!  Go away!  Go away!  Go away!  And you!  Clear off!  [sniff] ',\n",
       " 'SUN: [mumble mumble mumble] [bells] ',\n",
       " 'CARTOON CHARACTER: Hah.  Bloody weather',\n",
       " 'SCENE 14:',\n",
       " 'NARRATOR: The Tale of Sir Launcelot.',\n",
       " 'FATHER: One day, lad, all this will be yours!',\n",
       " 'PRINCE HERBERT: What, the curtains?',\n",
       " \"FATHER: No.  Not the curtains, lad.  All that you can see, stretched out over the hills and valleys of this land!  This'll be your kingdom, lad.\",\n",
       " 'HERBERT: But Mother--',\n",
       " 'FATHER: Father, lad.  Father.',\n",
       " \"HERBERT: B-- b-- but Father, I don't want any of that.\",\n",
       " \"FATHER: Listen, lad.  I built this kingdom up from nothing.  When I started here, all there was was swamp.  Other kings said I was daft to build a castle on a swamp, but I built it all the same, just to show 'em.  It sank into the swamp.  So, I built a second one.  That sank into the swamp.  So I built a third one.  That burned down, fell over, then sank into the swamp.  But the fourth one...  stayed up!  And that's what you're gonna get, lad: the strongest castle in these islands.\",\n",
       " \"HERBERT: But I don't want any of that.  I'd rather--\",\n",
       " 'FATHER: Rather what?!',\n",
       " \"HERBERT: I'd rather... [music] ... just...  sing!\",\n",
       " \"FATHER: Stop that!  Stop that!  You're not going into a song while I'm here.  Now listen, lad.  In twenty minutes you're getting married to a girl whose father owns the biggest tracts of open land in Britain.\",\n",
       " \"HERBERT: B-- but I don't want land.\",\n",
       " 'FATHER: Listen, Alice,--',\n",
       " 'HERBERT: Herbert.',\n",
       " \"FATHER: 'Erbert.  We live in a bloody swamp.  We need all the land we can get.\",\n",
       " \"HERBERT: But-- but I don't like her.\",\n",
       " \"FATHER: Don't like her?!  What's wrong with her?!  She's beautiful.  She's rich.  She's got huge...  tracts o' land.\",\n",
       " 'HERBERT: I know, but I want the-- the girl that I marry to have...  [music] ... a certain...  special...  something!',\n",
       " \"FATHER: Cut that out!  Cut that out!  Look, you're marrying Princess Lucky, so you'd better get used to the idea! [smack] Guards!  Make sure the Prince doesn't leave this room until I come and get him.\",\n",
       " 'GUARD #1: Not to leave the room even if you come and get him.',\n",
       " 'GUARD #2: Hic!',\n",
       " 'FATHER: No, no.  Until I come and get him.',\n",
       " \"GUARD #1: Until you come and get him, we're not to enter the room.\",\n",
       " \"FATHER: No, no.  No.  You stay in the room and make sure he doesn't leave.\",\n",
       " \"GUARD #1: And you'll come and get him.\",\n",
       " 'GUARD #2: Hic!',\n",
       " 'FATHER: Right.',\n",
       " \"GUARD #1: We don't need to do anything, apart from just stop him entering the room.\",\n",
       " 'FATHER: No, no.  Leaving the room.',\n",
       " 'GUARD #1: Leaving the room.  Yes. [sniff] ',\n",
       " 'FATHER: All right?',\n",
       " 'GUARD #1: Right.',\n",
       " 'GUARD #2: Hic!',\n",
       " 'FATHER: Right.',\n",
       " 'GUARD #1: Oh, if-- if-- if-- uhh-- if-- if-- w-- ehh-- i-- if-- if we--',\n",
       " 'FATHER: Yes?  What is it?',\n",
       " 'GUARD #1: Oh, i-- if-- i-- oh--',\n",
       " \"FATHER: Look, it's quite simple.\",\n",
       " 'GUARD #1: Uh...',\n",
       " \"FATHER: You just stay here, and make sure 'e doesn't leave the room.  Alright?\",\n",
       " 'GUARD #2: Hic!',\n",
       " 'FATHER: Right.',\n",
       " 'GUARD #1: Oh, I remember.  Uhh, can he leave the room with us?',\n",
       " 'FATHER: N-- no no.  No.  You just keep him in here, and make sure he--',\n",
       " \"GUARD #1: Oh, yes.  We'll keep him in here, obviously.  But if he had to leave and we were with him--\",\n",
       " 'FATHER: No, no, no, no.  Just keep him in here--',\n",
       " 'GUARD #1: Until you, or anyone else--',\n",
       " 'FATHER: No, not anyone else.  Just me.',\n",
       " 'GUARD #1: Just you.',\n",
       " 'GUARD #2: Hic!',\n",
       " 'FATHER: Get back.',\n",
       " 'GUARD #1: Get back.',\n",
       " 'FATHER: All right?',\n",
       " \"GUARD #1: Right.  We'll stay here until you get back.\",\n",
       " 'GUARD #2: Hic!',\n",
       " \"FATHER: And, uh, make sure he doesn't leave.\",\n",
       " 'GUARD #1: What?',\n",
       " \"FATHER: Make sure 'e doesn't leave.\",\n",
       " 'GUARD #1: The Prince?',\n",
       " \"FATHER: Yes.  Make sure 'e doesn't leave.\",\n",
       " 'GUARD #1: Oh, yes, of course.  ',\n",
       " 'GUARD #2: Hic!',\n",
       " \"GUARD #1: Ah.  I thought you meant him.  You know, it seemed a bit daft me havin' to guard him when he's a guard.\",\n",
       " 'FATHER: Is that clear?',\n",
       " 'GUARD #2: Hic!',\n",
       " 'GUARD #1: Oh, quite clear.  No problems.',\n",
       " 'FATHER: Right.  Where are you going?',\n",
       " \"GUARD #1: We're coming with you.\",\n",
       " \"FATHER: No, no.  I want you to stay here and make sure 'e doesn't leave.\",\n",
       " 'GUARD #1: Oh, I see.  Right.',\n",
       " 'HERBERT: But Father!',\n",
       " 'FATHER: Shut your noise, you!  And get that suit on! [music] And no singing!',\n",
       " 'GUARD #2: Hic!',\n",
       " 'FATHER: Oh, go and get a glass of water. [clank] [scribble scribble scribble fold fold] [twong]',\n",
       " 'SCENE 15:',\n",
       " 'LAUNCELOT: Well taken, Concorde!',\n",
       " 'CONCORDE: Thank you, sir!  Most kind.',\n",
       " 'LAUNCELOT: And again!  Over we go!  Good.  Steady!  And now, the big one!  Uuh!  Come on, Concorde! [thwonk] ',\n",
       " 'CONCORDE: Message for you, sir. [fwump] ',\n",
       " \"LAUNCELOT: Concorde!  Concorde!  Speak to me!  'To whoever finds this note: I have been imprisoned by my father, who wishes me to marry against my will.  Please, please, please come and rescue me.  I am in the Tall Tower of Swamp Castle.' At last!  A call!  A cry of distress!  This could be the sign that leads us to the Holy Grail!  Brave, brave Concorde, you shall not have died in vain!\",\n",
       " \"CONCORDE: Uh, I'm-- I'm not quite dead, sir.\",\n",
       " 'LAUNCELOT: Well, you shall not have been mortally wounded in vain!',\n",
       " 'CONCORDE: I-- I-- I think I c-- I could pull through, sir.',\n",
       " 'LAUNCELOT: Oh, I see.',\n",
       " \"CONCORDE: Actually, I think I'm all right to come with you, sir--\",\n",
       " 'LAUNCELOT: No, no, sweet Concorde!  Stay here!  I will send help as soon as I have accomplished a daring and heroic rescue in my own particular...  [sigh] ',\n",
       " 'CONCORDE: Idiom, sir?',\n",
       " 'LAUNCELOT: Idiom!',\n",
       " 'CONCORDE: No, I feel fine, actually, sir.',\n",
       " 'LAUNCELOT: Farewell, sweet Concorde!',\n",
       " \"CONCORDE: I'll, um, I'll just stay here then.  Shall I, sir?  Yeah\",\n",
       " 'SCENE 16: [inside castle] ',\n",
       " 'PRINCESS LUCKY and GIRLS: [giggle giggle giggle] [outside castle] ',\n",
       " \"GUEST: 'Morning!\",\n",
       " \"SENTRY #1: 'Morning.\",\n",
       " 'SENTRY #2: Oooh.',\n",
       " 'SENTRY #1: [ptoo] ',\n",
       " 'LAUNCELOT: Ha ha!  Hiyya!',\n",
       " 'SENTRY #2: Hey!',\n",
       " 'LAUNCELOT: Hiyya!, Ha!, etc.',\n",
       " 'PRINCESS LUCKY and GIRLS: [giggle giggle giggle] ',\n",
       " 'LAUNCELOT: Ha ha!  Huy!',\n",
       " 'GUESTS: Uuh!  Aaah!',\n",
       " 'LAUNCELOT: Ha ha!  And take this!  Aah!  Hiyah!  Aah!  Aaah!  Hyy!  Hya!  Hiyya!  Ha! ...',\n",
       " \"GUARD #1: Now, you're not allowed to enter the room-- aaugh!\",\n",
       " \"LAUNCELOT: O fair one, behold your humble servant Sir Launcelot of Camelot.  I have come to take y-- Oh, I'm terribly sorry.\",\n",
       " 'HERBERT: You got my note!',\n",
       " 'LAUNCELOT: Uh, well, I-- I got a-- a note.',\n",
       " \"HERBERT: You've come to rescue me!\",\n",
       " \"LAUNCELOT: Uh, well, no.  You see, I hadn't--\",\n",
       " 'HERBERT: I knew someone would.  I knew that somewhere out there...  [music] ',\n",
       " 'LAUNCELOT: Well, I--',\n",
       " 'HERBERT: ... there must be...  someone...',\n",
       " 'FATHER: Stop that!  Stop that!  Stop it!  Stop it!  Who are you?',\n",
       " \"HERBERT: I'm your son!\",\n",
       " 'FATHER: No, not you.',\n",
       " 'LAUNCELOT: Uh, I am Sir Launcelot, sir.',\n",
       " \"HERBERT: He's come to rescue me, Father.\",\n",
       " \"LAUNCELOT: Well, let's not jump to conclusions.\",\n",
       " 'FATHER: Did you kill all those guards?',\n",
       " 'LAUNCELOT: Uh...  Oh, yes.  Sorry.',\n",
       " 'FATHER: They cost fifty pounds each!',\n",
       " \"LAUNCELOT: Well, I'm awfully sorry.  Um, I really can explain everything.\",\n",
       " \"HERBERT: Don't be afraid of him, Sir Launcelot.  I've got a rope all ready.\",\n",
       " 'FATHER: You killed eight wedding guests in all!',\n",
       " 'LAUNCELOT: Well, uh, you see, the thing is, I thought your son was a lady.',\n",
       " 'FATHER: I can understand that.',\n",
       " 'HERBERT: Hurry, Sir Launcelot!  Hurry!',\n",
       " \"FATHER: Shut up!  You only killed the bride's father, that's all!\",\n",
       " \"LAUNCELOT: Well, I really didn't mean to...\",\n",
       " \"FATHER: Didn't mean to?!  You put your sword right through his head!\",\n",
       " 'LAUNCELOT: Oh, dear.  Is he all right?',\n",
       " 'FATHER: You even kicked the bride in the chest!  This is going to cost me a fortune!',\n",
       " 'LAUNCELOT: Well, I can explain.  I was in the forest, um, riding north from Camelot, when I got this note, you see--',\n",
       " 'FATHER: Camelot?  Are you from, uh, Camelot?',\n",
       " 'HERBERT: Hurry, Sir Launcelot!',\n",
       " 'LAUNCELOT: Uh, I am a Knight of King Arthur, sir.',\n",
       " 'FATHER: Very nice castle, Camelot.  Uh, very good pig country...',\n",
       " 'LAUNCELOT: Is it?',\n",
       " \"HERBERT: Hurry!  I'm ready!\",\n",
       " 'FATHER: Would you, uh, like to come and have a drink?',\n",
       " \"LAUNCELOT: Well, that-- that's, uh, awfully nice of you, ...\",\n",
       " 'HERBERT: I am ready!',\n",
       " 'LAUNCELOT: ... um, I mean to be so understanding. [thonk] Um, ... [woosh] ',\n",
       " 'HERBERT: Oooh!',\n",
       " \"LAUNCELOT: ... I'm afraid when I'm in this idiom, I sometimes get a bit, uh, sort of carried away.\",\n",
       " \"FATHER: Oh, don't worry about that.\",\n",
       " 'HERBERT: Oooh! [splat] ',\n",
       " 'SCENE 17:',\n",
       " 'GUESTS: [crying] ',\n",
       " \"FATHER: Well, this is the main hall.  We're going to have all this knocked through, and made into one big, uh, living room.\",\n",
       " 'GUEST: There he is!',\n",
       " 'FATHER: Oh, bloody hell.',\n",
       " 'LAUNCELOT: Ha ha ha!  Hey!  Ha ha!',\n",
       " 'FATHER: Hold it!  Stop it!  Hold it!  Hold it!  Hold it!  Hold it!  Hold it!  Please!',\n",
       " \"LAUNCELOT: Sorry.  Sorry.  You see what I mean?  I just get carried away.  I'm really most awfully sorry.  Sorry!  Sorry, everyone.\",\n",
       " \"GUEST #1: He's killed the best man!\",\n",
       " 'GUESTS: [yelling] ',\n",
       " 'FATHER: Hold it!  Hold it!  Please!  Hold it!  This is Sir Launcelot from the Court of Camelot, a very brave and influential knight, and my special guest here today.',\n",
       " 'LAUNCELOT: Hello.',\n",
       " 'GUEST: He killed my auntie!',\n",
       " 'GUESTS: [yelling] ',\n",
       " \"FATHER: Please!  Please!  This is supposed to be a happy occasion!  Let's not bicker and argue about who killed who.  We are here today to witness the union of two young people in the joyful bond of the holy wedlock.  Unfortunately, one of them, my son Herbert, has just fallen to his death.\",\n",
       " 'GUESTS: Oh!  Oh no!',\n",
       " \"FATHER: But I don't want to think I've not lost a son, so much as...  gained a daughter! [clap clap clap] For, since the tragic death of her father--\",\n",
       " \"GUEST #2: He's not quite dead!\",\n",
       " 'FATHER: Since the near fatal wounding of her father--',\n",
       " \"GUEST #2: He's getting better!\",\n",
       " 'FATHER: For, since her own father, who, when he seemed about to recover, suddenly felt the icy hand of death upon him.',\n",
       " \"BRIDE'S FATHER: Uugh!\",\n",
       " \"GUEST #2: Oh, he's died!\",\n",
       " 'FATHER: And I want his only daughter to look upon me as her old dad, in a very real, and legally binding sense. [clap clap clap] And I feel sure that the merger-- er, the union between the Princess and the brave, but dangerous, Sir Launcelot of Camelot--',\n",
       " 'LAUNCELOT: What?',\n",
       " 'GUEST #2: Look!  The dead Prince!',\n",
       " 'GUESTS: Oooh!  The dead Prince!',\n",
       " \"CONCORDE: He's not quite dead.\",\n",
       " 'HERBERT: No, I feel much better.',\n",
       " 'FATHER: You fell out of the Tall Tower, you creep!',\n",
       " 'HERBERT: No, I was saved at the last minute.',\n",
       " 'FATHER: How?!',\n",
       " \"HERBERT: Well, I'll tell you. [music] \",\n",
       " 'FATHER: Not like that!  Not like that!  No!  Stop it!',\n",
       " \"GUESTS: [singing] He's going to tell!  He's going to tell! ...\",\n",
       " 'FATHER: Shut uuup!',\n",
       " \"GUESTS: [singing] He's going to tell! ...\",\n",
       " 'FATHER: Shut up!',\n",
       " \"GUESTS: [singing] He's going to tell! ...\",\n",
       " 'FATHER: Shut up!',\n",
       " \"GUESTS: [singing] He's going to tell! ...\",\n",
       " 'FATHER: Not like that!',\n",
       " \"GUESTS: [singing] He's going to tell!  He's going to tell!  He's going to tell!  He's going to tell! ...\",\n",
       " 'CONCORDE: Quickly, sir!',\n",
       " \"GUESTS: [singing] He's going to tell! ...\",\n",
       " 'CONCORDE: Come this way!',\n",
       " \"GUESTS: [singing] He's going to tell!  He's going to tell! ...\",\n",
       " \"LAUNCELOT: No!  It's not right for my idiom!\",\n",
       " \"GUESTS: [singing] He's going to tell about his great escape...\",\n",
       " 'LAUNCELOT: I must escape more...  [sigh] ',\n",
       " 'GUESTS: [singing] Oh, he fell a long, long way...',\n",
       " 'CONCORDE: Dramatically, sir?',\n",
       " 'LAUNCELOT: Dramatically!',\n",
       " \"GUESTS: [singing] But he's here with us today...\",\n",
       " 'LAUNCELOT: Heee!  Hoa! [crash] Hoo!',\n",
       " 'GUESTS: [singing] What a wonderful escape!',\n",
       " 'LAUNCELOT: Excuse me.  Could, uh-- could somebody give me a push, please',\n",
       " 'SCENE 18: [King Arthur music] [clop clop clop] [rewr!  rewr!  rewr!  rewr!  rewr!  rewr!] ',\n",
       " 'ARTHUR: Old crone! [rewr!] [music stops] Is there anywhere in this town where we could buy a shrubbery? [dramatic chord] ',\n",
       " 'OLD CRONE: Who sent you?',\n",
       " \"ARTHUR: The Knights Who Say 'Ni'.\",\n",
       " 'CRONE: Aggh!  No!  Never!  We have no shrubberies here.',\n",
       " \"ARTHUR: If you do not tell us where we can buy a shrubbery, my friend and I will say...  we will say...  'ni'.\",\n",
       " 'CRONE: Agh!  Do your worst!',\n",
       " 'ARTHUR: Very well!  If you will not assist us voluntarily, ...  ni!',\n",
       " 'CRONE: No!  Never!  No shrubberies!',\n",
       " 'ARTHUR: Ni!',\n",
       " 'CRONE: [cough] ',\n",
       " 'BEDEVERE: Nu!',\n",
       " 'ARTHUR: No, no, no, no...',\n",
       " 'BEDEVERE: Nu!',\n",
       " \"ARTHUR: No, it's not that, it's 'ni'.\",\n",
       " 'BEDEVERE: Nu!',\n",
       " \"ARTHUR: No, no-- 'ni'.  You're not doing it properly.  No.\",\n",
       " 'BEDEVERE: Ni!',\n",
       " 'ARTHUR and BEDEVERE: Ni!',\n",
       " \"ARTHUR: That's it.  That's it.  You've got it.\",\n",
       " 'ARTHUR and BEDEVERE: Ni!',\n",
       " 'CRONE: Ohh!',\n",
       " 'BEDEVERE: Ni!',\n",
       " 'ARTHUR: Ni!',\n",
       " 'CRONE: Agh!',\n",
       " 'BEDEVERE: Ni!',\n",
       " 'ARTHUR: Ni!',\n",
       " 'BEDEVERE: Ni!',\n",
       " 'ARTHUR: Ni!',\n",
       " 'BEDEVERE: Ni!',\n",
       " \"ROGER THE SHRUBBER: Are you saying 'ni' to that old woman?\",\n",
       " 'ARTHUR: Erm, yes.',\n",
       " \"ROGER: Oh, what sad times are these when passing ruffians can 'ni' at will to old ladies.  There is a pestilence upon this land.  Nothing is sacred. Even those who arrange and design shrubberies are under considerable economic stress at this period in history.\",\n",
       " \"ARTHUR: Did you say 'shrubberies'?\",\n",
       " 'ROGER: Yes.  Shrubberies are my trade.  I am a shrubber.  My name is Roger the Shrubber.  I arrange, design, and sell shrubberies.',\n",
       " 'BEDEVERE: Ni!',\n",
       " 'ARTHUR: No!  No, no, no!  No',\n",
       " 'SCENE 19:',\n",
       " 'ARTHUR: O Knights of Ni, we have brought you your shrubbery.  May we go now?',\n",
       " 'HEAD KNIGHT: It is a good shrubbery.  I like the laurels particularly.  But there is one small problem.',\n",
       " 'ARTHUR: What is that?',\n",
       " \"HEAD KNIGHT: We are now...  no longer the Knights Who Say 'Ni'.\",\n",
       " 'KNIGHTS OF NI: Ni!  Shh!',\n",
       " \"HEAD KNIGHT: Shh!  We are now the Knights Who Say 'Ecky-ecky-ecky-ecky-pikang-zoop-boing-goodem-zoo-owli-zhiv'.\",\n",
       " 'RANDOM: Ni!',\n",
       " 'HEAD KNIGHT: Therefore, we must give you a test.',\n",
       " \"ARTHUR: What is this test, O Knights of-- Knights Who 'Til Recently Said 'Ni'?\",\n",
       " 'HEAD KNIGHT: Firstly, you must find...  another shrubbery! [dramatic chord] ',\n",
       " 'ARTHUR: Not another shrubbery!',\n",
       " 'RANDOM: Ni!',\n",
       " 'HEAD KNIGHT: Then, when you have found the shrubbery, you must place it here beside this shrubbery, only slightly higher so you get the two-level effect with a little path running down the middle.',\n",
       " 'KNIGHTS OF NI: A path!  A path!  A path!  Ni!  Shh!  Ni!  Ni!  Ni!  Shh!  Shh! ...',\n",
       " 'HEAD KNIGHT: Then, when you have found the shrubbery, you must cut down the mightiest tree in the forest...  with...  a herring! [dramatic chord] ',\n",
       " 'ARTHUR: We shall do no such thing!',\n",
       " 'HEAD KNIGHT: Oh, please!',\n",
       " \"ARTHUR: Cut down a tree with a herring?  It can't be done.\",\n",
       " 'KNIGHTS OF NI: Aaaugh!  Aaaugh!',\n",
       " \"HEAD KNIGHT: Augh!  Ohh!  Don't say that word.\",\n",
       " 'ARTHUR: What word?',\n",
       " 'HEAD KNIGHT: I cannot tell, suffice to say is one of the words the Knights of Ni cannot hear.',\n",
       " \"ARTHUR: How can we not say the word if you don't tell us what it is?\",\n",
       " 'KNIGHTS OF NI: Aaaaugh!',\n",
       " 'HEAD KNIGHT: You said it again!',\n",
       " \"ARTHUR: What, 'is'?\",\n",
       " \"KNIGHTS OF NI: Agh!  No, not 'is'.\",\n",
       " \"HEAD KNIGHT: No, not 'is'.  You wouldn't get vary far in life not saying 'is'.\",\n",
       " \"KNIGHTS OF NI: No, not 'is'.  Not 'is'.\",\n",
       " \"BEDEVERE: My liege, it's Sir Robin!\",\n",
       " 'MINSTREL: [singing] Packing it in and packing it up, And sneaking away and buggering up, And chickening out and pissing off home, Yes, bravely he is throwing in the sponge.',\n",
       " 'ARTHUR: Sir Robin!',\n",
       " \"ROBIN: My liege!  It's good to see you.\",\n",
       " \"HEAD KNIGHT: Now he's said the word!  \",\n",
       " \"ARTHUR: Surely you've not given up your quest for the Holy Grail?\",\n",
       " 'MINSTREL: [singing] He is sneaking away and buggering up--',\n",
       " 'ROBIN: Shut up!  No, no.  No.  Far from it.',\n",
       " 'HEAD KNIGHT: He said the word again!',\n",
       " 'KNIGHTS OF NI: Aaaaugh!',\n",
       " 'ROBIN: I was looking for it.',\n",
       " 'KNIGHTS OF NI: Aaaaugh!',\n",
       " 'ROBIN: Uh, here-- here in this forest.',\n",
       " 'ARTHUR: No, it is far from this place.',\n",
       " 'KNIGHTS OF NI: Aaaaugh!',\n",
       " 'HEAD KNIGHT: Aaaaugh!  Stop saying the word!  The word...',\n",
       " 'ARTHUR: Oh, stop it!',\n",
       " 'KNIGHTS OF NI: ... we cannot hear!',\n",
       " 'HEAD KNIGHT: Ow!  He said it again!',\n",
       " 'ARTHUR: Patsy!',\n",
       " \"HEAD KNIGHT: Wait!  I said it!  I said it! [clop clop clop] Ooh!  I said it again!  And there again!  That's three 'it's!  Ohh!\",\n",
       " 'KNIGHTS OF NI: Aaaaugh',\n",
       " 'NARRATOR: And so, Arthur and Bedevere and Sir Robin set out on their search to find the enchanter of whom the old man had spoken in scene twenty-four.  Beyond the forest they met Launcelot and Galahad, and there was much rejoicing.',\n",
       " 'KNIGHTS: Yay!  Yay! [woosh] ',\n",
       " \"NARRATOR: In the frozen land of Nador, they were forced to eat Robin's minstrels.\",\n",
       " 'MINSTREL: [high-pitched] Get back!  Eee!',\n",
       " 'NARRATOR: And there was much rejoicing.',\n",
       " 'KNIGHTS: Yay!',\n",
       " 'NARRATOR: A year passed.',\n",
       " 'CARTOON CHARACTER: [shivering] ',\n",
       " 'NARRATOR: Winter changed into Spring.',\n",
       " 'CARTOON CHARACTER: Mmm, nice.',\n",
       " 'NARRATOR: Spring changed into Summer.',\n",
       " 'CARTOON CHARACTER: Oh.  Ahh.',\n",
       " 'NARRATOR: Summer changed back into Winter.',\n",
       " 'CARTOON CHARACTER: Oh?',\n",
       " 'NARRATOR: And Winter gave Spring and Summer a miss and went straight on into Autumn.',\n",
       " 'CARTOON CHARACTER: Aah. [snap] Oh!  Waa!',\n",
       " 'NARRATOR: Until one day..',\n",
       " 'SCENE 20: [King Arthur music] [clop clop clop] [music stops] [boom] ',\n",
       " 'KNIGHTS: Eh.  Oh.  See it?  Oh.  Oh.',\n",
       " 'ARTHUR: Knights!  Forward! [boom boom boom boom boom] [squeak] [boom boom boom boom] What manner of man are you that can summon up fire without flint or tinder?',\n",
       " 'TIM THE ENCHANTER: I...  am an enchanter.',\n",
       " 'ARTHUR: By what name are you known?',\n",
       " 'TIM: There are some who call me...  Tim?',\n",
       " 'ARTHUR: Greetings, Tim the Enchanter.',\n",
       " 'TIM: Greetings, King Arthur!',\n",
       " 'ARTHUR: You know my name?',\n",
       " 'TIM: I do. [zoosh] You seek the Holy Grail!',\n",
       " 'ARTHUR: That is our quest.  You know much that is hidden, O Tim.',\n",
       " 'TIM: Quite. [pweeng boom] [clap clap clap] ',\n",
       " 'ROBIN: Oh.',\n",
       " \"ARTHUR: Yes, we're-- we're looking for the Holy Grail.  Our quest is to find the Holy Grail.\",\n",
       " 'KNIGHTS: Yeah.  Yes.  It is.  It is.  Yeah.  Yup.  Yup.  Hm.',\n",
       " \"ARTHUR: And so we're-- we're-- we're-- we're looking for it.\",\n",
       " 'BEDEVERE: Yes, we are.',\n",
       " 'GALAHAD: Yeah.  ',\n",
       " 'ROBIN: We are.  We are.',\n",
       " 'BEDEVERE: We have been for some time.',\n",
       " 'ROBIN: Ages.',\n",
       " 'BEDEVERE: Umhm.',\n",
       " 'ARTHUR: Uh-- uh, so, uh, anything that you could do to, uh-- to help, would be...  very...  helpful.',\n",
       " 'GALAHAD: Look, can you tell us where-- [boom] ',\n",
       " \"ARTHUR: Fine.  Um, I don't want to waste any more of your time, but, uh, I don't suppose you could, uh, tell us where we might find a, um-- find a, uh-- a, um-- a, uh--\",\n",
       " 'TIM: A what...?',\n",
       " 'ARTHUR: A g-- a-- a g-- a g-- a-- a g--',\n",
       " 'TIM: A grail?!',\n",
       " 'ARTHUR: Yes, I think so.',\n",
       " 'ROBIN: Y-- y-- yes.',\n",
       " 'ARTHUR: Yes.',\n",
       " 'GALAHAD: Yup.',\n",
       " \"KNIGHTS: That's it...\",\n",
       " 'TIM: Yes!',\n",
       " 'ROBIN: Oh.',\n",
       " 'ARTHUR: Oh.  Thank you.',\n",
       " 'ROBIN: Ahh.',\n",
       " 'GALAHAD: Oh.  Fine.',\n",
       " 'ARTHUR: Thank you.',\n",
       " 'ROBIN: Splendid.',\n",
       " 'KNIGHTS: Aah... [boom pweeng boom boom] ',\n",
       " \"ARTHUR: Look, um, you're a busy man, uh--\",\n",
       " 'TIM: Yes, I can help you find the Holy Grail.',\n",
       " 'KNIGHTS: Oh, thank you.  Oh...',\n",
       " 'TIM: To the north there lies a cave-- the cave of Caerbannog-- wherein, carved in mystic runes upon the very living rock, the last words of Olfin Bedwere of Rheged... [boom] ... make plain the last resting place of the most Holy Grail.',\n",
       " 'ARTHUR: Where could we find this cave, O Tim?',\n",
       " 'TIM: Follow.  But!  Follow only if ye be men of valor, for the entrance to this cave is guarded by a creature so foul, so cruel that no man yet has fought with it and lived!  Bones of full fifty men lie strewn about its lair.  So, brave knights, if you do doubt your courage or your strength, come no further, for death awaits you all with nasty, big, pointy teeth.',\n",
       " 'ARTHUR: What an eccentric performance',\n",
       " 'SCENE 21: [clop clop clop] [whinny whinny] ',\n",
       " \"GALAHAD: They're nervous, sire.\",\n",
       " \"ARTHUR: Then we'd best leave them here and carry on on foot.  Dis-mount!\",\n",
       " 'TIM: Behold the cave of Caerbannog!',\n",
       " 'ARTHUR: Right!  Keep me covered.',\n",
       " 'GALAHAD: What with?',\n",
       " 'ARTHUR: W-- just keep me covered.',\n",
       " 'TIM: Too late! [dramatic chord] ',\n",
       " 'ARTHUR: What?',\n",
       " 'TIM: There he is!',\n",
       " 'ARTHUR: Where?',\n",
       " 'TIM: There!',\n",
       " 'ARTHUR: What, behind the rabbit?',\n",
       " 'TIM: It is the rabbit!',\n",
       " 'ARTHUR: You silly sod!',\n",
       " 'TIM: What?',\n",
       " 'ARTHUR: You got us all worked up!',\n",
       " \"TIM: Well, that's no ordinary rabbit.\",\n",
       " 'ARTHUR: Ohh.',\n",
       " \"TIM: That's the most foul, cruel, and bad-tempered rodent you ever set eyes on.\",\n",
       " 'ROBIN: You tit!  I soiled my armor I was so scared!',\n",
       " \"TIM: Look, that rabbit's got a vicious streak a mile wide; it's a killer!\",\n",
       " 'GALAHAD: Get stuffed!',\n",
       " \"TIM: He'll do you up a treat mate!\",\n",
       " 'GALAHAD: Oh, yeah?',\n",
       " 'ROBIN: You mangy scots git!',\n",
       " \"TIM: I'm warning you!\",\n",
       " \"ROBIN: What's he do, nibble your bum?\",\n",
       " \"TIM: He's got huge, sharp-- eh-- he can leap about-- look at the bones!\",\n",
       " 'ARTHUR: Go on, Bors.  Chop his head off!',\n",
       " \"BORS: Right!  Silly little bleeder.  One rabbit stew comin' right up!\",\n",
       " 'TIM: Look! [squeak] ',\n",
       " 'BORS: Aaaugh! [dramatic chord] [clunk] ',\n",
       " 'ARTHUR: Jesus Christ!',\n",
       " 'TIM: I warned you!',\n",
       " 'ROBIN: I done it again!',\n",
       " \"TIM: I warned you, but did you listen to me?  Oh, no, you knew it all, didn't you?  Oh, it's just a harmless little bunny, isn't it?  Well, it's always the same.  I always tell them--\",\n",
       " 'ARTHUR: Oh, shut up!',\n",
       " ...]"
      ]
     },
     "execution_count": 18,
     "metadata": {
      "tags": []
     },
     "output_type": "execute_result"
    }
   ],
   "source": [
    "test2.split('\\n')"
   ]
  },
  {
   "cell_type": "markdown",
   "metadata": {
    "id": "oOydt6Gfl4ar"
   },
   "source": [
    "Test the performance of grail.txt on our trained model"
   ]
  },
  {
   "cell_type": "code",
   "execution_count": 19,
   "metadata": {
    "id": "Vbl_LywXRfUF"
   },
   "outputs": [],
   "source": [
    "other_corpus = dictionary.doc2bow(preprocess(test2))\n",
    "\n",
    "vector = lda_model[other_corpus]"
   ]
  },
  {
   "cell_type": "code",
   "execution_count": 20,
   "metadata": {
    "colab": {
     "base_uri": "https://localhost:8080/"
    },
    "id": "gPfhEylSTD2J",
    "outputId": "20f32e8c-461d-4ed4-ac59-c9d8163da93b"
   },
   "outputs": [
    {
     "name": "stdout",
     "output_type": "stream",
     "text": [
      "[(0, 0.24040693), (1, 0.17126565), (2, 0.046760492), (3, 0.51869595), (4, 0.022870982)]\n"
     ]
    }
   ],
   "source": [
    "print(vector)"
   ]
  },
  {
   "cell_type": "code",
   "execution_count": null,
   "metadata": {
    "id": "UQUWj4zwz9KX"
   },
   "outputs": [],
   "source": [
    "print(test2)"
   ]
  },
  {
   "cell_type": "code",
   "execution_count": 21,
   "metadata": {
    "colab": {
     "base_uri": "https://localhost:8080/"
    },
    "id": "AAcjzw931Q5J",
    "outputId": "c193fa94-d4d1-45b2-8cf8-ebfe56741bfc"
   },
   "outputs": [
    {
     "data": {
      "text/plain": [
       "str"
      ]
     },
     "execution_count": 21,
     "metadata": {
      "tags": []
     },
     "output_type": "execute_result"
    }
   ],
   "source": [
    "type(test2)"
   ]
  },
  {
   "cell_type": "markdown",
   "metadata": {
    "id": "qolpdEUpmX5u"
   },
   "source": [
    "Note that most of the words are classified in the 4th topic and very less words are classified in 5th topic. "
   ]
  },
  {
   "cell_type": "code",
   "execution_count": 22,
   "metadata": {
    "colab": {
     "base_uri": "https://localhost:8080/"
    },
    "id": "CGgpFzYMxyl5",
    "outputId": "5da2eb03-489e-45e9-845f-bb075c86fe32"
   },
   "outputs": [
    {
     "name": "stdout",
     "output_type": "stream",
     "text": [
      "Score: 0.5186960101127625\t Topic: 0.036*\"model\" + 0.035*\"generat\" + 0.027*\"train\" + 0.015*\"distribut\" + 0.013*\"adversari\"\n",
      "Score: 0.24040697515010834\t Topic: 0.019*\"sampl\" + 0.018*\"generat\" + 0.015*\"adversari\" + 0.014*\"discrimin\" + 0.014*\"model\"\n",
      "Score: 0.17126554250717163\t Topic: 0.024*\"train\" + 0.023*\"pdata\" + 0.020*\"learn\" + 0.020*\"model\" + 0.014*\"generat\"\n",
      "Score: 0.04676049202680588\t Topic: 0.019*\"generat\" + 0.014*\"network\" + 0.012*\"deep\" + 0.012*\"function\" + 0.011*\"convex\"\n",
      "Score: 0.022870982065796852\t Topic: 0.036*\"model\" + 0.028*\"generat\" + 0.018*\"sampl\" + 0.013*\"deep\" + 0.011*\"train\"\n"
     ]
    }
   ],
   "source": [
    "# Data preprocessing step for the unseen document\n",
    "bow_vector = dictionary.doc2bow(preprocess(test2))\n",
    "\n",
    "for index, score in sorted(lda_model[bow_vector], key=lambda tup: -1*tup[1]):\n",
    "    print(\"Score: {}\\t Topic: {}\".format(score, lda_model.print_topic(index, 5)))"
   ]
  },
  {
   "cell_type": "markdown",
   "metadata": {
    "id": "DAHfLDXGl_CU"
   },
   "source": [
    "Open the next test document, style-gan"
   ]
  },
  {
   "cell_type": "code",
   "execution_count": 23,
   "metadata": {
    "colab": {
     "base_uri": "https://localhost:8080/"
    },
    "id": "y7jJDI0d0-FH",
    "outputId": "0564b6d4-e0f9-4bf3-bae9-acc4cc10e2fb"
   },
   "outputs": [
    {
     "name": "stdout",
     "output_type": "stream",
     "text": [
      "<class 'str'>\n"
     ]
    }
   ],
   "source": [
    "f2 = open(\"style-gan.txt\", \"r\")\n",
    "test1 = f2.read()\n",
    "print(type(test1))"
   ]
  },
  {
   "cell_type": "markdown",
   "metadata": {
    "id": "ctQpvMhJmFV3"
   },
   "source": [
    "Test the performance on our trained model"
   ]
  },
  {
   "cell_type": "code",
   "execution_count": 24,
   "metadata": {
    "colab": {
     "base_uri": "https://localhost:8080/"
    },
    "id": "gjl7glLk1gGf",
    "outputId": "1a5b39bf-d27a-4852-8266-b46e09608c6d"
   },
   "outputs": [
    {
     "name": "stdout",
     "output_type": "stream",
     "text": [
      "Score: 0.3853776454925537\t Topic: 0.036*\"model\" + 0.035*\"generat\" + 0.027*\"train\" + 0.015*\"distribut\" + 0.013*\"adversari\"\n",
      "Score: 0.2775808870792389\t Topic: 0.024*\"train\" + 0.023*\"pdata\" + 0.020*\"learn\" + 0.020*\"model\" + 0.014*\"generat\"\n",
      "Score: 0.180592343211174\t Topic: 0.036*\"model\" + 0.028*\"generat\" + 0.018*\"sampl\" + 0.013*\"deep\" + 0.011*\"train\"\n",
      "Score: 0.12912648916244507\t Topic: 0.019*\"sampl\" + 0.018*\"generat\" + 0.015*\"adversari\" + 0.014*\"discrimin\" + 0.014*\"model\"\n",
      "Score: 0.02732263319194317\t Topic: 0.019*\"generat\" + 0.014*\"network\" + 0.012*\"deep\" + 0.012*\"function\" + 0.011*\"convex\"\n"
     ]
    }
   ],
   "source": [
    "# Data preprocessing step for the unseen document\n",
    "bow_vector2 = dictionary.doc2bow(preprocess(test1))\n",
    "\n",
    "for index, score in sorted(lda_model[bow_vector2], key=lambda tup: -1*tup[1]):\n",
    "    print(\"Score: {}\\t Topic: {}\".format(score, lda_model.print_topic(index, 5)))"
   ]
  },
  {
   "cell_type": "markdown",
   "metadata": {
    "id": "7B_ZIuPsmtvT"
   },
   "source": [
    "Here we notice that the words are evenly distributed in all topics since the training document was similar to the test document"
   ]
  }
 ],
 "metadata": {
  "accelerator": "GPU",
  "colab": {
   "name": "LDA.ipynb",
   "provenance": []
  },
  "kernelspec": {
   "display_name": "Python 3",
   "language": "python",
   "name": "python3"
  },
  "language_info": {
   "codemirror_mode": {
    "name": "ipython",
    "version": 3
   },
   "file_extension": ".py",
   "mimetype": "text/x-python",
   "name": "python",
   "nbconvert_exporter": "python",
   "pygments_lexer": "ipython3",
   "version": "3.7.6"
  }
 },
 "nbformat": 4,
 "nbformat_minor": 1
}
